{
 "cells": [
  {
   "cell_type": "code",
   "execution_count": null,
   "metadata": {
    "collapsed": true
   },
   "outputs": [],
   "source": [
    "Na dnešní hodině budeme pracovat s důležitou vlastností listu, tzv. list comprehension. Nejdříve je však potřeba vysvětlit klasické smyčky (for loops)."
   ]
  },
  {
   "cell_type": "code",
   "execution_count": null,
   "metadata": {
    "collapsed": true
   },
   "outputs": [],
   "source": [
    "Pokud bych měl list, u kterého provést určitou operaci s každým elementem, tak to můžu udělat následnovně."
   ]
  },
  {
   "cell_type": "code",
   "execution_count": 9,
   "metadata": {
    "collapsed": false
   },
   "outputs": [
    {
     "name": "stdout",
     "output_type": "stream",
     "text": [
      "[1, 4, 9, 16, 25]\n"
     ]
    }
   ],
   "source": [
    "L=[1,2,3,4,5]\n",
    "for i in range(len(L)): # v tomto řádku se nejprve evaluuje výraz len(L), jehož výsledek je 5 a potom se evaluuje výraz range(5)\n",
    "    L[i]=L[i]**2  # každý element umocním na druhou.\n",
    "print(L)"
   ]
  },
  {
   "cell_type": "code",
   "execution_count": null,
   "metadata": {
    "collapsed": true
   },
   "outputs": [],
   "source": [
    "List comprehension je jiná syntaxe, jak dosáhnout stejného cíle."
   ]
  },
  {
   "cell_type": "markdown",
   "metadata": {},
   "source": [
    "## List comprehensions: vytváření listů pomocí for smyček\n",
    "Jednoduchý způsob jak inicializovat list je skrze list comprehension. List comprehension je analogií matematického formalismu pro definování množin. Na příklad:  \n",
    "$$ L=\\lbrace x^2 : x \\in \\lbrace 0, 1, 2, 3, 4\\rbrace \\rbrace.$$  \n",
    "Se v pythonu zapíše jako:\n",
    "    "
   ]
  },
  {
   "cell_type": "code",
   "execution_count": 3,
   "metadata": {
    "collapsed": false
   },
   "outputs": [
    {
     "name": "stdout",
     "output_type": "stream",
     "text": [
      "[0, 1, 4, 9, 16]\n"
     ]
    }
   ],
   "source": [
    "L = [x**2 for x in range(0,5)]\n",
    "\n",
    "print(L)"
   ]
  },
  {
   "cell_type": "markdown",
   "metadata": {},
   "source": [
    "Také je možno zakombinovat různé podmínky. Na příklad:  \n",
    "$$S = \\lbrace x : x \\in L \\text{ and } x > 0\\rbrace.$$\n",
    "Lze zapsat pomocí:        "
   ]
  },
  {
   "cell_type": "code",
   "execution_count": 4,
   "metadata": {
    "collapsed": false
   },
   "outputs": [
    {
     "name": "stdout",
     "output_type": "stream",
     "text": [
      "[1, 4, 9, 16]\n"
     ]
    }
   ],
   "source": [
    "S=[x for x in L if x>0]\n",
    "print(S)"
   ]
  },
  {
   "cell_type": "markdown",
   "metadata": {},
   "source": [
    "Další příklad:  \n",
    "$$ M = \\lbrace x : x \\in S \\text{ and } x \\text{ even} \\rbrace$$    "
   ]
  },
  {
   "cell_type": "code",
   "execution_count": 6,
   "metadata": {
    "collapsed": true
   },
   "outputs": [],
   "source": [
    "M = [x for x in S if x % 2 == 0] # % je operátor pro modulus"
   ]
  },
  {
   "cell_type": "markdown",
   "metadata": {},
   "source": [
    "Také je možno kombinovat dvě smyčky dohromady:  \n",
    "$$\\lbrace (x,y) : \\forall x \\in \\lbrace 1, 2\\rbrace, \\forall y \\in \\lbrace 1, 2\\rbrace \\rbrace$$"
   ]
  },
  {
   "cell_type": "code",
   "execution_count": 7,
   "metadata": {
    "collapsed": false
   },
   "outputs": [
    {
     "data": {
      "text/plain": [
       "[(1, 1), (1, 2), (2, 1), (2, 2)]"
      ]
     },
     "execution_count": 7,
     "metadata": {},
     "output_type": "execute_result"
    }
   ],
   "source": [
    "[(x,y) for x in [1,2] for y in [1,2]]"
   ]
  },
  {
   "cell_type": "markdown",
   "metadata": {},
   "source": [
    "Další příklad:\n",
    "$$\\lbrace (x,y) : x \\in \\lbrace 1, 2, 3\\rbrace, y \\in \\lbrace 1, 3, 4\\rbrace \\text{ and } x\\neq y \\rbrace $$    "
   ]
  },
  {
   "cell_type": "code",
   "execution_count": 27,
   "metadata": {
    "collapsed": false
   },
   "outputs": [
    {
     "name": "stdout",
     "output_type": "stream",
     "text": [
      "10000 loops, best of 3: 1.26 µs per loop\n",
      "[(1, 3), (1, 4), (2, 3), (2, 1), (2, 4), (3, 1), (3, 4)]\n"
     ]
    }
   ],
   "source": [
    "mylist1=[(x, y) for x in [1,2,3] for y in [3,1,4] if x != y]\n",
    "print(mylist1)"
   ]
  },
  {
   "cell_type": "markdown",
   "metadata": {},
   "source": [
    "Pomocí klasických smyček by to šlo realizovat takto:"
   ]
  },
  {
   "cell_type": "code",
   "execution_count": 42,
   "metadata": {
    "collapsed": false
   },
   "outputs": [
    {
     "name": "stdout",
     "output_type": "stream",
     "text": [
      "10000 loops, best of 3: 2.64 µs per loop\n"
     ]
    }
   ],
   "source": [
    "mylist2=[]\n",
    "for x in [1,2,3]:\n",
    "    for y in [3,1,4]:\n",
    "        if x!=y:\n",
    "            mylist2.append((x,y))\n",
    "mylist2"
   ]
  },
  {
   "cell_type": "markdown",
   "metadata": {},
   "source": [
    "## Měření rychlosti kódu\n",
    "V jupyter notebooku (prostředí, ve kterém se právě nacházíme) existují tzv. magic functions, které poskytují mnoho užitečných funkcí.  \n",
    "Jedna z nich je funkce %timeit, která měří výpočetní čas daného výrazu.  \n",
    "Funkce %%timeit (s dvěma %) měří výpočetní čas celé buňky, na rozdíl od výpočetního času výrazu, který je na jednom řádku.\n",
    "Obě tyto funkce mají volitelný argument, kterým se nastaví, kolikrát se má měření provézt. Vysledek je pak průměr přes všechny měření. %timeit -n 1000 znamená že se měření provede 1000 krát."
   ]
  },
  {
   "cell_type": "code",
   "execution_count": 68,
   "metadata": {
    "collapsed": false
   },
   "outputs": [
    {
     "name": "stdout",
     "output_type": "stream",
     "text": [
      "10000 loops, best of 3: 2.34 µs per loop\n"
     ]
    }
   ],
   "source": [
    "%timeit -n 10000 L = [x**2 for x in range(0,5)]"
   ]
  },
  {
   "cell_type": "markdown",
   "metadata": {},
   "source": [
    "## Cvičení\n",
    "Pomocí %timeit změřte výpočetní čas pro vytvoření listu mylist1 a pomocí %%timeit pro vytvoření listu mylist2. Je jedna z verzí rychlejší?"
   ]
  },
  {
   "cell_type": "code",
   "execution_count": null,
   "metadata": {
    "collapsed": true
   },
   "outputs": [],
   "source": []
  },
  {
   "cell_type": "markdown",
   "metadata": {},
   "source": [
    "Také je možno vnořit jeden list comprehension do druhého. Cvičení: popište co provede následující kód.\n"
   ]
  },
  {
   "cell_type": "code",
   "execution_count": null,
   "metadata": {
    "collapsed": true
   },
   "outputs": [],
   "source": [
    "mylist1=[x+1 for x in [y**3 for y in [-3,1,4]] if x > 0]\n",
    "mylist1"
   ]
  },
  {
   "cell_type": "markdown",
   "metadata": {},
   "source": [
    "Následující kód provede to samé, akorát pomocí for smyček."
   ]
  },
  {
   "cell_type": "code",
   "execution_count": null,
   "metadata": {
    "collapsed": true
   },
   "outputs": [],
   "source": [
    "M=[]\n",
    "for y in [-3,1,4]:\n",
    "    temp=y**3\n",
    "    M.append(temp)\n",
    "print M ## this is like the set written in the formulas above\n",
    "\n",
    "mylist1=[]\n",
    "for x in M:\n",
    "    if x>0:\n",
    "        mylist1.append(x+1)\n",
    "print mylist1"
   ]
  },
  {
   "cell_type": "markdown",
   "metadata": {},
   "source": [
    "Zde je matematický zápis:\n",
    "$$M=\\lbrace y^3 : y \\in \\lbrace -3, 1, 4\\rbrace \\rbrace$$\n",
    "$$\\text{mylist1}= \\lbrace x+1 : x \\in M \\text{ and } x>0 \\rbrace.$$"
   ]
  },
  {
   "cell_type": "code",
   "execution_count": null,
   "metadata": {
    "collapsed": true
   },
   "outputs": [],
   "source": [
    "List comprehension lze použít pro jakýkoliv datový typ. Následující příklad používá řetězec."
   ]
  },
  {
   "cell_type": "code",
   "execution_count": 69,
   "metadata": {
    "collapsed": false
   },
   "outputs": [
    {
     "name": "stdout",
     "output_type": "stream",
     "text": [
      "['HELLO!!!']\n"
     ]
    }
   ],
   "source": [
    "strs = ['hello', 'and', 'goodbye']\n",
    "strs2 = [ s.upper()+'!!!' for s in strs if s=='hello']\n",
    "print(strs2)"
   ]
  },
  {
   "cell_type": "code",
   "execution_count": 70,
   "metadata": {
    "collapsed": false
   },
   "outputs": [
    {
     "name": "stdout",
     "output_type": "stream",
     "text": [
      "['jablko', 'banán']\n"
     ]
    }
   ],
   "source": [
    "ovoce = ['jablko', 'třešeň', 'banán', 'citrón']\n",
    "ovoce_s_a = [ s for s in ovoce if 'a' in s ]\n",
    "print(ovoce_s_a)"
   ]
  },
  {
   "cell_type": "markdown",
   "metadata": {},
   "source": [
    "## Cvičení\n",
    "Vyberte všechny ovoce, které obsahují písmeno n a změnte je na velká písmena."
   ]
  },
  {
   "cell_type": "markdown",
   "metadata": {},
   "source": [
    "## Třízení listu\n",
    "Nejjednodušší způsob jak utřídit list je pomocí funkce sorted()"
   ]
  },
  {
   "cell_type": "code",
   "execution_count": 74,
   "metadata": {
    "collapsed": false
   },
   "outputs": [
    {
     "name": "stdout",
     "output_type": "stream",
     "text": [
      "[1, 3, 4, 5]\n"
     ]
    }
   ],
   "source": [
    "a = [5, 1, 4, 3]\n",
    "print(sorted(a))"
   ]
  },
  {
   "cell_type": "markdown",
   "metadata": {},
   "source": [
    "funkce sorted() má volitelný argument, který lze použít pokud chci list uspořád v opačném pořadí."
   ]
  },
  {
   "cell_type": "code",
   "execution_count": 76,
   "metadata": {
    "collapsed": false,
    "scrolled": true
   },
   "outputs": [
    {
     "name": "stdout",
     "output_type": "stream",
     "text": [
      "['BB', 'CC', 'aa', 'zz']\n",
      "['zz', 'aa', 'CC', 'BB']\n"
     ]
    }
   ],
   "source": [
    "mystrs = ['aa', 'BB', 'zz', 'CC']\n",
    "print(sorted(mystrs))\n",
    "print(sorted(mystrs, reverse=True))"
   ]
  },
  {
   "cell_type": "markdown",
   "metadata": {},
   "source": [
    "## Vlastní typ třízení\n",
    "Pro vlastní typ třízení lze u funkce sorted() využít volitelný argument \"key\". Argument key specifikuje funkci, která slouží pro provnávání elementů. Můžu použít jakoukoliv funkci, která má jeden argument a vrací hodnotu, která může sloužit k porovnávání.  \n",
    "  \n",
    "Například i listu řetězců můžeme použít funkci len(), která má jeden argument (samotný řetězec len(\"ahoj\")) a vratí délku řetězce. Tato délka je použita k porovnání řetězců a jejich následného setřízení."
   ]
  },
  {
   "cell_type": "code",
   "execution_count": 78,
   "metadata": {
    "collapsed": false
   },
   "outputs": [
    {
     "name": "stdout",
     "output_type": "stream",
     "text": [
      "['d', 'bb', 'ccc', 'aaaa']\n"
     ]
    }
   ],
   "source": [
    "strs = ['ccc', 'aaaa', 'd', 'bb']\n",
    "print(sorted(strs, key=len))  # pozor!!! používám jen název funkce (len) a ne len(), což by znamenalo, že se má funkce provézt."
   ]
  },
  {
   "cell_type": "markdown",
   "metadata": {},
   "source": [
    "Jako další příklad. Pokud použiji funkci str.lower() pro třízení, tak se mi řetezce utřídí podle abecedy, bez ohledu na velké a malé písmena."
   ]
  },
  {
   "cell_type": "code",
   "execution_count": 80,
   "metadata": {
    "collapsed": false,
    "scrolled": true
   },
   "outputs": [
    {
     "name": "stdout",
     "output_type": "stream",
     "text": [
      "['aAaa', 'bb', 'ccc', 'D']\n"
     ]
    }
   ],
   "source": [
    "strs2=['ccc', 'aAaa', 'D', 'bb']\n",
    "print(sorted(strs2, key=str.lower))"
   ]
  },
  {
   "cell_type": "code",
   "execution_count": null,
   "metadata": {
    "collapsed": true
   },
   "outputs": [],
   "source": [
    "K třízení můžeme použít i vlastní funkci"
   ]
  },
  {
   "cell_type": "code",
   "execution_count": 81,
   "metadata": {
    "collapsed": false,
    "scrolled": true
   },
   "outputs": [
    {
     "name": "stdout",
     "output_type": "stream",
     "text": [
      "['wa', 'zb', 'xc', 'yd']\n"
     ]
    }
   ],
   "source": [
    "strs = ['xc', 'zb', 'yd' ,'wa']\n",
    "\n",
    "def MyFn(s):\n",
    "    return s[-1]\n",
    "\n",
    "print(sorted(strs, key=MyFn))"
   ]
  },
  {
   "cell_type": "markdown",
   "metadata": {},
   "source": [
    "Cvičení: popište slovy, jak utřídí list funkce MyFn."
   ]
  },
  {
   "cell_type": "markdown",
   "metadata": {},
   "source": [
    "## Zvládnutí listů a řetězců je zásadní pokud, chcete být dobrým Pythonistou. Zde následuje pár další cvičení."
   ]
  },
  {
   "cell_type": "markdown",
   "metadata": {},
   "source": [
    "Dotvořte funkce, které jsou specifikovány v buňkách níže. Jakmile budete mít řešení, zkontrolujte si je pomocí instrukcí, které jsou uvedeny za buňkami s kódem."
   ]
  },
  {
   "cell_type": "code",
   "execution_count": null,
   "metadata": {
    "collapsed": true
   },
   "outputs": [],
   "source": [
    "# Funkce match_ends\n",
    "#Tato funkce má na vstupu list řetězců a vrací počet řetězců, \n",
    "#které mají délku 2 a více a jejich první písmeno je stejné jako jejich posldní písmeno.\n",
    "# Poznámka : pro zvýšení počtu proměnné se vy pythonu používá operátor += .. i+=1 je to samé jako i=i+1\n",
    "#Příklad: u listu [\"aha\",\"b\",\"cc\",\"ahoj\"] tato funkce vyhodí hodnotu 2\n",
    "\n",
    "def match_ends(words):\n",
    "  # +++váš kód+++\n",
    "  return"
   ]
  },
  {
   "cell_type": "code",
   "execution_count": null,
   "metadata": {
    "collapsed": true
   },
   "outputs": [],
   "source": [
    "# Funkce front_x\n",
    "#Tato funkce má na vstupu list řetězců a vrací ten samý list, \n",
    "#akorát setřízený abecedně, s tou vyjímkou, \n",
    "#že na první místa vloží řetězce začínající písmenem \"x\"\n",
    "# U vstupu ['mix', 'xyz', 'apple', 'xanadu', 'aardvark'] vrátí\n",
    "# ['xanadu', 'xyz', 'aardvark', 'apple', 'mix']\n",
    "# Nápověda: toto může být dosáhnuto tím, že se nejdříve \n",
    "#vytvoří 2 listy, které se samostatně utřídí a pak se sloučí.\n",
    "def front_x(words):\n",
    "  # +++váš kód+++\n",
    "  return"
   ]
  },
  {
   "cell_type": "code",
   "execution_count": null,
   "metadata": {
    "collapsed": true
   },
   "outputs": [],
   "source": [
    "# Funkce sort_last\n",
    "# Tato funkce má na vstupu list tuplů, který vrátí setřízený podle posledního elementu v každém tuplu.\n",
    "# U vstupu [(1, 7), (1, 3), (3, 4, 5), (2, 2)] vrátí\n",
    "# [(2, 2), (1, 3), (3, 4, 5), (1, 7)]\n",
    "# Nápověda: použijte vlastní funkci pro argument key k výjmutí posledního elementu v tuplu. Tuto funkci musíte vytvořit. \n",
    "def sort_last(tuples):\n",
    "  # +++váš kód+++\n",
    "  return"
   ]
  },
  {
   "cell_type": "markdown",
   "metadata": {},
   "source": [
    "### Kontrola řešení\n",
    "* Otevřete soubor list1.py (nachází se ve stejné složce jako tento notebook) pomocí textového editoru (např: notepad)\n",
    "* Zkopírujte a vložte vaše řešení do tohoto souboru na vhodná místa (lze pochopit po otření souboru) \n",
    "* Spusťte tento soubor pomocí tohoto notebooku příkazem ```%run list1.py```. \n",
    "* Pokud jste vše provedli korektně, tak se vám zobrazí output pod řádkem níže."
   ]
  },
  {
   "cell_type": "code",
   "execution_count": null,
   "metadata": {
    "collapsed": true
   },
   "outputs": [],
   "source": [
    "%run list1.py"
   ]
  },
  {
   "cell_type": "markdown",
   "metadata": {},
   "source": [
    "## Další cvičení"
   ]
  },
  {
   "cell_type": "code",
   "execution_count": null,
   "metadata": {
    "collapsed": true
   },
   "outputs": [],
   "source": [
    "# donuts\n",
    "# Na vstupu je číslo, a na výstupu je řetězec s textem \"Počet koblihů je: <počet>\", \n",
    "# kde počet je číslo, které je na vstupu. Nicméně, pokud toto číslo bude 10 a více, tak se místo count vloží řetězec \"many\"\n",
    "# Takže donuts(5) vrátí 'Počet koblihů je: 5'\n",
    "# a donuts(23) vrátí 'Počet koblihů je: many'\n",
    "def donuts(count):\n",
    "  # +++váš kód+++\n",
    "  return"
   ]
  },
  {
   "cell_type": "code",
   "execution_count": null,
   "metadata": {
    "collapsed": true
   },
   "outputs": [],
   "source": [
    "# both_ends\n",
    "# Na vstupu je řetězec s, na výstupu je řetězec, \n",
    "# který je složen z prvních dvou a posledních dvou znaků řetězce s. x\n",
    "# takže u slova 'jablko' funkce vrátí 'jako'. Pokud bude řetězec s kratší než 2 znaky, tak tato funkce vrátí prázdný řetězec (\"\") .\n",
    "def both_ends(s):\n",
    "    # +++váš kód+++\n",
    "  return"
   ]
  },
  {
   "cell_type": "code",
   "execution_count": null,
   "metadata": {
    "collapsed": true
   },
   "outputs": [],
   "source": [
    "#fix_start\n",
    "# Given a string s, return a string\n",
    "# where all occurences of its first char have\n",
    "# been changed to '*', except do not change\n",
    "# the first char itself.\n",
    "# e.g. 'babble' yields 'ba**le'\n",
    "# Assume that the string is length 1 or more.\n",
    "# Hint: s.replace(stra, strb) returns a version of string s\n",
    "# where all instances of stra have been replaced by strb.\n",
    "def fix_start(s):\n",
    "  # +++váš kód+++\n",
    "  return"
   ]
  },
  {
   "cell_type": "code",
   "execution_count": null,
   "metadata": {
    "collapsed": true
   },
   "outputs": [],
   "source": [
    "#MixUp\n",
    "# Given strings a and b, return a single string with a and b separated\n",
    "# by a space '<a> <b>', except swap the first 2 chars of each string.\n",
    "# e.g.\n",
    "#   'mix', pod' -> 'pox mid'\n",
    "#   'dog', 'dinner' -> 'dig donner'\n",
    "# Assume a and b are length 2 or more.\n",
    "def mix_up(a, b):\n",
    "  # +++váš kód+++\n",
    "  return"
   ]
  },
  {
   "cell_type": "code",
   "execution_count": null,
   "metadata": {
    "collapsed": true
   },
   "outputs": [],
   "source": [
    "%run string1.py"
   ]
  },
  {
   "cell_type": "markdown",
   "metadata": {},
   "source": [
    "## Exercise &#x1F4D9;\n",
    "Vytvořte list n listů, každý mající N elementů. Hodnoty prvního listu by měly být 1 - N, hodnoty druhého N+1 - 2N, atd. Create a list of n lists, each having N elements. Jinými slovy tento list by měl vypadat jako následující matice:\n",
    "\n",
    " \\begin{pmatrix}\n",
    "  1 & 2 & \\cdots & N \\\\\n",
    "  N+1 & N+2 & \\cdots & 2N \\\\\n",
    "  \\vdots  & \\vdots  & \\ddots & \\vdots  \\\\\n",
    "  N^2-N+1 & N^2-N+2 & \\cdots & N^2 \n",
    " \\end{pmatrix}\n",
    " zvládnete jej vytvořit pouze pomocí jednoho řádku kódu?"
   ]
  },
  {
   "cell_type": "code",
   "execution_count": null,
   "metadata": {
    "collapsed": true
   },
   "outputs": [],
   "source": []
  }
 ],
 "metadata": {
  "kernelspec": {
   "display_name": "Python 2",
   "language": "python",
   "name": "python2"
  },
  "language_info": {
   "codemirror_mode": {
    "name": "ipython",
    "version": 2
   },
   "file_extension": ".py",
   "mimetype": "text/x-python",
   "name": "python",
   "nbconvert_exporter": "python",
   "pygments_lexer": "ipython2",
   "version": "2.7.11"
  }
 },
 "nbformat": 4,
 "nbformat_minor": 2
}

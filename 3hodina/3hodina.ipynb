{
 "cells": [
  {
   "cell_type": "code",
   "execution_count": null,
   "metadata": {
    "collapsed": true
   },
   "outputs": [],
   "source": [
    "Na dnešní hodině budeme pracovat s důležitou vlastností listu, tzv. list comprehension. Nejdříve je však potřeba vysvětlit klasické smyčky (for loops)."
   ]
  },
  {
   "cell_type": "code",
   "execution_count": null,
   "metadata": {
    "collapsed": true
   },
   "outputs": [],
   "source": [
    "Pokud bych měl list, u kterého provést určitou operaci s každým elementem, tak to můžu udělat následnovně."
   ]
  },
  {
   "cell_type": "code",
   "execution_count": 9,
   "metadata": {
    "collapsed": false
   },
   "outputs": [
    {
     "name": "stdout",
     "output_type": "stream",
     "text": [
      "[1, 4, 9, 16, 25]\n"
     ]
    }
   ],
   "source": [
    "L=[1,2,3,4,5]\n",
    "for i in range(len(L)): # v tomto řádku se nejprve evaluuje výraz len(L), jehož výsledek je 5 a potom se evaluuje výraz range(5)\n",
    "    L[i]=L[i]**2  # každý element umocním na druhou.\n",
    "print(L)"
   ]
  },
  {
   "cell_type": "code",
   "execution_count": null,
   "metadata": {
    "collapsed": true
   },
   "outputs": [],
   "source": [
    "List comprehension je jiná syntaxe, jak dosáhnout stejného cíle."
   ]
  },
  {
   "cell_type": "markdown",
   "metadata": {},
   "source": [
    "## List comprehensions: vytváření listů pomocí for smyček\n",
    "Jednoduchý způsob jak inicializovat list je skrze list comprehension. List comprehension je analogií matematického formalismu pro definování množin. Na příklad:  \n",
    "$$ L=\\lbrace x^2 : x \\in \\lbrace 0, 1, 2, 3, 4\\rbrace \\rbrace.$$  \n",
    "Se v pythonu zapíše jako:\n",
    "    "
   ]
  },
  {
   "cell_type": "code",
   "execution_count": 3,
   "metadata": {
    "collapsed": false
   },
   "outputs": [
    {
     "name": "stdout",
     "output_type": "stream",
     "text": [
      "[0, 1, 4, 9, 16]\n"
     ]
    }
   ],
   "source": [
    "L = [x**2 for x in range(0,5)]\n",
    "\n",
    "print(L)"
   ]
  },
  {
   "cell_type": "markdown",
   "metadata": {},
   "source": [
    "Také je možno zakombinovat různé podmínky. Na příklad:  \n",
    "$$S = \\lbrace x : x \\in L \\text{ and } x > 0\\rbrace.$$\n",
    "Lze zapsat pomocí:        "
   ]
  },
  {
   "cell_type": "code",
   "execution_count": 4,
   "metadata": {
    "collapsed": false
   },
   "outputs": [
    {
     "name": "stdout",
     "output_type": "stream",
     "text": [
      "[1, 4, 9, 16]\n"
     ]
    }
   ],
   "source": [
    "S=[x for x in L if x>0]\n",
    "print(S)"
   ]
  },
  {
   "cell_type": "markdown",
   "metadata": {},
   "source": [
    "Další příklad:  \n",
    "$$ M = \\lbrace x : x \\in S \\text{ and } x \\text{ even} \\rbrace$$    "
   ]
  },
  {
   "cell_type": "code",
   "execution_count": 6,
   "metadata": {
    "collapsed": true
   },
   "outputs": [],
   "source": [
    "M = [x for x in S if x % 2 == 0] # % je operátor pro modulus"
   ]
  },
  {
   "cell_type": "markdown",
   "metadata": {},
   "source": [
    "Také je možno kombinovat dvě smyčky dohromady:  \n",
    "$$\\lbrace (x,y) : \\forall x \\in \\lbrace 1, 2\\rbrace, \\forall y \\in \\lbrace 1, 2\\rbrace \\rbrace$$"
   ]
  },
  {
   "cell_type": "code",
   "execution_count": 7,
   "metadata": {
    "collapsed": false
   },
   "outputs": [
    {
     "data": {
      "text/plain": [
       "[(1, 1), (1, 2), (2, 1), (2, 2)]"
      ]
     },
     "execution_count": 7,
     "metadata": {},
     "output_type": "execute_result"
    }
   ],
   "source": [
    "[(x,y) for x in [1,2] for y in [1,2]]"
   ]
  },
  {
   "cell_type": "markdown",
   "metadata": {},
   "source": [
    "Další příklad:\n",
    "$$\\lbrace (x,y) : x \\in \\lbrace 1, 2, 3\\rbrace, y \\in \\lbrace 1, 3, 4\\rbrace \\text{ and } x\\neq y \\rbrace $$    "
   ]
  },
  {
   "cell_type": "code",
   "execution_count": 27,
   "metadata": {
    "collapsed": false
   },
   "outputs": [
    {
     "name": "stdout",
     "output_type": "stream",
     "text": [
      "10000 loops, best of 3: 1.26 µs per loop\n",
      "[(1, 3), (1, 4), (2, 3), (2, 1), (2, 4), (3, 1), (3, 4)]\n"
     ]
    }
   ],
   "source": [
    "mylist1=[(x, y) for x in [1,2,3] for y in [3,1,4] if x != y]\n",
    "print(mylist1)"
   ]
  },
  {
   "cell_type": "markdown",
   "metadata": {},
   "source": [
    "Pomocí klasických smyček by to šlo realizovat takto:"
   ]
  },
  {
   "cell_type": "code",
   "execution_count": 42,
   "metadata": {
    "collapsed": false
   },
   "outputs": [
    {
     "name": "stdout",
     "output_type": "stream",
     "text": [
      "10000 loops, best of 3: 2.64 µs per loop\n"
     ]
    }
   ],
   "source": [
    "mylist2=[]\n",
    "for x in [1,2,3]:\n",
    "    for y in [3,1,4]:\n",
    "        if x!=y:\n",
    "            mylist2.append((x,y))\n",
    "mylist2"
   ]
  },
  {
   "cell_type": "markdown",
   "metadata": {},
   "source": [
    "## Měření rychlosti kódu\n",
    "V jupyter notebooku (prostředí, ve kterém se právě nacházíme) existují tzv. magic functions, které poskytují mnoho užitečných funkcí.  \n",
    "Jedna z nich je funkce %timeit, která měří výpočetní čas daného výrazu.  \n",
    "Funkce %%timeit (s dvěma %) měří výpočetní čas celé buňky, na rozdíl od výpočetního času výrazu, který je na jednom řádku.\n",
    "Obě tyto funkce mají volitelný argument, kterým se nastaví, kolikrát se má měření provézt. Vysledek je pak průměr přes všechny měření. %timeit -n 1000 znamená že se měření provede 1000 krát."
   ]
  },
  {
   "cell_type": "code",
   "execution_count": 68,
   "metadata": {
    "collapsed": false
   },
   "outputs": [
    {
     "name": "stdout",
     "output_type": "stream",
     "text": [
      "10000 loops, best of 3: 2.34 µs per loop\n"
     ]
    }
   ],
   "source": [
    "%timeit -n 10000 L = [x**2 for x in range(0,5)]"
   ]
  },
  {
   "cell_type": "markdown",
   "metadata": {},
   "source": [
    "## Cvičení\n",
    "Pomocí %timeit změřte výpočetní čas pro vytvoření listu mylist1 a pomocí %%timeit pro vytvoření listu mylist2. Je jedna z verzí rychlejší?"
   ]
  },
  {
   "cell_type": "code",
   "execution_count": null,
   "metadata": {
    "collapsed": true
   },
   "outputs": [],
   "source": []
  },
  {
   "cell_type": "markdown",
   "metadata": {},
   "source": [
    "Také je možno vnořit jeden list comprehension do druhého. Cvičení: popište co provede následující kód.\n"
   ]
  },
  {
   "cell_type": "code",
   "execution_count": null,
   "metadata": {
    "collapsed": true
   },
   "outputs": [],
   "source": [
    "mylist1=[x+1 for x in [y**3 for y in [-3,1,4]] if x > 0]\n",
    "mylist1"
   ]
  },
  {
   "cell_type": "markdown",
   "metadata": {},
   "source": [
    "Následující kód provede to samé, akorát pomocí for smyček."
   ]
  },
  {
   "cell_type": "code",
   "execution_count": null,
   "metadata": {
    "collapsed": true
   },
   "outputs": [],
   "source": [
    "M=[]\n",
    "for y in [-3,1,4]:\n",
    "    temp=y**3\n",
    "    M.append(temp)\n",
    "print M ## this is like the set written in the formulas above\n",
    "\n",
    "mylist1=[]\n",
    "for x in M:\n",
    "    if x>0:\n",
    "        mylist1.append(x+1)\n",
    "print mylist1"
   ]
  },
  {
   "cell_type": "markdown",
   "metadata": {},
   "source": [
    "Zde je matematický zápis:\n",
    "$$M=\\lbrace y^3 : y \\in \\lbrace -3, 1, 4\\rbrace \\rbrace$$\n",
    "$$\\text{mylist1}= \\lbrace x+1 : x \\in M \\text{ and } x>0 \\rbrace.$$"
   ]
  },
  {
   "cell_type": "code",
   "execution_count": null,
   "metadata": {
    "collapsed": true
   },
   "outputs": [],
   "source": [
    "List comprehension lze použít pro jakýkoliv datový typ. Následující příklad používá řetězec."
   ]
  },
  {
   "cell_type": "code",
   "execution_count": 69,
   "metadata": {
    "collapsed": false
   },
   "outputs": [
    {
     "name": "stdout",
     "output_type": "stream",
     "text": [
      "['HELLO!!!']\n"
     ]
    }
   ],
   "source": [
    "strs = ['hello', 'and', 'goodbye']\n",
    "strs2 = [ s.upper()+'!!!' for s in strs if s=='hello']\n",
    "print(strs2)"
   ]
  },
  {
   "cell_type": "code",
   "execution_count": 70,
   "metadata": {
    "collapsed": false
   },
   "outputs": [
    {
     "name": "stdout",
     "output_type": "stream",
     "text": [
      "['jablko', 'banán']\n"
     ]
    }
   ],
   "source": [
    "ovoce = ['jablko', 'třešeň', 'banán', 'citrón']\n",
    "ovoce_s_a = [ s for s in ovoce if 'a' in s ]\n",
    "print(ovoce_s_a)"
   ]
  },
  {
   "cell_type": "markdown",
   "metadata": {},
   "source": [
    "## Cvičení\n",
    "Vyberte všechny ovoce, které obsahují písmeno n a změnte je na velká písmena."
   ]
  },
  {
   "cell_type": "markdown",
   "metadata": {},
   "source": [
    "## Třízení listu\n",
    "Nejjednodušší způsob jak utřídit list je pomocí funkce sorted()"
   ]
  },
  {
   "cell_type": "code",
   "execution_count": 74,
   "metadata": {
    "collapsed": false
   },
   "outputs": [
    {
     "name": "stdout",
     "output_type": "stream",
     "text": [
      "[1, 3, 4, 5]\n"
     ]
    }
   ],
   "source": [
    "a = [5, 1, 4, 3]\n",
    "print(sorted(a))"
   ]
  },
  {
   "cell_type": "markdown",
   "metadata": {},
   "source": [
    "funkce sorted() má volitelný argument, který lze použít pokud chci list uspořád v opačném pořadí."
   ]
  },
  {
   "cell_type": "code",
   "execution_count": 76,
   "metadata": {
    "collapsed": false,
    "scrolled": true
   },
   "outputs": [
    {
     "name": "stdout",
     "output_type": "stream",
     "text": [
      "['BB', 'CC', 'aa', 'zz']\n",
      "['zz', 'aa', 'CC', 'BB']\n"
     ]
    }
   ],
   "source": [
    "mystrs = ['aa', 'BB', 'zz', 'CC']\n",
    "print(sorted(mystrs))\n",
    "print(sorted(mystrs, reverse=True))"
   ]
  },
  {
   "cell_type": "markdown",
   "metadata": {},
   "source": [
    "## Vlastní typ třízení\n",
    "Pro vlastní typ třízení lze u funkce sorted() využít volitelný argument \"key\". Argument key specifikuje funkci, která slouží pro provnávání elementů. Můžu použít jakoukoliv funkci, která má jeden argument a vrací hodnotu, která může sloužit k porovnávání.  \n",
    "  \n",
    "Například i listu řetězců můžeme použít funkci len(), která má jeden argument (samotný řetězec len(\"ahoj\")) a vratí délku řetězce. Tato délka je použita k porovnání řetězců a jejich následného setřízení."
   ]
  },
  {
   "cell_type": "code",
   "execution_count": 78,
   "metadata": {
    "collapsed": false
   },
   "outputs": [
    {
     "name": "stdout",
     "output_type": "stream",
     "text": [
      "['d', 'bb', 'ccc', 'aaaa']\n"
     ]
    }
   ],
   "source": [
    "strs = ['ccc', 'aaaa', 'd', 'bb']\n",
    "print(sorted(strs, key=len))  # pozor!!! používám jen název funkce (len) a ne len(), což by znamenalo, že se má funkce provézt."
   ]
  },
  {
   "cell_type": "markdown",
   "metadata": {},
   "source": [
    "Jako další příklad. Pokud použiji funkci str.lower() pro třízení, tak se mi řetezce utřídí podle abecedy, bez ohledu na velké a malé písmena."
   ]
  },
  {
   "cell_type": "code",
   "execution_count": 80,
   "metadata": {
    "collapsed": false,
    "scrolled": true
   },
   "outputs": [
    {
     "name": "stdout",
     "output_type": "stream",
     "text": [
      "['aAaa', 'bb', 'ccc', 'D']\n"
     ]
    }
   ],
   "source": [
    "strs2=['ccc', 'aAaa', 'D', 'bb']\n",
    "print(sorted(strs2, key=str.lower))"
   ]
  },
  {
   "cell_type": "code",
   "execution_count": null,
   "metadata": {
    "collapsed": true
   },
   "outputs": [],
   "source": [
    "K třízení můžeme použít i vlastní funkci"
   ]
  },
  {
   "cell_type": "code",
   "execution_count": 81,
   "metadata": {
    "collapsed": false,
    "scrolled": true
   },
   "outputs": [
    {
     "name": "stdout",
     "output_type": "stream",
     "text": [
      "['wa', 'zb', 'xc', 'yd']\n"
     ]
    }
   ],
   "source": [
    "strs = ['xc', 'zb', 'yd' ,'wa']\n",
    "\n",
    "def MyFn(s):\n",
    "    return s[-1]\n",
    "\n",
    "print(sorted(strs, key=MyFn))"
   ]
  },
  {
   "cell_type": "markdown",
   "metadata": {},
   "source": [
    "Cvičení: popište slovy, jak utřídí list funkce MyFn."
   ]
  },
  {
   "cell_type": "markdown",
   "metadata": {},
   "source": [
    "## Zvládnutí listů a řetězců je zásadní pokud, chcete být dobrým Pythonistou. Zde následuje pár další cvičení."
   ]
  },
  {
   "cell_type": "markdown",
   "metadata": {},
   "source": [
    "Dotvořte funkce, které jsou specifikovány v buňkách níže. Jakmile budete mít řešení, zkontrolujte si je pomocí instrukcí, které jsou uvedeny za buňkami s kódem."
   ]
  },
  {
   "cell_type": "code",
   "execution_count": null,
   "metadata": {
    "collapsed": true
   },
   "outputs": [],
   "source": [
    "# Funkce match_ends\n",
    "#Tato funkce má na vstupu list řetězců a vrací počet řetězců, \n",
    "#které mají délku 2 a více a jejich první písmeno je stejné jako jejich posldní písmeno.\n",
    "# Poznámka : pro zvýšení počtu proměnné se vy pythonu používá operátor += .. i+=1 je to samé jako i=i+1\n",
    "#Příklad: u listu [\"aha\",\"b\",\"cc\",\"ahoj\"] tato funkce vyhodí hodnotu 2\n",
    "\n",
    "def match_ends(words):\n",
    "  # +++váš kód+++\n",
    "  return"
   ]
  },
  {
   "cell_type": "code",
   "execution_count": null,
   "metadata": {
    "collapsed": true
   },
   "outputs": [],
   "source": [
    "# Funkce front_x\n",
    "# Given a list of strings, return a list with the strings\n",
    "# in sorted order, except group all the strings that begin with 'x' first.\n",
    "# e.g. ['mix', 'xyz', 'apple', 'xanadu', 'aardvark'] yields\n",
    "# ['xanadu', 'xyz', 'aardvark', 'apple', 'mix']\n",
    "# Hint: this can be done by making 2 lists and sorting each of them\n",
    "# before combining them.\n",
    "def front_x(words):\n",
    "  # +++váš kód+++\n",
    "  return"
   ]
  },
  {
   "cell_type": "code",
   "execution_count": null,
   "metadata": {
    "collapsed": true
   },
   "outputs": [],
   "source": [
    "# Funkce sort_last\n",
    "# Given a list of non-empty tuples, return a list sorted in increasing\n",
    "# order by the last element in each tuple.\n",
    "# e.g. [(1, 7), (1, 3), (3, 4, 5), (2, 2)] yields\n",
    "# [(2, 2), (1, 3), (3, 4, 5), (1, 7)]\n",
    "# Hint: use a custom key= function to extract the last element form each tuple, as in some example above\n",
    "def sort_last(tuples):\n",
    "  # +++váš kód+++\n",
    "  return"
   ]
  },
  {
   "cell_type": "markdown",
   "metadata": {},
   "source": [
    "### To check the solution\n",
    "* Open the file list1.py with a text editor (notepad or textedit are fine, but we recommend you install Sublime - more professional!)\n",
    "* Copy your solutions in the appropriate place (you will see once you open the files). \n",
    "* Execute the file in your Jupyter notebook with the command ```%run list1.py```. Make sure that list1.py is in the same folder as your notebook!\n",
    "* If you did everything correctly, you will see as below output"
   ]
  },
  {
   "cell_type": "code",
   "execution_count": null,
   "metadata": {
    "collapsed": true
   },
   "outputs": [],
   "source": [
    "%run list1.py"
   ]
  },
  {
   "cell_type": "markdown",
   "metadata": {},
   "source": [
    "### Exercise &#x1F4D7;\n",
    "* Do the exercise in the following cells. Check the solution as explained for the previous exercise, by running file ```script1.py```."
   ]
  },
  {
   "cell_type": "code",
   "execution_count": null,
   "metadata": {
    "collapsed": true
   },
   "outputs": [],
   "source": [
    "# donuts\n",
    "# Given an int count of a number of donuts, return a string\n",
    "# of the form 'Number of donuts: <count>', where <count> is the number\n",
    "# passed in. However, if the count is 10 or more, then use the word 'many'\n",
    "# instead of the actual count.\n",
    "# So donuts(5) returns 'Number of donuts: 5'\n",
    "# and donuts(23) returns 'Number of donuts: many'\n",
    "def donuts(count):\n",
    "  # +++váš kód+++\n",
    "  return"
   ]
  },
  {
   "cell_type": "code",
   "execution_count": null,
   "metadata": {
    "collapsed": true
   },
   "outputs": [],
   "source": [
    "# both_ends\n",
    "# Given a string s, return a string made of the first 2\n",
    "# and the last 2 chars of the original string,\n",
    "# so 'spring' yields 'spng'. However, if the string length\n",
    "# is less than 2, return instead the empty string.\n",
    "def both_ends(s):\n",
    "  # +++your code here+++\n",
    "  return"
   ]
  },
  {
   "cell_type": "code",
   "execution_count": null,
   "metadata": {
    "collapsed": true
   },
   "outputs": [],
   "source": [
    "#fix_start\n",
    "# Given a string s, return a string\n",
    "# where all occurences of its first char have\n",
    "# been changed to '*', except do not change\n",
    "# the first char itself.\n",
    "# e.g. 'babble' yields 'ba**le'\n",
    "# Assume that the string is length 1 or more.\n",
    "# Hint: s.replace(stra, strb) returns a version of string s\n",
    "# where all instances of stra have been replaced by strb.\n",
    "def fix_start(s):\n",
    "  # +++váš kód+++\n",
    "  return"
   ]
  },
  {
   "cell_type": "code",
   "execution_count": null,
   "metadata": {
    "collapsed": true
   },
   "outputs": [],
   "source": [
    "#MixUp\n",
    "# Given strings a and b, return a single string with a and b separated\n",
    "# by a space '<a> <b>', except swap the first 2 chars of each string.\n",
    "# e.g.\n",
    "#   'mix', pod' -> 'pox mid'\n",
    "#   'dog', 'dinner' -> 'dig donner'\n",
    "# Assume a and b are length 2 or more.\n",
    "def mix_up(a, b):\n",
    "  # +++váš kód+++\n",
    "  return"
   ]
  },
  {
   "cell_type": "markdown",
   "metadata": {},
   "source": [
    "If all functions are correct, you will see an ouput as the one below:"
   ]
  },
  {
   "cell_type": "code",
   "execution_count": null,
   "metadata": {
    "collapsed": true
   },
   "outputs": [],
   "source": [
    "%run string1.py"
   ]
  },
  {
   "cell_type": "markdown",
   "metadata": {},
   "source": [
    "## Exercise &#x1F4D9;\n",
    "Create a list of n lists, each having N elements. The values of the first list should go from 1 to N, the elements of the second list from N+1 to 2N,... the elements of the last list, should go from $N^2-N+1$ to $N^2$. In other words, this is like creating a matrix\n",
    "\n",
    " \\begin{pmatrix}\n",
    "  1 & 2 & \\cdots & N \\\\\n",
    "  N+1 & N+2 & \\cdots & 2N \\\\\n",
    "  \\vdots  & \\vdots  & \\ddots & \\vdots  \\\\\n",
    "  N^2-N+1 & N^2-N+2 & \\cdots & N^2 \n",
    " \\end{pmatrix}\n",
    " Can you create it with only one line of code?"
   ]
  },
  {
   "cell_type": "code",
   "execution_count": null,
   "metadata": {
    "collapsed": true
   },
   "outputs": [],
   "source": []
  }
 ],
 "metadata": {
  "kernelspec": {
   "display_name": "Python 3",
   "language": "python",
   "name": "python3"
  },
  "language_info": {
   "codemirror_mode": {
    "name": "ipython",
    "version": 3
   },
   "file_extension": ".py",
   "mimetype": "text/x-python",
   "name": "python",
   "nbconvert_exporter": "python",
   "pygments_lexer": "ipython3",
   "version": "3.6.0"
  }
 },
 "nbformat": 4,
 "nbformat_minor": 2
}

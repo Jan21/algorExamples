{
 "cells": [
  {
   "cell_type": "markdown",
   "metadata": {},
   "source": [
    "<style>\n",
    "div.cell, div.text_cell_render{\n",
    "  max-width:760px;\n",
    "  margin-left:auto;\n",
    "  margin-right:auto;\n",
    "}\n",
    "\n",
    ".rendered_html\n",
    "{\n",
    "  font-size: 130%;\n",
    "  }\n",
    "\n",
    ".rendered_html li\n",
    "{\n",
    "  line-height: 1.;\n",
    "  }\n",
    "\n",
    ".rendered_html h1, h2 {\n",
    "  font-familly:\"Charis SIL\", serif;\n",
    "}\n",
    "\n",
    "img { \n",
    "    max-width: 200% !important;\n",
    "    height: auto !important;\n",
    "}\n",
    "\n",
    ".input_prompt, .CodeMirror-lines, .output_area\n",
    "{\n",
    "  font-family: Consolas, monospace;\n",
    "  font-size: 120%;\n",
    "}\n",
    "</style>"
   ]
  },
  {
   "cell_type": "markdown",
   "metadata": {},
   "source": [
    "### Dnešní plán:\n",
    "\n",
    "- Podíváme se na standardní knihovnu pythonu [Python standard library](http://docs.python.org/3/library/):\n",
    "    - random\n",
    "    - datetime\n",
    "- Krátký úvod do vytváření grafů s knihovnou [matplotlib](http://matplotlib.org)\n"
   ]
  },
  {
   "cell_type": "markdown",
   "metadata": {},
   "source": [
    "### Standardní knihovna"
   ]
  },
  {
   "cell_type": "markdown",
   "metadata": {},
   "source": [
    "#### Náhodnost\n",
    "\n",
    "Python obsahuje výbornou knihovnu pro práci s náhodností. Umožňuje nám vytvářet stochastické simulace pomocí pseudonáhodných generátorů čísel.\n",
    "\n",
    "Následující kód tiskne náhodné desetinné čísla v rozmezí 0 až 1 :"
   ]
  },
  {
   "cell_type": "code",
   "execution_count": 2,
   "metadata": {
    "collapsed": false
   },
   "outputs": [
    {
     "name": "stdout",
     "output_type": "stream",
     "text": [
      "0.10039706521802094\n",
      "0.6610144473856652\n",
      "0.42391036608612254\n",
      "0.5334983702254764\n"
     ]
    }
   ],
   "source": [
    "import random\n",
    "\n",
    "for _ in range(4): # podtržítko slouží jako dočasná proměnná (dummy variable)\n",
    "    print(random.random())"
   ]
  },
  {
   "cell_type": "markdown",
   "metadata": {},
   "source": [
    "Řekněme, že chcete náhodně vybírat elementy z listu. To lze provézt následujícím způsobem:"
   ]
  },
  {
   "cell_type": "code",
   "execution_count": 3,
   "metadata": {
    "collapsed": false
   },
   "outputs": [
    {
     "name": "stdout",
     "output_type": "stream",
     "text": [
      "spades\n",
      "diamonds\n",
      "spades\n",
      "clubs\n"
     ]
    }
   ],
   "source": [
    "suit = [\"hearts\", \"diamonds\", \"clubs\",\"spades\"]\n",
    "\n",
    "for _ in range(4): \n",
    "    r = random.random()*len(suit) # r bude číslo v intervalu [0,4)\n",
    "    print(suit[ int(r) ] )\n"
   ]
  },
  {
   "cell_type": "markdown",
   "metadata": {},
   "source": [
    "Jednodušší způsob, jak docílit stejné věci:"
   ]
  },
  {
   "cell_type": "code",
   "execution_count": 4,
   "metadata": {
    "collapsed": false,
    "scrolled": true
   },
   "outputs": [
    {
     "name": "stdout",
     "output_type": "stream",
     "text": [
      "diamonds\n",
      "spades\n",
      "spades\n",
      "clubs\n"
     ]
    }
   ],
   "source": [
    "for _ in range(4):\n",
    "    print(random.choice(suit)) # Modul random má funkci choice"
   ]
  },
  {
   "cell_type": "code",
   "execution_count": 5,
   "metadata": {
    "collapsed": false
   },
   "outputs": [],
   "source": [
    "random.choice?"
   ]
  },
  {
   "cell_type": "markdown",
   "metadata": {},
   "source": [
    "vytvoření listu s náhodně vybranými elementy z jiného listu:"
   ]
  },
  {
   "cell_type": "code",
   "execution_count": 5,
   "metadata": {
    "collapsed": false
   },
   "outputs": [
    {
     "name": "stdout",
     "output_type": "stream",
     "text": [
      "['clubs', 'spades', 'diamonds', 'hearts']\n"
     ]
    }
   ],
   "source": [
    "draws = [ random.choice(suit) for _ in range(4) ]\n",
    "print(draws)"
   ]
  },
  {
   "cell_type": "markdown",
   "metadata": {},
   "source": [
    "Další užitečné funkce z modulu ```random``` jsou  `sample` a`shuffle`:\n",
    "\n",
    "Když používáme funkci `random.choice`, tak vybíráme pokaždé znovu ze stejného listu. To znamená, že může dojít k tomu, že se daný element vybere dvakrát. Pokud chceme vybírat tak, že nelze vybrat stejný element dvakrtát, tak použíjeme funkci `random.sample`:"
   ]
  },
  {
   "cell_type": "code",
   "execution_count": 6,
   "metadata": {
    "collapsed": false
   },
   "outputs": [
    {
     "name": "stdout",
     "output_type": "stream",
     "text": [
      "[109, 450, 721, 296, 969]\n"
     ]
    }
   ],
   "source": [
    "numbers = range(1000)\n",
    "print(random.sample( numbers, 5)) # vybere 5 čísel z listu numbers"
   ]
  },
  {
   "cell_type": "markdown",
   "metadata": {},
   "source": [
    "Někdy je potřeba náhodně zpřěházet elementy v listu. K tomuto slouží funkce **shuffle**:"
   ]
  },
  {
   "cell_type": "code",
   "execution_count": 7,
   "metadata": {
    "collapsed": false
   },
   "outputs": [
    {
     "name": "stdout",
     "output_type": "stream",
     "text": [
      "['kterak', 'v', 'tom', 'světě', 'a', 'věcech', 'jeho', 'všechněch', 'nic', 'není', 'než', 'matení', 'a', 'motání,', 'kolotání', 'a', 'lopotování,', 'mámení', 'a', 'šalba,', 'bída', 'a', 'tesknost,', 'a', 'naposledy', 'omrzení', 'všeho', 'a', 'zoufání;', 'ale', 'kdož', 'doma', 'v', 'srdci', 'svém', 'sedě,', 's', 'jediným', 'Pánem', 'Bohem', 'se', 'uzavírá,', 'ten', 'sám', 'k', 'pravému', 'a', 'plnému', 'mysli', 'upokojení', 'a', 'radosti', 'že', 'přichází.']\n"
     ]
    }
   ],
   "source": [
    "speech = \"\"\"kterak v tom světě a věcech jeho všechněch\n",
    "nic není než matení a motání,\n",
    "kolotání a lopotování,\n",
    "mámení a šalba, bída a tesknost,\n",
    "a naposledy omrzení všeho a zoufání;\n",
    "ale kdož doma v srdci svém sedě,\n",
    "s jediným Pánem Bohem se uzavírá,\n",
    "ten sám k pravému a plnému mysli upokojení\n",
    "a radosti že přichází.\"\"\"\n",
    "\n",
    "list_words = speech.split() # rozdělí řetězec pomocí mezer\n",
    "\n",
    "print(list_words)\n"
   ]
  },
  {
   "cell_type": "code",
   "execution_count": 8,
   "metadata": {
    "collapsed": false
   },
   "outputs": [
    {
     "name": "stdout",
     "output_type": "stream",
     "text": [
      "['uzavírá,', 'není', 'plnému', 'a', 'k', 'a', 'a', 'srdci', 'a', 'ten', 'se', 'svém', 'upokojení', 'a', 'a', 'všechněch', 'zoufání;', 'mysli', 'že', 'v', 'v', 'Pánem', 'nic', 'přichází.', 'kolotání', 'a', 'jediným', 'lopotování,', 'motání,', 'tesknost,', 'kterak', 'naposledy', 'radosti', 'pravému', 'všeho', 'jeho', 's', 'než', 'doma', 'bída', 'mámení', 'sám', 'světě', 'tom', 'matení', 'věcech', 'sedě,', 'a', 'a', 'šalba,', 'omrzení', 'Bohem', 'ale', 'kdož']\n"
     ]
    }
   ],
   "source": [
    "random.shuffle(list_words) # zpřehází elementy listu\n",
    "print(list_words)"
   ]
  },
  {
   "cell_type": "markdown",
   "metadata": {},
   "source": [
    "***\n",
    "\n",
    "### Práce s daty a časem\n",
    "\n",
    "Při tvorbě programu je často potřeba pracovat s časem. Za tímto účelem python poskytuje modul `datetime`.\n",
    "Tento modul obsahuje funkce `date`, `time`, a `datetime`, které slouží k ukládání data, času, nebo obou zároveň."
   ]
  },
  {
   "cell_type": "code",
   "execution_count": 4,
   "metadata": {
    "collapsed": false
   },
   "outputs": [],
   "source": [
    "import datetime\n",
    "\n",
    "D1 = datetime.date(1986, 4, 21)\n",
    "T1 = datetime.time(12,0,0) # 12 hodin 0 minut 0 sekund\n",
    "DT = datetime.datetime(1986, 4, 21, 12, 15, 0)\n",
    "\n",
    "# pokud u funkce datetime vynecháme čas, tak se defaultně nastaví na půlnoc\n",
    "D = datetime.datetime(1986,4,22)"
   ]
  },
  {
   "cell_type": "markdown",
   "metadata": {},
   "source": [
    "Jakmile máme k dispozici objekt datetime, můžeme s ním provádět následující:"
   ]
  },
  {
   "cell_type": "code",
   "execution_count": 14,
   "metadata": {
    "collapsed": false
   },
   "outputs": [
    {
     "name": "stdout",
     "output_type": "stream",
     "text": [
      "Byl rok 1986, 22 den v měsíci.\n",
      "Byl to 2. den v týdnu\n"
     ]
    }
   ],
   "source": [
    "print(\"Byl rok %i, %i den v měsíci.\" % (D.year, D.day))\n",
    "\n",
    "print(\"Byl to %i. den v týdnu\" % (D.weekday()+1)) # pondělí=0, úterý=1, atd.\n"
   ]
  },
  {
   "cell_type": "markdown",
   "metadata": {},
   "source": [
    "Důležité je, že datetime umožňuje matematické operace s časem:"
   ]
  },
  {
   "cell_type": "code",
   "execution_count": 15,
   "metadata": {
    "collapsed": false
   },
   "outputs": [
    {
     "name": "stdout",
     "output_type": "stream",
     "text": [
      "11295 days, 17:50:07.384589\n"
     ]
    }
   ],
   "source": [
    "Dnow = datetime.datetime.now()\n",
    "\n",
    "print(Dnow - D)"
   ]
  },
  {
   "cell_type": "markdown",
   "metadata": {},
   "source": [
    "rozdíl dvou objektů typu datetime vytvoří objekt typu `timedelta`:"
   ]
  },
  {
   "cell_type": "code",
   "execution_count": 17,
   "metadata": {
    "collapsed": false
   },
   "outputs": [
    {
     "name": "stdout",
     "output_type": "stream",
     "text": [
      "<class 'datetime.timedelta'>\n",
      "Mezi dneškem a datem D je 11295 dnů.\n"
     ]
    }
   ],
   "source": [
    "dt = Dnow - D\n",
    "print(type(dt))\n",
    "print(\"Mezi dneškem a datem D je %i dnů.\" % dt.days)"
   ]
  },
  {
   "cell_type": "markdown",
   "metadata": {},
   "source": [
    "Objekt `timedelta` umožňuje vytvářet časové intervaly:"
   ]
  },
  {
   "cell_type": "code",
   "execution_count": 19,
   "metadata": {
    "collapsed": false
   },
   "outputs": [
    {
     "name": "stdout",
     "output_type": "stream",
     "text": [
      "Za 100.5 dní bude 2017-07-04 06:31:46.505531.\n"
     ]
    }
   ],
   "source": [
    "interval = datetime.timedelta(days=100,hours=12) # 100.5 dní\n",
    "\n",
    "soon = datetime.datetime.now() + interval \n",
    "\n",
    "interval_days = interval.total_seconds()/3600.0/24 #počet dní\n",
    "\n",
    "print(\"Za %0.1f dní bude %s.\" % (interval_days, soon))\n"
   ]
  },
  {
   "cell_type": "markdown",
   "metadata": {},
   "source": [
    "Často potřebujeme data tisknout nebo načítat v různých formátech. Například zde jsou dvě data v dvou různých formátech."
   ]
  },
  {
   "cell_type": "code",
   "execution_count": 21,
   "metadata": {
    "collapsed": false
   },
   "outputs": [],
   "source": [
    "ts1 = \"2012-04-26\"\n",
    "ts2 = \"January 5, 1978\""
   ]
  },
  {
   "cell_type": "markdown",
   "metadata": {},
   "source": [
    "Pokud chceme z výše uvedených řetězců vytvořit objekt datetime s kterým lze pracovat, tak to provedeme pomocí funkce strptime (je to zkratka pro \"**str**ing **p**arse\" **time**\"). \n"
   ]
  },
  {
   "cell_type": "code",
   "execution_count": 18,
   "metadata": {
    "collapsed": false
   },
   "outputs": [
    {
     "name": "stdout",
     "output_type": "stream",
     "text": [
      "2012-04-26 00:00:00\n",
      "2012-04-19 00:00:00\n"
     ]
    }
   ],
   "source": [
    "d1 = datetime.datetime.strptime( ts1, \"%Y-%m-%d\" ) # \"%Y-%m-%d\" je formát year month day\n",
    "print(d1)\n",
    "print(d1 + datetime.timedelta(days=-7))"
   ]
  },
  {
   "cell_type": "markdown",
   "metadata": {},
   "source": [
    "(`%Y`) je značka pro čtyřmístné číslo pro rok, (`%m`) je dvoumístné číslo pro měsíc, (`%d`) číslo pro den.\n",
    "\n",
    "ts2 obsahuje řetězec s datem v jiném formátu, proto musíme použít jiné značky (`%B` je značka pro jméno měsíce)."
   ]
  },
  {
   "cell_type": "code",
   "execution_count": 22,
   "metadata": {
    "collapsed": false
   },
   "outputs": [
    {
     "name": "stdout",
     "output_type": "stream",
     "text": [
      "1978-01-05 00:00:00\n",
      "1978-01-12 00:00:00\n"
     ]
    }
   ],
   "source": [
    "d2 = datetime.datetime.strptime( ts2, \"%B %d, %Y\" )\n",
    "print(d2)\n",
    "print(d2 - datetime.timedelta(days=-7))"
   ]
  },
  {
   "cell_type": "markdown",
   "metadata": {},
   "source": [
    "Existuje mnoho formátů, v kterých lze zapsat datum. Pro konkrétní případ je nejlepší použít dokumentaci: http://docs.python.org/2/library/datetime.html#strftime-strptime-behavior\n",
    "\n",
    "Symetricky k funkci `strptime` existuje funkce `strftime` (string format time), která dělá pravý opak. Z objektu datetime vytvoří řetězec s časovými údaji."
   ]
  },
  {
   "cell_type": "code",
   "execution_count": 23,
   "metadata": {
    "collapsed": false
   },
   "outputs": [
    {
     "name": "stdout",
     "output_type": "stream",
     "text": [
      "Jan 19, '89 ---> 1989-01-19\n"
     ]
    }
   ],
   "source": [
    "s_before = \"Jan 19, '89\"\n",
    "d = datetime.datetime.strptime(\"Jan 19, '89\", \"%b %d, '%y\")\n",
    "s_after  = d.strftime(\"%Y-%m-%d\")\n",
    "print(s_before, \"--->\", s_after)"
   ]
  },
  {
   "cell_type": "markdown",
   "metadata": {},
   "source": [
    "## Cvičení\n",
    "* Napište program v pythonu, který od dnešního data odečte 5 dní.\n",
    "* Napište program v pythonu, který k dnešnímu datu přičte 5 sekund.\n",
    "* Napište program v pythonu, který vytiskne list datumů, které se nachází mezi dvěmi daty, které zadá uživatel."
   ]
  },
  {
   "cell_type": "markdown",
   "metadata": {},
   "source": [
    "##### Čas od počátku epochy.\n"
   ]
  },
  {
   "cell_type": "code",
   "execution_count": 1,
   "metadata": {
    "collapsed": false
   },
   "outputs": [
    {
     "name": "stdout",
     "output_type": "stream",
     "text": [
      "1490522690.773432\n"
     ]
    }
   ],
   "source": [
    "import time # jiný modul pro práci s časem!\n",
    "\n",
    "print(time.time())"
   ]
  },
  {
   "cell_type": "markdown",
   "metadata": {},
   "source": [
    "Tato funkce poskytuje jiný způsob jak zjistit momentální čas, který je uložen jako počet sekund od počátku epochy."
   ]
  },
  {
   "cell_type": "code",
   "execution_count": 2,
   "metadata": {
    "collapsed": false
   },
   "outputs": [
    {
     "name": "stdout",
     "output_type": "stream",
     "text": [
      "47.26416941308577\n"
     ]
    }
   ],
   "source": [
    "t = time.time()\n",
    "y = t / 60 / 60 / 24 / 365 # když pomineme přechodné roky!\n",
    "print(y)"
   ]
  },
  {
   "cell_type": "markdown",
   "metadata": {},
   "source": [
    "Od počátku epochy uplynulo necelých 50 let?"
   ]
  },
  {
   "cell_type": "code",
   "execution_count": 5,
   "metadata": {
    "collapsed": false
   },
   "outputs": [
    {
     "name": "stdout",
     "output_type": "stream",
     "text": [
      "1970-01-01 01:59:59.999999\n"
     ]
    }
   ],
   "source": [
    "days_delta = time.time() / 60 / 60 / 24\n",
    "print(datetime.datetime.now() - datetime.timedelta(days=days_delta))"
   ]
  },
  {
   "cell_type": "markdown",
   "metadata": {},
   "source": [
    "Počátek epochy je určen na rok vzniku operačního systému UNIX [UNIX epoch](http://en.wikipedia.org/wiki/Unix_time), Jan 1, 1970.\n",
    "\n",
    "Unix byl vyvinut Denisem Ritchiem a Keneme Thompsonem:\n",
    "\n",
    "&nbsp;&nbsp;&nbsp;&nbsp;&nbsp;<img src=\"https://upload.wikimedia.org/wikipedia/commons/8/8f/Ken_Thompson_(sitting)_and_Dennis_Ritchie_at_PDP-11_(2876612463).jpg\" alt=\"Dennis Ritchie and Ken Thompson\" style=\"width: 500px;\">\n"
   ]
  },
  {
   "cell_type": "markdown",
   "metadata": {},
   "source": [
    "# Vytváření grafů pomocí knihovny Matplotlib\n",
    "\n",
    "* [Matplotlib](http://matplotlib.org) je velmi užitečná knihovna pro výtváření věděckých ilustrací a grafů. Mezi její užitečné vlastnosti patří:\n",
    "\n",
    "* Je jednoduché s ní začít pracovat\n",
    "* Podporuje značkovací jazyk $\\LaTeX$ \n",
    "* Umožňuje kontrolovat každy prvek výsledného obrázku, včetně velikosti a rozlišení. \n",
    "* Umožňuje vytvářet obrázky v mnoha formátech jako např.: PNG, PDF, SVG, EPS, a PGF.\n",
    "\n",
    "Jedna z nejdůležitějších vlastností knihovny matplotlib je to, že všechny prvky obrázku lze kontrolovat *programaticky*. To je důležité pro reprodukovatelnost, nebo když chceme vygenerovat stejné obrázky, ale s jinými daty. Toto činí matplotlib velmi užitečným pro vědecké publikace.\n",
    "\n",
    "Zde lze shlédnout, co vše lze pomocí této knihovny vytvořit: [galerie grafů](http://matplotlib.org/gallery.html)  "
   ]
  },
  {
   "cell_type": "markdown",
   "metadata": {},
   "source": [
    "## API jako v MATLABU\n",
    "\n",
    "Matplotlib postkytuje více způsobů jak zadávat příkazy. Jeden z nejjednodušších je stejný jako v programu MATLAB.\n",
    "Pokud ještě nemáte nainstalovanou knihovnu matplotlib, naistalujte ji v příkazovém řádku pomocí příkazu conda install matplotlib.\n",
    "Jestli je nebo není nainstalovaná poznáte podle toho, jestli vám následující buňka vyhodí chybu.\n"
   ]
  },
  {
   "cell_type": "code",
   "execution_count": 10,
   "metadata": {
    "collapsed": false
   },
   "outputs": [],
   "source": [
    "import matplotlib\n",
    "import matplotlib.pyplot as plt # z modulu matplotlib naimportujeme třídu pyplot a budeme ji používat pod zkratkou plt\n",
    "# následující řádek nám umožní zobrazovat grafy přímo v tomto notebooku.\n",
    "%matplotlib inline   "
   ]
  },
  {
   "cell_type": "code",
   "execution_count": 11,
   "metadata": {
    "collapsed": false
   },
   "outputs": [],
   "source": [
    "x = range(0, 10)\n",
    "y = [i ** 2 for i in x]"
   ]
  },
  {
   "cell_type": "code",
   "execution_count": 13,
   "metadata": {
    "collapsed": false
   },
   "outputs": [
    {
     "data": {
      "text/plain": [
       "<matplotlib.text.Text at 0x819dfd0>"
      ]
     },
     "execution_count": 13,
     "metadata": {},
     "output_type": "execute_result"
    },
    {
     "data": {
      "image/png": "[encoded data removed]",
      "text/plain": [
       "<matplotlib.figure.Figure at 0x80ad908>"
      ]
     },
     "metadata": {},
     "output_type": "display_data"
    }
   ],
   "source": [
    "# Pokud používáte MATLAB, tak si můžete uvědomit, že následující příkazy jsou úplně stejné jako v MATLABU, akorát s předponou plt.\n",
    "plt.figure()\n",
    "plt.plot(x, y, 'r')\n",
    "plt.xlabel('x')\n",
    "plt.ylabel('y')\n",
    "plt.title('název')"
   ]
  },
  {
   "cell_type": "markdown",
   "metadata": {},
   "source": [
    "Většina příkazů pro vytváření grafů v matlabu má alternativu v knihovně matplotlib. Například podgrafy a barevné schémata se vytvářejí následovně:"
   ]
  },
  {
   "cell_type": "code",
   "execution_count": 18,
   "metadata": {
    "collapsed": false
   },
   "outputs": [
    {
     "data": {
      "text/plain": [
       "[<matplotlib.lines.Line2D at 0x878a780>]"
      ]
     },
     "execution_count": 18,
     "metadata": {},
     "output_type": "execute_result"
    },
    {
     "data": {
      "image/png": "[encoded data removed]",
      "text/plain": [
       "<matplotlib.figure.Figure at 0x8692080>"
      ]
     },
     "metadata": {},
     "output_type": "display_data"
    }
   ],
   "source": [
    "plt.subplot(1,2,1)\n",
    "plt.plot(x, y, 'r--') #red a čárka\n",
    "plt.subplot(1,2,2)\n",
    "plt.plot(y, x, 'g*-') # green a hvězdička"
   ]
  },
  {
   "cell_type": "markdown",
   "metadata": {},
   "source": [
    "Výhoda tohoto stylu zadávání příkazů je to, že je lehké s ním začít. Nicméně se doporučuje jej nepoužívat pro komplexnější grafy. Namísto toho se doporučuje zadávat příkazy pomocí objektově orientované API, které je mnohem mocnější. "
   ]
  },
  {
   "cell_type": "markdown",
   "metadata": {},
   "source": [
    "## Objektově orientovaná api knihovny matplotlib\n",
    "\n",
    "The main idea with object-oriented programming is to have objects that one can apply functions and actions on, and no object or program states should be global (such as the MATLAB-like API). The real advantage of this approach becomes apparent when more than one figure is created, or when a figure contains more than one subplot. \n",
    "\n",
    "To use the object-oriented API we start out very much like in the previous example, but instead of creating a new global figure instance we store a reference to the newly created figure instance in the `fig` variable, and from it we create a new axis instance `axes` using the `add_axes` method in the `Figure` class instance `fig`:"
   ]
  },
  {
   "cell_type": "code",
   "execution_count": 14,
   "metadata": {
    "collapsed": false
   },
   "outputs": [
    {
     "data": {
      "image/png": "[encoded data removed]",
      "text/plain": [
       "<matplotlib.figure.Figure at 0x10f8dd890>"
      ]
     },
     "metadata": {},
     "output_type": "display_data"
    }
   ],
   "source": [
    "x = range(0, 10)\n",
    "y = [i ** 2 for i in x]\n",
    "fig = plt.figure()\n",
    "axes = fig.add_axes([0.1, 0.1, 0.8, 0.8]) # left, bottom, width, height (range 0 to 1)\n",
    "\n",
    "axes.plot(x, y, 'r')\n",
    "\n",
    "axes.set_xlabel('x')\n",
    "axes.set_ylabel('y')\n",
    "axes.set_title('title');"
   ]
  },
  {
   "cell_type": "code",
   "execution_count": 17,
   "metadata": {
    "collapsed": false
   },
   "outputs": [
    {
     "data": {
      "image/png": "[encoded data removed]",
      "text/plain": [
       "<matplotlib.figure.Figure at 0x11017dbd0>"
      ]
     },
     "metadata": {},
     "output_type": "display_data"
    }
   ],
   "source": [
    "fig, axes = plt.subplots(nrows=1, ncols=2) # nrows specifies the number of rows you want, ncols how many figures in each row \n",
    "\n",
    "for ax in axes:\n",
    "    ax.plot(x, y, 'r')\n",
    "    ax.set_xlabel('x')\n",
    "    ax.set_ylabel('y')\n",
    "    ax.set_title('title')"
   ]
  },
  {
   "cell_type": "markdown",
   "metadata": {},
   "source": [
    "Although a little bit more code is involved, the advantage is that we now have full control of where the plot axes are placed, and we can easily add more than one axis to the figure:"
   ]
  },
  {
   "cell_type": "code",
   "execution_count": 22,
   "metadata": {
    "collapsed": false
   },
   "outputs": [
    {
     "data": {
      "image/png": "[encoded data removed]",
      "text/plain": [
       "<matplotlib.figure.Figure at 0x10f752290>"
      ]
     },
     "metadata": {},
     "output_type": "display_data"
    }
   ],
   "source": [
    "fig = plt.figure()\n",
    "\n",
    "axes1 = fig.add_axes([0, 0.1, 0.8, 0.8]) # main axes\n",
    "axes2 = fig.add_axes([0.1, 0.5, 0.4, 0.3]) # inset axes\n",
    "\n",
    "# main figure\n",
    "axes1.plot(x, y, 'r')\n",
    "axes1.set_xlabel('x')\n",
    "axes1.set_ylabel('y')\n",
    "axes1.set_title('title')\n",
    "\n",
    "# insert\n",
    "axes2.plot(y, x, 'g')\n",
    "axes2.set_xlabel('y')\n",
    "axes2.set_ylabel('x')\n",
    "axes2.set_title('insert title');"
   ]
  },
  {
   "cell_type": "markdown",
   "metadata": {},
   "source": [
    "### Saving figures\n",
    "To save a figure to a file we can use the `savefig` method in the `Figure` class:"
   ]
  },
  {
   "cell_type": "code",
   "execution_count": 28,
   "metadata": {
    "collapsed": true
   },
   "outputs": [],
   "source": [
    "fig.savefig(\"filename.png\", dpi=200)"
   ]
  },
  {
   "cell_type": "markdown",
   "metadata": {},
   "source": [
    "Matplotlib can generate high-quality output in a number formats, including PNG, JPG, EPS, SVG, PGF and PDF. For scientific papers, I recommend using PDF whenever possible. (LaTeX documents compiled with `pdflatex` can include PDFs using the `includegraphics` command). In some cases, PGF can also be good alternative."
   ]
  },
  {
   "cell_type": "markdown",
   "metadata": {},
   "source": [
    "**BTW**, API means \"Application Programming Interface\" and is a set of functions and procedures that allow the creation of applications which access the features or data of an operating system, application, or other service. In this case, the APIs allow you to create figure without needing to specify pixel by pixel, or object by object what you want to see on screen, write in a file, and so on."
   ]
  },
  {
   "cell_type": "markdown",
   "metadata": {},
   "source": [
    "# Example and hand-on"
   ]
  },
  {
   "cell_type": "markdown",
   "metadata": {},
   "source": [
    "OK, let's do something *slightly* more interesting. Let's use `matplotlib` to visualize the run statistics for a biased coin.\n",
    "\n",
    "<img src=\"https://sciencelens.files.wordpress.com/2012/06/coin_flip_s.jpg\" alt=\"coin flips\" style=\"width: 200px;\">\n",
    "\n",
    "\n",
    "Let's flip a coin 1000 times, where $p$ is the probability the coin lands on *H*:"
   ]
  },
  {
   "cell_type": "code",
   "execution_count": 24,
   "metadata": {
    "collapsed": false
   },
   "outputs": [
    {
     "name": "stdout",
     "output_type": "stream",
     "text": [
      "['H', 'H', 'H', 'T', 'H', 'H', 'H', 'H', 'T']\n"
     ]
    }
   ],
   "source": [
    "import random\n",
    "p = 0.7\n",
    "\n",
    "# Flip the coin 1000 times:\n",
    "flips = []\n",
    "while len(flips) < 1000:\n",
    "    if random.random() < p:\n",
    "        flips.append(\"H\")\n",
    "    else:\n",
    "        flips.append(\"T\")\n",
    "\n",
    "print flips[:9]"
   ]
  },
  {
   "cell_type": "markdown",
   "metadata": {},
   "source": [
    "***\n",
    "### Quick Exercise \n",
    "Create the list flips with a one-liner\n",
    "***"
   ]
  },
  {
   "cell_type": "markdown",
   "metadata": {},
   "source": [
    "We want to count how many times we see 5 heads in a row, 6 in a row, etc.:\n",
    "\n",
    "1. Convert the list of `H`'s and `T`'s into a single string `HHTHHHTH...`.\n",
    "2. Split that string into a list of substrings whenever there's a `T`.\n",
    "3. Count how long each non-empty string is.\n",
    "4. Count how many times we see each value from 3."
   ]
  },
  {
   "cell_type": "code",
   "execution_count": 25,
   "metadata": {
    "collapsed": false
   },
   "outputs": [
    {
     "name": "stdout",
     "output_type": "stream",
     "text": [
      "HHHTHHHHTTTTHTHHHHHTHHHHHHHHHTTHTTTHHHHHHTHHHHHHTH\n"
     ]
    }
   ],
   "source": [
    "# step 1\n",
    "S = \"\".join( flips ) # join each flip by an empty delimiter\n",
    "print S[:50]"
   ]
  },
  {
   "cell_type": "code",
   "execution_count": 26,
   "metadata": {
    "collapsed": false
   },
   "outputs": [
    {
     "name": "stdout",
     "output_type": "stream",
     "text": [
      "['HHH', 'HHHH', '', '', '', 'H', 'HHHHH', 'HHHHHHHHH']\n"
     ]
    }
   ],
   "source": [
    "# step 2\n",
    "heads_runs = S.split(\"T\")\n",
    "print heads_runs[:8]"
   ]
  },
  {
   "cell_type": "code",
   "execution_count": 27,
   "metadata": {
    "collapsed": false
   },
   "outputs": [
    {
     "name": "stdout",
     "output_type": "stream",
     "text": [
      "[3, 4, 1, 5, 9, 1, 6, 6]\n"
     ]
    }
   ],
   "source": [
    "# step 3\n",
    "run_lengths = [ len(run) for run in heads_runs if run ] ## figure out what \"if run\" does...\n",
    "print run_lengths[:8]"
   ]
  },
  {
   "cell_type": "code",
   "execution_count": 29,
   "metadata": {
    "collapsed": false
   },
   "outputs": [
    {
     "name": "stdout",
     "output_type": "stream",
     "text": [
      "Counter({1: 67, 2: 48, 3: 34, 4: 20, 5: 14, 6: 8, 10: 5, 7: 4, 9: 4, 8: 3, 11: 3, 12: 1, 13: 1, 17: 1, 18: 1})\n"
     ]
    }
   ],
   "source": [
    "# step 4 (cheating with a python counter)\n",
    "from collections import Counter\n",
    "run2count = Counter(run_lengths) # Counter() acts like a dict\n",
    "print run2count"
   ]
  },
  {
   "cell_type": "markdown",
   "metadata": {},
   "source": [
    "**Whew!** Now we've got our _run statistics_. We will take a look at them using a plot, but first..."
   ]
  },
  {
   "cell_type": "markdown",
   "metadata": {},
   "source": [
    "***\n",
    "### Exercise\n",
    "* What type of variable is run2count? Can you do casting?\n",
    "* Write code to create a dictionary like run2count, without using Counter\n",
    "***"
   ]
  },
  {
   "cell_type": "markdown",
   "metadata": {},
   "source": [
    "Ok, let's do some simple statistics and plot:"
   ]
  },
  {
   "cell_type": "code",
   "execution_count": 63,
   "metadata": {
    "collapsed": false
   },
   "outputs": [
    {
     "name": "stdout",
     "output_type": "stream",
     "text": [
      "[(1, 67), (2, 48), (3, 34), (4, 20), (5, 14), (6, 8), (7, 4), (8, 3), (9, 4), (10, 5), (11, 3), (12, 1), (13, 1), (17, 1), (18, 1)]\n",
      "(1, 2, 3, 4, 5, 6, 7, 8, 9, 10, 11, 12, 13, 17, 18) (67, 48, 34, 20, 14, 8, 4, 3, 4, 5, 3, 1, 1, 1, 1)\n"
     ]
    }
   ],
   "source": [
    "# split run and count into separate lists:\n",
    "run_count = run2count.items() # You know what this does, right?\n",
    "print run_count\n",
    "\n",
    "run,count = zip(*run_count) \n",
    "print run,count"
   ]
  },
  {
   "cell_type": "markdown",
   "metadata": {},
   "source": [
    "***\n",
    "### Quick exercise\n",
    "The command ```zip(*run_counts)``` converts a list of tuples into lists containing the elements of the tuples. Get a better grip on it by checking the type of run_count, of zip(\\*run_count) and by displaying the content of each one.\n",
    "***"
   ]
  },
  {
   "cell_type": "code",
   "execution_count": 67,
   "metadata": {
    "collapsed": false
   },
   "outputs": [
    {
     "data": {
      "image/png": "[encoded data removed]",
      "text/plain": [
       "<matplotlib.figure.Figure at 0x110dd8150>"
      ]
     },
     "metadata": {},
     "output_type": "display_data"
    }
   ],
   "source": [
    "fig, axes = plt.subplots()\n",
    "axes.plot( run, count, 'o-' )\n",
    "\n",
    "axes.set_xlabel(\"Run length\", fontsize=18)\n",
    "axes.set_ylabel(\"Number of runs\", fontsize=18)\n",
    "axes.set_title(\"Biased coin (p = %f)\" % p, fontsize=18);\n"
   ]
  },
  {
   "cell_type": "markdown",
   "metadata": {},
   "source": [
    "***\n",
    "## Exercise\n",
    "* Take the logarithms of the number of runs and plot that vs run length\n",
    "_Note_: writing ```log(count)``` will return an error. The goal of the exercise is to find the solution to this :)\n",
    "* Use ```semilogy``` to put the y-axis in a log scale\n",
    "* Figure out how to plot the x-axis in log scale, then both axes."
   ]
  },
  {
   "cell_type": "markdown",
   "metadata": {},
   "source": [
    "***\n",
    "In this case, a line plot may not make much sense, since can't have a run of length 2.5. Let's do a vertical bar chart instead:"
   ]
  },
  {
   "cell_type": "code",
   "execution_count": 69,
   "metadata": {
    "collapsed": false
   },
   "outputs": [
    {
     "data": {
      "image/png": "[encoded data removed]",
      "text/plain": [
       "<matplotlib.figure.Figure at 0x10fd02dd0>"
      ]
     },
     "metadata": {},
     "output_type": "display_data"
    }
   ],
   "source": [
    "#Hey, I am using the Matlab-like API here... did you notice? What is the difference?\n",
    "plt.bar( run, count, fc=\"gray\" ) # Look, here we are using another way of plotting! \n",
    "plt.xlabel(\"Run length\", fontsize=18)\n",
    "plt.ylabel(\"Number of runs\", fontsize=18)\n",
    "plt.title(\"Biased coin (p = %f)\" % p, fontsize=18)\n",
    "plt.show() # Try to comment this line and see what happens!"
   ]
  },
  {
   "cell_type": "markdown",
   "metadata": {},
   "source": [
    "The data is a little noisy. We only did 1000 flips; do the exercise below to see how much smoother it can get."
   ]
  },
  {
   "cell_type": "markdown",
   "metadata": {},
   "source": [
    "## Exercises\n",
    "* Reproduce a histogram like the one below, based on 10^5 coin flips.\n",
    "* Use a different color for the bars (Hey, you can use also [ Color Hex](http://www.color-hex.com/) codes)\n",
    "* Use a fair coin (not biased). Remember to change the details in the figure accordingly ;) \n",
    "* Try to add a legend to the plot. This is done by using the command legend and by passing a list of strings.\n",
    "\n",
    "*** \n",
    "Instead of flipping a coin, say you roll a fair 6-faces die many times. Count how many times you see the same number in a row (no matter which number). For example, if you have: `16622232211`, you have two runs of length 1, three of length 2, and one of length 3. Create a *Number of runs vs number of lengths plot*, as done in the exercise above.\n",
    "\n",
    "***\n",
    "Create a plot made of two subplots, where you represent the *Number of runs vs number of lengths plot* for a 6-face die on the left, and for a 8-face die on the right."
   ]
  },
  {
   "cell_type": "code",
   "execution_count": null,
   "metadata": {
    "collapsed": true
   },
   "outputs": [],
   "source": []
  }
 ],
 "metadata": {
  "kernelspec": {
   "display_name": "Python 3",
   "language": "python",
   "name": "python3"
  },
  "language_info": {
   "codemirror_mode": {
    "name": "ipython",
    "version": 3
   },
   "file_extension": ".py",
   "mimetype": "text/x-python",
   "name": "python",
   "nbconvert_exporter": "python",
   "pygments_lexer": "ipython3",
   "version": "3.6.0"
  }
 },
 "nbformat": 4,
 "nbformat_minor": 0
}

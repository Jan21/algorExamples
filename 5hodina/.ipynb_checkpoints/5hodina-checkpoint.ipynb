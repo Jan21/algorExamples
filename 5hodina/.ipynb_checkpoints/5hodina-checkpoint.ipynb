{
 "cells": [
  {
   "cell_type": "markdown",
   "metadata": {},
   "source": [
    "<style>\n",
    "div.cell, div.text_cell_render{\n",
    "  max-width:760px;\n",
    "  margin-left:auto;\n",
    "  margin-right:auto;\n",
    "}\n",
    "\n",
    ".rendered_html\n",
    "{\n",
    "  font-size: 130%;\n",
    "  }\n",
    "\n",
    ".rendered_html li\n",
    "{\n",
    "  line-height: 1.;\n",
    "  }\n",
    "\n",
    ".rendered_html h1, h2 {\n",
    "  font-familly:\"Charis SIL\", serif;\n",
    "}\n",
    "\n",
    "img { \n",
    "    max-width: 200% !important;\n",
    "    height: auto !important;\n",
    "}\n",
    "\n",
    ".input_prompt, .CodeMirror-lines, .output_area\n",
    "{\n",
    "  font-family: Consolas, monospace;\n",
    "  font-size: 120%;\n",
    "}\n",
    "</style>"
   ]
  },
  {
   "cell_type": "markdown",
   "metadata": {},
   "source": [
    "### Dnešní plán:\n",
    "\n",
    "- Podíváme se na standardní knihovnu pythonu [Python standard library](http://docs.python.org/3/library/):\n",
    "    - random\n",
    "    - datetime\n",
    "- Krátký úvod do vytváření grafů s knihovnou [matplotlib](http://matplotlib.org)\n"
   ]
  },
  {
   "cell_type": "markdown",
   "metadata": {},
   "source": [
    "### Standardní knihovna"
   ]
  },
  {
   "cell_type": "markdown",
   "metadata": {},
   "source": [
    "#### Náhodnost\n",
    "\n",
    "Python obsahuje výbornou knihovnu pro práci s náhodností. Umožňuje nám vytvářet stochastické simulace pomocí pseudonáhodných generátorů čísel.\n",
    "\n",
    "Následující kód tiskne náhodné desetinné čísla v rozmezí 0 až 1 :"
   ]
  },
  {
   "cell_type": "code",
   "execution_count": 2,
   "metadata": {
    "collapsed": false
   },
   "outputs": [
    {
     "name": "stdout",
     "output_type": "stream",
     "text": [
      "0.10039706521802094\n",
      "0.6610144473856652\n",
      "0.42391036608612254\n",
      "0.5334983702254764\n"
     ]
    }
   ],
   "source": [
    "import random\n",
    "\n",
    "for _ in range(4): # podtržítko slouží jako dočasná proměnná (dummy variable)\n",
    "    print(random.random())"
   ]
  },
  {
   "cell_type": "markdown",
   "metadata": {},
   "source": [
    "Řekněme, že chcete náhodně vybírat elementy z listu. To lze provézt následujícím způsobem:"
   ]
  },
  {
   "cell_type": "code",
   "execution_count": 3,
   "metadata": {
    "collapsed": false
   },
   "outputs": [
    {
     "name": "stdout",
     "output_type": "stream",
     "text": [
      "spades\n",
      "diamonds\n",
      "spades\n",
      "clubs\n"
     ]
    }
   ],
   "source": [
    "suit = [\"hearts\", \"diamonds\", \"clubs\",\"spades\"]\n",
    "\n",
    "for _ in range(4): \n",
    "    r = random.random()*len(suit) # r bude číslo v intervalu [0,4)\n",
    "    print(suit[ int(r) ] )\n"
   ]
  },
  {
   "cell_type": "markdown",
   "metadata": {},
   "source": [
    "Jednodušší způsob, jak docílit stejné věci:"
   ]
  },
  {
   "cell_type": "code",
   "execution_count": 4,
   "metadata": {
    "collapsed": false,
    "scrolled": true
   },
   "outputs": [
    {
     "name": "stdout",
     "output_type": "stream",
     "text": [
      "diamonds\n",
      "spades\n",
      "spades\n",
      "clubs\n"
     ]
    }
   ],
   "source": [
    "for _ in range(4):\n",
    "    print(random.choice(suit)) # Modul random má funkci choice"
   ]
  },
  {
   "cell_type": "code",
   "execution_count": 5,
   "metadata": {
    "collapsed": false
   },
   "outputs": [],
   "source": [
    "random.choice?"
   ]
  },
  {
   "cell_type": "markdown",
   "metadata": {},
   "source": [
    "vytvoření listu s náhodně vybranými elementy z jiného listu:"
   ]
  },
  {
   "cell_type": "code",
   "execution_count": 5,
   "metadata": {
    "collapsed": false
   },
   "outputs": [
    {
     "name": "stdout",
     "output_type": "stream",
     "text": [
      "['clubs', 'spades', 'diamonds', 'hearts']\n"
     ]
    }
   ],
   "source": [
    "draws = [ random.choice(suit) for _ in range(4) ]\n",
    "print(draws)"
   ]
  },
  {
   "cell_type": "markdown",
   "metadata": {},
   "source": [
    "Další užitečné funkce z modulu ```random``` jsou  `sample` a`shuffle`:\n",
    "\n",
    "Když používáme funkci `random.choice`, tak vybíráme pokaždé znovu ze stejného listu. To znamená, že může dojít k tomu, že se daný element vybere dvakrát. Pokud chceme vybírat tak, že nelze vybrat stejný element dvakrtát, tak použíjeme funkci `random.sample`:"
   ]
  },
  {
   "cell_type": "code",
   "execution_count": 6,
   "metadata": {
    "collapsed": false
   },
   "outputs": [
    {
     "name": "stdout",
     "output_type": "stream",
     "text": [
      "[109, 450, 721, 296, 969]\n"
     ]
    }
   ],
   "source": [
    "numbers = range(1000)\n",
    "print(random.sample( numbers, 5)) # vybere 5 čísel z listu numbers"
   ]
  },
  {
   "cell_type": "markdown",
   "metadata": {},
   "source": [
    "Někdy je potřeba náhodně zpřěházet elementy v listu. K tomuto slouží funkce **shuffle**:"
   ]
  },
  {
   "cell_type": "code",
   "execution_count": 7,
   "metadata": {
    "collapsed": false
   },
   "outputs": [
    {
     "name": "stdout",
     "output_type": "stream",
     "text": [
      "['kterak', 'v', 'tom', 'světě', 'a', 'věcech', 'jeho', 'všechněch', 'nic', 'není', 'než', 'matení', 'a', 'motání,', 'kolotání', 'a', 'lopotování,', 'mámení', 'a', 'šalba,', 'bída', 'a', 'tesknost,', 'a', 'naposledy', 'omrzení', 'všeho', 'a', 'zoufání;', 'ale', 'kdož', 'doma', 'v', 'srdci', 'svém', 'sedě,', 's', 'jediným', 'Pánem', 'Bohem', 'se', 'uzavírá,', 'ten', 'sám', 'k', 'pravému', 'a', 'plnému', 'mysli', 'upokojení', 'a', 'radosti', 'že', 'přichází.']\n"
     ]
    }
   ],
   "source": [
    "speech = \"\"\"kterak v tom světě a věcech jeho všechněch\n",
    "nic není než matení a motání,\n",
    "kolotání a lopotování,\n",
    "mámení a šalba, bída a tesknost,\n",
    "a naposledy omrzení všeho a zoufání;\n",
    "ale kdož doma v srdci svém sedě,\n",
    "s jediným Pánem Bohem se uzavírá,\n",
    "ten sám k pravému a plnému mysli upokojení\n",
    "a radosti že přichází.\"\"\"\n",
    "\n",
    "list_words = speech.split() # rozdělí řetězec pomocí mezer\n",
    "\n",
    "print(list_words)\n"
   ]
  },
  {
   "cell_type": "code",
   "execution_count": 8,
   "metadata": {
    "collapsed": false
   },
   "outputs": [
    {
     "name": "stdout",
     "output_type": "stream",
     "text": [
      "['uzavírá,', 'není', 'plnému', 'a', 'k', 'a', 'a', 'srdci', 'a', 'ten', 'se', 'svém', 'upokojení', 'a', 'a', 'všechněch', 'zoufání;', 'mysli', 'že', 'v', 'v', 'Pánem', 'nic', 'přichází.', 'kolotání', 'a', 'jediným', 'lopotování,', 'motání,', 'tesknost,', 'kterak', 'naposledy', 'radosti', 'pravému', 'všeho', 'jeho', 's', 'než', 'doma', 'bída', 'mámení', 'sám', 'světě', 'tom', 'matení', 'věcech', 'sedě,', 'a', 'a', 'šalba,', 'omrzení', 'Bohem', 'ale', 'kdož']\n"
     ]
    }
   ],
   "source": [
    "random.shuffle(list_words) # zpřehází elementy listu\n",
    "print(list_words)"
   ]
  },
  {
   "cell_type": "markdown",
   "metadata": {},
   "source": [
    "***\n",
    "\n",
    "### Práce s daty a časem\n",
    "\n",
    "Při tvorbě programu je často potřeba pracovat s časem. Za tímto účelem python poskytuje modul `datetime`.\n",
    "Tento modul obsahuje funkce `date`, `time`, a `datetime`, které slouží k ukládání data, času, nebo obou zároveň."
   ]
  },
  {
   "cell_type": "code",
   "execution_count": 4,
   "metadata": {
    "collapsed": false
   },
   "outputs": [],
   "source": [
    "import datetime\n",
    "\n",
    "D1 = datetime.date(1986, 4, 21)\n",
    "T1 = datetime.time(12,0,0) # 12 hodin 0 minut 0 sekund\n",
    "DT = datetime.datetime(1986, 4, 21, 12, 15, 0)\n",
    "\n",
    "# pokud u funkce datetime vynecháme čas, tak se defaultně nastaví na půlnoc\n",
    "D = datetime.datetime(1986,4,22)"
   ]
  },
  {
   "cell_type": "markdown",
   "metadata": {},
   "source": [
    "Jakmile máme k dispozici objekt datetime, můžeme s ním provádět následující:"
   ]
  },
  {
   "cell_type": "code",
   "execution_count": 14,
   "metadata": {
    "collapsed": false
   },
   "outputs": [
    {
     "name": "stdout",
     "output_type": "stream",
     "text": [
      "Byl rok 1986, 22 den v měsíci.\n",
      "Byl to 2. den v týdnu\n"
     ]
    }
   ],
   "source": [
    "print(\"Byl rok %i, %i den v měsíci.\" % (D.year, D.day))\n",
    "\n",
    "print(\"Byl to %i. den v týdnu\" % (D.weekday()+1)) # pondělí=0, úterý=1, atd.\n"
   ]
  },
  {
   "cell_type": "markdown",
   "metadata": {},
   "source": [
    "Důležité je, že datetime umožňuje matematické operace s časem:"
   ]
  },
  {
   "cell_type": "code",
   "execution_count": 15,
   "metadata": {
    "collapsed": false
   },
   "outputs": [
    {
     "name": "stdout",
     "output_type": "stream",
     "text": [
      "11295 days, 17:50:07.384589\n"
     ]
    }
   ],
   "source": [
    "Dnow = datetime.datetime.now()\n",
    "\n",
    "print(Dnow - D)"
   ]
  },
  {
   "cell_type": "markdown",
   "metadata": {},
   "source": [
    "rozdíl dvou objektů typu datetime vytvoří objekt typu `timedelta`:"
   ]
  },
  {
   "cell_type": "code",
   "execution_count": 17,
   "metadata": {
    "collapsed": false
   },
   "outputs": [
    {
     "name": "stdout",
     "output_type": "stream",
     "text": [
      "<class 'datetime.timedelta'>\n",
      "Mezi dneškem a datem D je 11295 dnů.\n"
     ]
    }
   ],
   "source": [
    "dt = Dnow - D\n",
    "print(type(dt))\n",
    "print(\"Mezi dneškem a datem D je %i dnů.\" % dt.days)"
   ]
  },
  {
   "cell_type": "markdown",
   "metadata": {},
   "source": [
    "Objekt `timedelta` umožňuje vytvářet časové intervaly:"
   ]
  },
  {
   "cell_type": "code",
   "execution_count": 19,
   "metadata": {
    "collapsed": false
   },
   "outputs": [
    {
     "name": "stdout",
     "output_type": "stream",
     "text": [
      "Za 100.5 dní bude 2017-07-04 06:31:46.505531.\n"
     ]
    }
   ],
   "source": [
    "interval = datetime.timedelta(days=100,hours=12) # 100.5 dní\n",
    "\n",
    "soon = datetime.datetime.now() + interval \n",
    "\n",
    "interval_days = interval.total_seconds()/3600.0/24 #počet dní\n",
    "\n",
    "print(\"Za %0.1f dní bude %s.\" % (interval_days, soon))\n"
   ]
  },
  {
   "cell_type": "markdown",
   "metadata": {},
   "source": [
    "Často potřebujeme data tisknout nebo načítat v různých formátech. Například zde jsou dvě data v dvou různých formátech."
   ]
  },
  {
   "cell_type": "code",
   "execution_count": 21,
   "metadata": {
    "collapsed": false
   },
   "outputs": [],
   "source": [
    "ts1 = \"2012-04-26\"\n",
    "ts2 = \"January 5, 1978\""
   ]
  },
  {
   "cell_type": "markdown",
   "metadata": {},
   "source": [
    "Pokud chceme z výše uvedených řetězců vytvořit objekt datetime s kterým lze pracovat, tak to provedeme pomocí funkce strptime (je to zkratka pro \"**str**ing **p**arse\" **time**\"). \n"
   ]
  },
  {
   "cell_type": "code",
   "execution_count": 18,
   "metadata": {
    "collapsed": false
   },
   "outputs": [
    {
     "name": "stdout",
     "output_type": "stream",
     "text": [
      "2012-04-26 00:00:00\n",
      "2012-04-19 00:00:00\n"
     ]
    }
   ],
   "source": [
    "d1 = datetime.datetime.strptime( ts1, \"%Y-%m-%d\" ) # \"%Y-%m-%d\" je formát year month day\n",
    "print(d1)\n",
    "print(d1 + datetime.timedelta(days=-7))"
   ]
  },
  {
   "cell_type": "markdown",
   "metadata": {},
   "source": [
    "(`%Y`) je značka pro čtyřmístné číslo pro rok, (`%m`) je dvoumístné číslo pro měsíc, (`%d`) číslo pro den.\n",
    "\n",
    "ts2 obsahuje řetězec s datem v jiném formátu, proto musíme použít jiné značky (`%B` je značka pro jméno měsíce)."
   ]
  },
  {
   "cell_type": "code",
   "execution_count": 22,
   "metadata": {
    "collapsed": false
   },
   "outputs": [
    {
     "name": "stdout",
     "output_type": "stream",
     "text": [
      "1978-01-05 00:00:00\n",
      "1978-01-12 00:00:00\n"
     ]
    }
   ],
   "source": [
    "d2 = datetime.datetime.strptime( ts2, \"%B %d, %Y\" )\n",
    "print(d2)\n",
    "print(d2 - datetime.timedelta(days=-7))"
   ]
  },
  {
   "cell_type": "markdown",
   "metadata": {},
   "source": [
    "Existuje mnoho formátů, v kterých lze zapsat datum. Pro konkrétní případ je nejlepší použít dokumentaci: http://docs.python.org/2/library/datetime.html#strftime-strptime-behavior\n",
    "\n",
    "Symetricky k funkci `strptime` existuje funkce `strftime` (string format time), která dělá pravý opak. Z objektu datetime vytvoří řetězec s časovými údaji."
   ]
  },
  {
   "cell_type": "code",
   "execution_count": 23,
   "metadata": {
    "collapsed": false
   },
   "outputs": [
    {
     "name": "stdout",
     "output_type": "stream",
     "text": [
      "Jan 19, '89 ---> 1989-01-19\n"
     ]
    }
   ],
   "source": [
    "s_before = \"Jan 19, '89\"\n",
    "d = datetime.datetime.strptime(\"Jan 19, '89\", \"%b %d, '%y\")\n",
    "s_after  = d.strftime(\"%Y-%m-%d\")\n",
    "print(s_before, \"--->\", s_after)"
   ]
  },
  {
   "cell_type": "markdown",
   "metadata": {},
   "source": [
    "## Cvičení\n",
    "* Napište program v pythonu, který od dnešního data odečte 5 dní.\n",
    "* Napište program v pythonu, který k dnešnímu datu přičte 5 sekund.\n",
    "* Napište program v pythonu, který vytiskne list datumů, které se nachází mezi dvěmi daty, které zadá uživatel."
   ]
  },
  {
   "cell_type": "markdown",
   "metadata": {},
   "source": [
    "##### Čas od počátku epochy.\n"
   ]
  },
  {
   "cell_type": "code",
   "execution_count": 1,
   "metadata": {
    "collapsed": false
   },
   "outputs": [
    {
     "name": "stdout",
     "output_type": "stream",
     "text": [
      "1490522690.773432\n"
     ]
    }
   ],
   "source": [
    "import time # jiný modul pro práci s časem!\n",
    "\n",
    "print(time.time())"
   ]
  },
  {
   "cell_type": "markdown",
   "metadata": {},
   "source": [
    "Tato funkce poskytuje jiný způsob jak zjistit momentální čas, který je uložen jako počet sekund od počátku epochy."
   ]
  },
  {
   "cell_type": "code",
   "execution_count": 2,
   "metadata": {
    "collapsed": false
   },
   "outputs": [
    {
     "name": "stdout",
     "output_type": "stream",
     "text": [
      "47.26416941308577\n"
     ]
    }
   ],
   "source": [
    "t = time.time()\n",
    "y = t / 60 / 60 / 24 / 365 # když pomineme přechodné roky!\n",
    "print(y)"
   ]
  },
  {
   "cell_type": "markdown",
   "metadata": {},
   "source": [
    "Od počátku epochy uplynulo necelých 50 let?"
   ]
  },
  {
   "cell_type": "code",
   "execution_count": 5,
   "metadata": {
    "collapsed": false
   },
   "outputs": [
    {
     "name": "stdout",
     "output_type": "stream",
     "text": [
      "1970-01-01 01:59:59.999999\n"
     ]
    }
   ],
   "source": [
    "days_delta = time.time() / 60 / 60 / 24\n",
    "print(datetime.datetime.now() - datetime.timedelta(days=days_delta))"
   ]
  },
  {
   "cell_type": "markdown",
   "metadata": {},
   "source": [
    "Počátek epochy je určen na rok vzniku operačního systému UNIX [UNIX epoch](http://en.wikipedia.org/wiki/Unix_time), Jan 1, 1970.\n",
    "\n",
    "Unix byl vyvinut Denisem Ritchiem a Keneme Thompsonem:\n",
    "\n",
    "&nbsp;&nbsp;&nbsp;&nbsp;&nbsp;<img src=\"https://upload.wikimedia.org/wikipedia/commons/8/8f/Ken_Thompson_(sitting)_and_Dennis_Ritchie_at_PDP-11_(2876612463).jpg\" alt=\"Dennis Ritchie and Ken Thompson\" style=\"width: 500px;\">\n"
   ]
  },
  {
   "cell_type": "markdown",
   "metadata": {},
   "source": [
    "# Vytváření grafů pomocí knihovny Matplotlib\n",
    "\n",
    "* [Matplotlib](http://matplotlib.org) je velmi užitečná knihovna pro výtváření věděckých ilustrací a grafů. Mezi její užitečné vlastnosti patří:\n",
    "\n",
    "* Je jednoduché s ní začít pracovat\n",
    "* Podporuje značkovací jazyk $\\LaTeX$ \n",
    "* Umožňuje kontrolovat každy prvek výsledného obrázku, včetně velikosti a rozlišení. \n",
    "* Umožňuje vytvářet obrázky v mnoha formátech jako např.: PNG, PDF, SVG, EPS, a PGF.\n",
    "\n",
    "Jedna z nejdůležitějších vlastností knihovny matplotlib je to, že všechny prvky obrázku lze kontrolovat *programaticky*. To je důležité pro reprodukovatelnost, nebo když chceme vygenerovat stejné obrázky, ale s jinými daty. Toto činí matplotlib velmi užitečným pro vědecké publikace.\n",
    "\n",
    "Zde lze shlédnout, co vše lze pomocí této knihovny vytvořit: [galerie grafů](http://matplotlib.org/gallery.html)  "
   ]
  },
  {
   "cell_type": "markdown",
   "metadata": {},
   "source": [
    "## API jako v MATLABU\n",
    "\n",
    "Matplotlib postkytuje více způsobů jak zadávat příkazy. Jeden z nejjednodušších je stejný jako v programu MATLAB.\n",
    "Pokud ještě nemáte nainstalovanou knihovnu matplotlib, naistalujte ji v příkazovém řádku pomocí příkazu conda install matplotlib.\n",
    "Jestli je nebo není nainstalovaná poznáte podle toho, jestli vám následující buňka vyhodí chybu.\n"
   ]
  },
  {
   "cell_type": "code",
   "execution_count": 1,
   "metadata": {
    "collapsed": false
   },
   "outputs": [],
   "source": [
    "import matplotlib\n",
    "import matplotlib.pyplot as plt # z modulu matplotlib naimportujeme třídu pyplot a budeme ji používat pod zkratkou plt\n",
    "# následující řádek nám umožní zobrazovat grafy přímo v tomto notebooku.\n",
    "%matplotlib inline   "
   ]
  },
  {
   "cell_type": "code",
   "execution_count": 11,
   "metadata": {
    "collapsed": false
   },
   "outputs": [],
   "source": [
    "x = range(0, 10)\n",
    "y = [i ** 2 for i in x]"
   ]
  },
  {
   "cell_type": "code",
   "execution_count": 13,
   "metadata": {
    "collapsed": false
   },
   "outputs": [
    {
     "data": {
      "text/plain": [
       "<matplotlib.text.Text at 0x819dfd0>"
      ]
     },
     "execution_count": 13,
     "metadata": {},
     "output_type": "execute_result"
    },
    {
     "data": {
      "image/png": "[encoded data removed]",
      "text/plain": [
       "<matplotlib.figure.Figure at 0x80ad908>"
      ]
     },
     "metadata": {},
     "output_type": "display_data"
    }
   ],
   "source": [
    "# Pokud používáte MATLAB, tak si můžete uvědomit, že následující příkazy jsou úplně stejné jako v MATLABU, akorát s předponou plt.\n",
    "plt.figure()\n",
    "plt.plot(x, y, 'r')\n",
    "plt.xlabel('x')\n",
    "plt.ylabel('y')\n",
    "plt.title('název')"
   ]
  },
  {
   "cell_type": "markdown",
   "metadata": {},
   "source": [
    "Většina příkazů pro vytváření grafů v matlabu má alternativu v knihovně matplotlib. Například podgrafy a barevné schémata se vytvářejí následovně:"
   ]
  },
  {
   "cell_type": "code",
   "execution_count": 18,
   "metadata": {
    "collapsed": false
   },
   "outputs": [
    {
     "data": {
      "text/plain": [
       "[<matplotlib.lines.Line2D at 0x878a780>]"
      ]
     },
     "execution_count": 18,
     "metadata": {},
     "output_type": "execute_result"
    },
    {
     "data": {
      "image/png": "[encoded data removed]",
      "text/plain": [
       "<matplotlib.figure.Figure at 0x8692080>"
      ]
     },
     "metadata": {},
     "output_type": "display_data"
    }
   ],
   "source": [
    "plt.subplot(1,2,1)\n",
    "plt.plot(x, y, 'r--') #red a čárka\n",
    "plt.subplot(1,2,2)\n",
    "plt.plot(y, x, 'g*-') # green a hvězdička"
   ]
  },
  {
   "cell_type": "markdown",
   "metadata": {},
   "source": [
    "Výhoda tohoto stylu zadávání příkazů je to, že je lehké s ním začít. Nicméně se doporučuje jej nepoužívat pro komplexnější grafy. Namísto toho se doporučuje zadávat příkazy pomocí objektově orientované API, které je mnohem mocnější. "
   ]
  },
  {
   "cell_type": "markdown",
   "metadata": {},
   "source": [
    "## Objektově orientovaná api knihovny matplotlib\n",
    "Hlavní myšlenka objektově orientovaného programování je mít objekty, na které můžeme aplikovat funkce a tímto měnit jejich stav. Tyto objekty v sobě uchovávají různé vlastnosti, které se těchto objektu týkají. Toto je princip zapouzdření. Vlastnosti jsou uloženy uvnitř objektů a ne jako globální proměnné. Toto má velké výhody, pokud vytváříme více obrázků najednou, nebo když jeden obrázek obsahuje další vnořené obrázky.\n",
    "\n",
    "Při používání objektově orientované API začneme tím, že uložíme referenci na vytvořený obrázek do proměnné `fig` a pak aplikujeme funkce na tuto proměnnou, které přidávají osy, popisky atd."
   ]
  },
  {
   "cell_type": "code",
   "execution_count": 8,
   "metadata": {
    "collapsed": false,
    "scrolled": true
   },
   "outputs": [
    {
     "data": {
      "image/png": "[encoded data removed]",
      "text/plain": [
       "<matplotlib.figure.Figure at 0x866b160>"
      ]
     },
     "metadata": {},
     "output_type": "display_data"
    }
   ],
   "source": [
    "x = range(0, 10)\n",
    "y = [i ** 2 for i in x]\n",
    "fig = plt.figure()\n",
    "axes = fig.add_axes([0.1, 0.1, 0.8, 0.8]) # pozice z leva, z dola, šířka, výška (v rozmezí 0 až 1)\n",
    "\n",
    "axes.plot(x, y, 'r')\n",
    "\n",
    "axes.set_xlabel('x')\n",
    "axes.set_ylabel('y')\n",
    "axes.set_title('title');"
   ]
  },
  {
   "cell_type": "code",
   "execution_count": 17,
   "metadata": {
    "collapsed": false
   },
   "outputs": [
    {
     "data": {
      "image/png": "[encoded data removed]",
      "text/plain": [
       "<matplotlib.figure.Figure at 0x11017dbd0>"
      ]
     },
     "metadata": {},
     "output_type": "display_data"
    }
   ],
   "source": [
    "fig, axes = plt.subplots(nrows=1, ncols=2) # nrows specifikuje kolik řádku chcete, ncols kolik obrázku v jednom řádku \n",
    "\n",
    "for ax in axes:\n",
    "    ax.plot(x, y, 'r')\n",
    "    ax.set_xlabel('x')\n",
    "    ax.set_ylabel('y')\n",
    "    ax.set_title('title')"
   ]
  },
  {
   "cell_type": "markdown",
   "metadata": {},
   "source": [
    "Pomocí objektově orientované API můžeme vytvářet více než jeden obrázek a kontrolovat vzhled těchto obrázků:"
   ]
  },
  {
   "cell_type": "code",
   "execution_count": 22,
   "metadata": {
    "collapsed": false
   },
   "outputs": [
    {
     "data": {
      "image/png": "[encoded data removed]",
      "text/plain": [
       "<matplotlib.figure.Figure at 0x10f752290>"
      ]
     },
     "metadata": {},
     "output_type": "display_data"
    }
   ],
   "source": [
    "fig = plt.figure()\n",
    "\n",
    "axes1 = fig.add_axes([0, 0.1, 0.8, 0.8]) # hlavní osy\n",
    "axes2 = fig.add_axes([0.1, 0.5, 0.4, 0.3]) # vnořené osy\n",
    "\n",
    "# hlavní obrázek\n",
    "axes1.plot(x, y, 'r')\n",
    "axes1.set_xlabel('x')\n",
    "axes1.set_ylabel('y')\n",
    "axes1.set_title('title')\n",
    "\n",
    "# vnořený obrázek\n",
    "axes2.plot(y, x, 'g')\n",
    "axes2.set_xlabel('y')\n",
    "axes2.set_ylabel('x')\n",
    "axes2.set_title('insert title');"
   ]
  },
  {
   "cell_type": "markdown",
   "metadata": {},
   "source": [
    "### Ukládání obrázků\n",
    "k ukládání obrázků můžete použít funkci `savefig`, která je součáští třídy `Figure`:"
   ]
  },
  {
   "cell_type": "code",
   "execution_count": 28,
   "metadata": {
    "collapsed": true
   },
   "outputs": [],
   "source": [
    "fig.savefig(\"filename.png\", dpi=200)"
   ]
  },
  {
   "cell_type": "markdown",
   "metadata": {},
   "source": [
    "Matplotlib umí generova vysoce kvalitní výstup v mnoha formátech, včetně PNG, JPG, EPS, SVG, PGF a PDF. Pro vědecké publikace se doporučuje používat PDF. (Dokumenty v LaTeXu zkompilované pomocí `pdflatex` mohou obsahovat pdf díky makra `includegraphics`). V některých případech může být dobrou alternativou i PGF."
   ]
  },
  {
   "cell_type": "markdown",
   "metadata": {},
   "source": [
    "# Příklad"
   ]
  },
  {
   "cell_type": "markdown",
   "metadata": {},
   "source": [
    "Nyní použijeme matplotlib k vizualizaci statistiky hodu \"cinknutou\" mincí.\n",
    "\n",
    "<img src=\"https://sciencelens.files.wordpress.com/2012/06/coin_flip_s.jpg\" alt=\"coin flips\" style=\"width: 200px;\">\n",
    "\n",
    "\n",
    "Následující kód reprezentuje 1000 hodů mincí, kde $p$ je pravděpodobnost, že padne *H* (head=panna):"
   ]
  },
  {
   "cell_type": "code",
   "execution_count": 29,
   "metadata": {
    "collapsed": false
   },
   "outputs": [
    {
     "name": "stdout",
     "output_type": "stream",
     "text": [
      "['H', 'T', 'H', 'H', 'T', 'H', 'T', 'H', 'H']\n"
     ]
    }
   ],
   "source": [
    "import random\n",
    "p = 0.7\n",
    "\n",
    "# 1000 hodů mincí:\n",
    "flips = []\n",
    "while len(flips) < 1000:\n",
    "    if random.random() < p:\n",
    "        flips.append(\"H\")\n",
    "    else:\n",
    "        flips.append(\"T\")\n",
    "\n",
    "print(flips[:9])"
   ]
  },
  {
   "cell_type": "markdown",
   "metadata": {},
   "source": [
    "***\n",
    "### Krátké cvičení \n",
    "přepište vytvoření listu flips pomocí jednoho řádku. (s využitím list comprehension)\n",
    "***"
   ]
  },
  {
   "cell_type": "markdown",
   "metadata": {},
   "source": [
    "Nyní by nás zajímala otázka, kolikrát za sebou se podařilo hodit 'H' 5x, nebo 6x po sobě.:\n",
    "\n",
    "1. Převeďte tento list na řetězec v podobě `HHTHHHTH...`.\n",
    "2. Rozdělte tento řetezec na podřetězce pomocí písmene `T`. `T` bude sloužit jako oddělovač.\n",
    "3. Spočítejte jak dlouhé jsou všechny neprázdné řetězce.\n",
    "4. Spočítejte kolikrát se oběvily podřetězce s délkou 3,4,5 atd."
   ]
  },
  {
   "cell_type": "code",
   "execution_count": 30,
   "metadata": {
    "collapsed": false
   },
   "outputs": [
    {
     "name": "stdout",
     "output_type": "stream",
     "text": [
      "HTHHTHTHHHHTTTHTHHTHTHHTHHHHHTTTHHTHTHTHHHHTHHTTHT\n"
     ]
    }
   ],
   "source": [
    "# krok 1\n",
    "S = \"\".join( flips ) # join each flip by an empty delimiter\n",
    "print(S[:50])"
   ]
  },
  {
   "cell_type": "code",
   "execution_count": 31,
   "metadata": {
    "collapsed": false
   },
   "outputs": [
    {
     "name": "stdout",
     "output_type": "stream",
     "text": [
      "['H', 'HH', 'H', 'HHHH', '', '', 'H', 'HH']\n"
     ]
    }
   ],
   "source": [
    "# krok 2\n",
    "heads_runs = S.split(\"T\")\n",
    "print(heads_runs[:8])"
   ]
  },
  {
   "cell_type": "code",
   "execution_count": 32,
   "metadata": {
    "collapsed": false
   },
   "outputs": [
    {
     "name": "stdout",
     "output_type": "stream",
     "text": [
      "[1, 2, 1, 4, 1, 2, 1, 2]\n"
     ]
    }
   ],
   "source": [
    "# krok 3\n",
    "run_lengths = [ len(run) for run in heads_runs if run ] ## co dělá příkaz if run?...\n",
    "print(run_lengths[:8])"
   ]
  },
  {
   "cell_type": "code",
   "execution_count": 33,
   "metadata": {
    "collapsed": false
   },
   "outputs": [
    {
     "name": "stdout",
     "output_type": "stream",
     "text": [
      "Counter({1: 67, 2: 48, 3: 37, 5: 18, 4: 14, 7: 7, 8: 5, 9: 5, 6: 4, 11: 2, 13: 1, 15: 1, 18: 1, 16: 1, 10: 1, 19: 1})\n"
     ]
    }
   ],
   "source": [
    "# krok 4\n",
    "from collections import Counter\n",
    "run2count = Counter(run_lengths) # Counter() vytvoří slovník, kde u každého elementu daného listu bude počet výskytů v tomto listu.\n",
    "print(run2count)"
   ]
  },
  {
   "cell_type": "markdown",
   "metadata": {},
   "source": [
    "***\n",
    "### Cvičení\n",
    "* Napište kód, který vytvoří slovník run2count bez pomocí Counteru\n",
    "***"
   ]
  },
  {
   "cell_type": "markdown",
   "metadata": {},
   "source": [
    "Nyní vytvoříme graf statistiky:"
   ]
  },
  {
   "cell_type": "code",
   "execution_count": 38,
   "metadata": {
    "collapsed": false
   },
   "outputs": [
    {
     "name": "stdout",
     "output_type": "stream",
     "text": [
      "dict_items([(1, 67), (2, 48), (4, 14), (5, 18), (3, 37), (8, 5), (13, 1), (6, 4), (15, 1), (7, 7), (11, 2), (9, 5), (18, 1), (16, 1), (10, 1), (19, 1)])\n",
      "(1, 2, 3, 4, 5, 6, 7, 8, 9, 10, 11, 13, 15, 16, 18, 19) (67, 48, 37, 14, 18, 4, 7, 5, 5, 1, 2, 1, 1, 1, 1, 1)\n"
     ]
    }
   ],
   "source": [
    "# run2count rozdělíme na dva samostatné listy:\n",
    "run_count = run2count.items() # co dělá tento řádek?\n",
    "print(run_count)\n",
    "run_count=sorted(run_count)\n",
    "run,count = zip(*run_count) # hvězdička vytáhne z listu jednotlivé elelmenty. *[1,2] == 1,2\n",
    "print(run,count)"
   ]
  },
  {
   "cell_type": "markdown",
   "metadata": {},
   "source": [
    "***\n",
    "### Krátké cvičení\n",
    "Příkaz ```zip(*run_counts)``` převede list tuplů na samostatné listy, které obsahují elementy těchto tuplů. Každý nově vytvořený list odpovídá jedné pozici v tuplu. Pro přesnější představu co dělá funkce zip, zjistěte jaký datový typ má proměnná run_count a jaký má vysledek funkce zip(\\*run_count). Zkuste funcki zip aplikovat na tři vámi vytvořené tuply, pro ujištění.\n",
    "***"
   ]
  },
  {
   "cell_type": "code",
   "execution_count": 39,
   "metadata": {
    "collapsed": false
   },
   "outputs": [
    {
     "data": {
      "image/png": "[encoded data removed]",
      "text/plain": [
       "<matplotlib.figure.Figure at 0x82f2240>"
      ]
     },
     "metadata": {},
     "output_type": "display_data"
    }
   ],
   "source": [
    "fig, axes = plt.subplots()\n",
    "axes.plot( run, count, 'o-' )\n",
    "\n",
    "axes.set_xlabel(\"Délka řetězce\", fontsize=13)\n",
    "axes.set_ylabel(\"Počet řetězců dané délky\", fontsize=13)\n",
    "axes.set_title(\"Cinknutá mince (p = %f)\" % p, fontsize=18);\n"
   ]
  },
  {
   "cell_type": "markdown",
   "metadata": {},
   "source": [
    "***\n",
    "## Cviční\n",
    "* Vytiskněte předchozí graf v logaritmickém měřítku na ose x.\n",
    "_Pozn._: když napíšete ```log(count)``` tak python vyhodí chybu. Cílem tohoto cvičení je zjistit jak se této chyby zbavit.\n",
    "* Použijte ```semilogy``` k převedení osy y do logaritmického měřítka\n",
    "* Zjistěte jak převézt osu x do logaritmického měřítka a potom obě osy zároveň."
   ]
  },
  {
   "cell_type": "markdown",
   "metadata": {},
   "source": [
    "***\n",
    "V tomto případě nedává line plot moc smysl, protože nemůžeme mít délku rovnu 2.5. Vytvoříme proto tzv. bar plot."
   ]
  },
  {
   "cell_type": "code",
   "execution_count": 40,
   "metadata": {
    "collapsed": false
   },
   "outputs": [
    {
     "data": {
      "image/png": "[encoded data removed]",
      "text/plain": [
       "<matplotlib.figure.Figure at 0x83a9f98>"
      ]
     },
     "metadata": {},
     "output_type": "display_data"
    }
   ],
   "source": [
    "\n",
    "plt.bar( run, count, fc=\"gray\" )\n",
    "plt.xlabel(\"Délka řetězce\", fontsize=13)\n",
    "plt.ylabel(\"Počet řetězců dané délky\", fontsize=13)\n",
    "plt.title(\"Cinknutá mince (p = %f)\" % p, fontsize=18)\n",
    "plt.show()"
   ]
  },
  {
   "cell_type": "markdown",
   "metadata": {},
   "source": [
    "Tyto data obsahují trochu šumu. To proto, že jsme provedli jen 1000 hodů. Projděte si následující cvičení, abyste zjistili jak předchozí graf zpřesnit. "
   ]
  },
  {
   "cell_type": "markdown",
   "metadata": {},
   "source": [
    "## Exercises\n",
    "* Reprodukujte předchozí graf s tím, že použijete 10^5 náhodných hodů mincí.\n",
    "* Změnte barvy grafu (Můžete použít hexadecimální zápis barev [ Color Hex](http://www.color-hex.com/))\n",
    "* Změnte kód tak, aby mince nebyla cinknutá. Nezapomeňte změnit i detaily ohledně grafu.\n",
    "* Zkuste do grafu přidat legendu. Použijte metodu legend, do které se vkládá list řetězců.\n",
    "\n",
    "*** \n",
    "Místo házení minci můžeme házet kostknou. Zjistěte kolikrát za sebou spadne stejné číslo. Například pokud hody kostkou budou vypadat takto:`16622232211`, tak dvakrát se podařilo hodit stejné číslo jednou, třikrát stejné číslo dvakrát, a jednou stejné číslo třikrát. Vytvořte graf pro tento experiment stejně jako v předchozím příkladu s mincí. \n",
    "\n",
    "***\n",
    "Vytvořte graf s dvěma podgrafy vedle sebe, jeden pro kostku s šesti stranami a jeden pro kostku s osmi stranami."
   ]
  },
  {
   "cell_type": "code",
   "execution_count": null,
   "metadata": {
    "collapsed": true
   },
   "outputs": [],
   "source": []
  }
 ],
 "metadata": {
  "kernelspec": {
   "display_name": "Python 3",
   "language": "python",
   "name": "python3"
  },
  "language_info": {
   "codemirror_mode": {
    "name": "ipython",
    "version": 3
   },
   "file_extension": ".py",
   "mimetype": "text/x-python",
   "name": "python",
   "nbconvert_exporter": "python",
   "pygments_lexer": "ipython3",
   "version": "3.6.0"
  }
 },
 "nbformat": 4,
 "nbformat_minor": 0
}

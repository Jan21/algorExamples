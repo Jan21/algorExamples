{
 "cells": [
  {
   "cell_type": "markdown",
   "metadata": {},
   "source": [
    "## 1\n",
    "Write a Python program to concatenate following dictionaries to create a new one.\n",
    "\n",
    "Sample Dictionary: \n",
    "\n",
    "```dic1={1:10, 2:20} \n",
    "dic2={3:30, 4:40} \n",
    "dic3={5:50,6:60}```\n",
    "\n",
    "_Hint_: Have a look at the documentation for dict.update()."
   ]
  },
  {
   "cell_type": "code",
   "execution_count": 1,
   "metadata": {
    "collapsed": false
   },
   "outputs": [
    {
     "name": "stdout",
     "output_type": "stream",
     "text": [
      "{1: 10, 2: 20, 3: 30, 4: 40, 5: 50, 6: 60}\n"
     ]
    }
   ],
   "source": [
    "dic1={1:10, 2:20}  \n",
    "dic2={3:30, 4:40}  \n",
    "dic3={5:50,6:60}  \n",
    "dic4 = {}  \n",
    "for d in (dic1, dic2, dic3): dic4.update(d)  \n",
    "print(dic4)  "
   ]
  },
  {
   "cell_type": "markdown",
   "metadata": {},
   "source": [
    "## 2\n",
    "Write a Python program to map two lists into a dictionary"
   ]
  },
  {
   "cell_type": "code",
   "execution_count": 3,
   "metadata": {
    "collapsed": false
   },
   "outputs": [
    {
     "name": "stdout",
     "output_type": "stream",
     "text": [
      "{'blue': '#0000FF', 'green': '#008000', 'red': '#FF0000'}\n"
     ]
    }
   ],
   "source": [
    "keys = ['red', 'green', 'blue']  \n",
    "values = ['#FF0000','#008000', '#0000FF']  \n",
    "color_dictionary = dict(zip(keys, values))  \n",
    "print(color_dictionary)  "
   ]
  },
  {
   "cell_type": "markdown",
   "metadata": {},
   "source": [
    "## 3\n",
    "Write a Python program to multiply all the items in a dictionary."
   ]
  },
  {
   "cell_type": "code",
   "execution_count": 4,
   "metadata": {
    "collapsed": false
   },
   "outputs": [
    {
     "name": "stdout",
     "output_type": "stream",
     "text": [
      "-1333800\n"
     ]
    }
   ],
   "source": [
    "my_dict = {'data1':100,'data2':-54,'data3':247}  \n",
    "result=1  \n",
    "for key in my_dict:      \n",
    "    result=result * my_dict[key]  \n",
    "  \n",
    "print(result)  "
   ]
  },
  {
   "cell_type": "markdown",
   "metadata": {},
   "source": [
    "## 4\n",
    "Consider the dictionary:\n",
    "\n",
    "```student_data = {'id1':   \n",
    "   {'name': ['Sara'],   \n",
    "    'class': ['V'],   \n",
    "    'subject_integration': ['english, math, science']  \n",
    "   },  \n",
    " 'id2':   \n",
    "  {'name': ['David'],   \n",
    "    'class': ['V'],   \n",
    "    'subject_integration': ['english, math, science']  \n",
    "   },  \n",
    " 'id3':   \n",
    "    {'name': ['Sara'],   \n",
    "    'class': ['V'],   \n",
    "    'subject_integration': ['english, math, science']  \n",
    "   },  \n",
    " 'id4':   \n",
    "   {'name': ['Surya'],   \n",
    "    'class': ['V'],   \n",
    "    'subject_integration': ['english, math, science']  \n",
    "   },  \n",
    "}```\n",
    "\n",
    "    * Try to understand its structure\n",
    "    * Write a code that eliminates the duplicates"
   ]
  },
  {
   "cell_type": "code",
   "execution_count": 2,
   "metadata": {
    "collapsed": false
   },
   "outputs": [
    {
     "name": "stdout",
     "output_type": "stream",
     "text": [
      "{'id4': {'subject_integration': ['english, math, science'], 'name': ['Surya'], 'class': ['V']}, 'id2': {'subject_integration': ['english, math, science'], 'name': ['David'], 'class': ['V']}, 'id3': {'subject_integration': ['english, math, science'], 'name': ['Sara'], 'class': ['V']}}\n"
     ]
    }
   ],
   "source": [
    "student_data = {'id1':   \n",
    "   {'name': ['Sara'],   \n",
    "    'class': ['V'],   \n",
    "    'subject_integration': ['english, math, science']  \n",
    "   },  \n",
    " 'id2':   \n",
    "  {'name': ['David'],   \n",
    "    'class': ['V'],   \n",
    "    'subject_integration': ['english, math, science']  \n",
    "   },  \n",
    " 'id3':   \n",
    "    {'name': ['Sara'],   \n",
    "    'class': ['V'],   \n",
    "    'subject_integration': ['english, math, science']  \n",
    "   },  \n",
    " 'id4':   \n",
    "   {'name': ['Surya'],   \n",
    "    'class': ['V'],   \n",
    "    'subject_integration': ['english, math, science']  \n",
    "   },  \n",
    "}  \n",
    "  \n",
    "result = {}  \n",
    "  \n",
    "for key,value in student_data.items():  \n",
    "    if value not in result.values():  \n",
    "        result[key] = value  \n",
    "  \n",
    "print(result)"
   ]
  },
  {
   "cell_type": "markdown",
   "metadata": {},
   "source": [
    "## Exercise (important)\n",
    "Write a code to print keys and values of a dictionary:\n",
    "* sorted by key\n",
    "* sorted by value\n",
    "\n",
    "_Hint_: there are many ways to do this, buy give it a try with lambda functions."
   ]
  },
  {
   "cell_type": "markdown",
   "metadata": {},
   "source": [
    "### Sorted by key"
   ]
  },
  {
   "cell_type": "code",
   "execution_count": 10,
   "metadata": {
    "collapsed": false,
    "scrolled": true
   },
   "outputs": [
    {
     "name": "stdout",
     "output_type": "stream",
     "text": [
      "0 0\n",
      "1 2\n",
      "2 1\n",
      "3 4\n",
      "4 3\n"
     ]
    }
   ],
   "source": [
    "d = {1: 2, 3: 4, 4: 3, 2: 1, 0: 0}\n",
    "for w in sorted(d.keys()):\n",
    "  print w, d[w]"
   ]
  },
  {
   "cell_type": "code",
   "execution_count": 11,
   "metadata": {
    "collapsed": false
   },
   "outputs": [
    {
     "name": "stdout",
     "output_type": "stream",
     "text": [
      "0 0\n",
      "1 2\n",
      "2 1\n",
      "3 4\n",
      "4 3\n"
     ]
    }
   ],
   "source": [
    "d = {1: 2, 3: 4, 4: 3, 2: 1, 0: 0}\n",
    "for k,v in sorted(d.items(), key=lambda x: x[0]):\n",
    "    print k, v"
   ]
  },
  {
   "cell_type": "code",
   "execution_count": 12,
   "metadata": {
    "collapsed": false
   },
   "outputs": [
    {
     "name": "stdout",
     "output_type": "stream",
     "text": [
      "0 0\n",
      "1 2\n",
      "2 1\n",
      "3 4\n",
      "4 3\n"
     ]
    }
   ],
   "source": [
    "d = {1: 2, 3: 4, 4: 3, 2: 1, 0: 0}\n",
    "for k,v in sorted(d.items()):\n",
    "    print k, v"
   ]
  },
  {
   "cell_type": "markdown",
   "metadata": {},
   "source": [
    "### Sorted by value"
   ]
  },
  {
   "cell_type": "code",
   "execution_count": 7,
   "metadata": {
    "collapsed": false
   },
   "outputs": [
    {
     "name": "stdout",
     "output_type": "stream",
     "text": [
      "0 0\n",
      "2 1\n",
      "1 2\n",
      "4 3\n",
      "3 4\n"
     ]
    }
   ],
   "source": [
    "d = {1: 2, 3: 4, 4: 3, 2: 1, 0: 0}\n",
    "for w in sorted(d, key=d.get, reverse=False):\n",
    "  print w, d[w]\n"
   ]
  },
  {
   "cell_type": "code",
   "execution_count": 8,
   "metadata": {
    "collapsed": false
   },
   "outputs": [
    {
     "name": "stdout",
     "output_type": "stream",
     "text": [
      "0 0\n",
      "2 1\n",
      "1 2\n",
      "4 3\n",
      "3 4\n"
     ]
    }
   ],
   "source": [
    "d = {1: 2, 3: 4, 4: 3, 2: 1, 0: 0}\n",
    "for k,v in sorted(d.items(), key=lambda x: x[1]):\n",
    "    print k, v"
   ]
  },
  {
   "cell_type": "markdown",
   "metadata": {},
   "source": [
    "If you want to sort only the values, but are not interested in the corresponding keys:"
   ]
  },
  {
   "cell_type": "code",
   "execution_count": 9,
   "metadata": {
    "collapsed": false
   },
   "outputs": [
    {
     "data": {
      "text/plain": [
       "[0, 1, 2, 3, 4]"
      ]
     },
     "execution_count": 9,
     "metadata": {},
     "output_type": "execute_result"
    }
   ],
   "source": [
    "sorted(d.values())"
   ]
  },
  {
   "cell_type": "markdown",
   "metadata": {},
   "source": [
    "## Exercise\n",
    "* Implement a ```print_words(filename_in,filename_out)``` function that counts how often each word appears in the text in filename_in and prints in filename_out:\n",
    "\n",
    "    ```word1 count1\n",
    "  word2 count2\n",
    "  ...```\n",
    "\n",
    "Print the above list in order sorted by word (python will sort punctuation to\n",
    "come before letters -- that's fine). Store all the words as lowercase, so 'The' and 'the' count as the same word.\n",
    "_This is similar to one of the exercises earlier in this notebook, just put the code in a function._"
   ]
  },
  {
   "cell_type": "code",
   "execution_count": 24,
   "metadata": {
    "collapsed": true
   },
   "outputs": [],
   "source": [
    "def word_count_dict(filename):\n",
    "    \"\"\"Returns a word/count dict for this filename.\"\"\"\n",
    "    # Utility used by count() and Topcount().\n",
    "    word_count = {}  # Map each word to its count\n",
    "    input_file = open(filename, 'r')\n",
    "    for line in input_file:\n",
    "        words = line.split()\n",
    "        for word in words:\n",
    "            word = word.lower()\n",
    "            # Special case if we're seeing this word for the first time.\n",
    "            if not word in word_count:\n",
    "                word_count[word] = 1\n",
    "            else:\n",
    "                word_count[word] = word_count[word] + 1\n",
    "    input_file.close()  # Not strictly required, but good form.\n",
    "    return word_count\n",
    "\n",
    "def print_words(filename_in, filename_out):\n",
    "    \"\"\"Prints one per line '<word> <count>' sorted by word for the given file.\"\"\"\n",
    "    word_count = word_count_dict(filename_in)\n",
    "    words = sorted(word_count.keys())\n",
    "    fout=open(filename_out,'w')\n",
    "    for word in words:\n",
    "        fout.write(word+' '+str(word_count[word])+'\\n')\n",
    "    fout.close()"
   ]
  },
  {
   "cell_type": "code",
   "execution_count": 29,
   "metadata": {
    "collapsed": false
   },
   "outputs": [],
   "source": [
    "print_words('small.txt','small_count.txt')"
   ]
  },
  {
   "cell_type": "code",
   "execution_count": 30,
   "metadata": {
    "collapsed": false,
    "scrolled": true
   },
   "outputs": [
    {
     "name": "stdout",
     "output_type": "stream",
     "text": [
      "-- 1\r\n",
      "are 3\r\n",
      "at 1\r\n",
      "be 3\r\n",
      "but 1\r\n",
      "coach 1\r\n",
      "football 1\r\n",
      "least 1\r\n",
      "need 1\r\n",
      "not 3\r\n",
      "should 1\r\n",
      "to 2\r\n",
      "used 1\r\n",
      "we 6\r\n",
      "what 3\r\n"
     ]
    }
   ],
   "source": [
    "cat 'small_count.txt'"
   ]
  },
  {
   "cell_type": "markdown",
   "metadata": {},
   "source": [
    "Implement a ```print_top(filename_in,filename_out)``` which is similar to ```print_words(filename_in,filename_out)``` but which prints just the top 20 most common words sorted so the most common word is first, then the next most common, and so on."
   ]
  },
  {
   "cell_type": "code",
   "execution_count": 41,
   "metadata": {
    "collapsed": false
   },
   "outputs": [],
   "source": [
    "def word_count_dict(filename):\n",
    "    \"\"\"Returns a word/count dict for this filename.\"\"\"\n",
    "    # Utility used by count() and Topcount().\n",
    "    word_count = {}  # Map each word to its count\n",
    "    input_file = open(filename, 'r')\n",
    "    for line in input_file:\n",
    "        words = line.split()\n",
    "        for word in words:\n",
    "            word = word.lower()\n",
    "            # Special case if we're seeing this word for the first time.\n",
    "            if not word in word_count:\n",
    "                word_count[word] = 1\n",
    "            else:\n",
    "                word_count[word] = word_count[word] + 1\n",
    "    input_file.close()  # Not strictly required, but good form.\n",
    "    return word_count\n",
    "\n",
    "def get_count(word_count_tuple):\n",
    "    \"\"\"Returns the count from a dict word/count tuple  -- used for custom sort.\"\"\"\n",
    "    return word_count_tuple[1]\n",
    "\n",
    "def print_top(filename_in,filename_out):\n",
    "    \"\"\"Prints the top count listing for the given file.\"\"\"\n",
    "    word_count = word_count_dict(filename_in)\n",
    "\n",
    "    # Each item is a (word, count) tuple.\n",
    "    # Sort them so the big counts are first using key=get_count() to extract count.\n",
    "    items = sorted(word_count.items(), key=get_count, reverse=True)\n",
    "    fout=open(filename_out,'w')\n",
    "    # Print the first 20\n",
    "    for item in items[:20]:\n",
    "        fout.write(item[0]+' '+str(item[1])+'\\n')\n",
    "    fout.close()"
   ]
  },
  {
   "cell_type": "code",
   "execution_count": 42,
   "metadata": {
    "collapsed": false
   },
   "outputs": [],
   "source": [
    "print_top('small.txt','small_count_top.txt')"
   ]
  },
  {
   "cell_type": "code",
   "execution_count": 43,
   "metadata": {
    "collapsed": false
   },
   "outputs": [
    {
     "name": "stdout",
     "output_type": "stream",
     "text": [
      "we 6\r\n",
      "be 3\r\n",
      "what 3\r\n",
      "are 3\r\n",
      "not 3\r\n",
      "to 2\r\n",
      "coach 1\r\n",
      "least 1\r\n",
      "-- 1\r\n",
      "football 1\r\n",
      "but 1\r\n",
      "should 1\r\n",
      "need 1\r\n",
      "used 1\r\n",
      "at 1\r\n"
     ]
    }
   ],
   "source": [
    "cat small_count_top.txt"
   ]
  },
  {
   "cell_type": "code",
   "execution_count": 44,
   "metadata": {
    "collapsed": true
   },
   "outputs": [],
   "source": [
    "print_top('alice.txt','alice_count_top.txt')"
   ]
  },
  {
   "cell_type": "code",
   "execution_count": 45,
   "metadata": {
    "collapsed": false
   },
   "outputs": [
    {
     "name": "stdout",
     "output_type": "stream",
     "text": [
      "the 1605\r\n",
      "and 766\r\n",
      "to 706\r\n",
      "a 614\r\n",
      "she 518\r\n",
      "of 493\r\n",
      "said 421\r\n",
      "it 362\r\n",
      "in 352\r\n",
      "was 333\r\n",
      "you 265\r\n",
      "i 261\r\n",
      "as 249\r\n",
      "that 222\r\n",
      "alice 221\r\n",
      "her 208\r\n",
      "at 206\r\n",
      "had 176\r\n",
      "with 169\r\n",
      "all 155\r\n"
     ]
    }
   ],
   "source": [
    "cat alice_count_top.txt"
   ]
  },
  {
   "cell_type": "code",
   "execution_count": null,
   "metadata": {
    "collapsed": true
   },
   "outputs": [],
   "source": []
  }
 ],
 "metadata": {
  "kernelspec": {
   "display_name": "Python 3",
   "language": "python",
   "name": "python3"
  },
  "language_info": {
   "codemirror_mode": {
    "name": "ipython",
    "version": 3
   },
   "file_extension": ".py",
   "mimetype": "text/x-python",
   "name": "python",
   "nbconvert_exporter": "python",
   "pygments_lexer": "ipython3",
   "version": "3.6.0"
  }
 },
 "nbformat": 4,
 "nbformat_minor": 0
}

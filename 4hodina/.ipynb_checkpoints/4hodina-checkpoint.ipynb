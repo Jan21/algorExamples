{
 "cells": [
  {
   "cell_type": "markdown",
   "metadata": {},
   "source": [
    "# Na dnešní hodině\n",
    "budeme:\n",
    "* pracovat s datovými strukturami, kterým se říká slovníky (Dictionaries) \n",
    "* procvičovat práci s listy, tuply, řetězci a slovníky\n",
    "* pracovas s funkcemi"
   ]
  },
  {
   "cell_type": "markdown",
   "metadata": {},
   "source": [
    "### Slovníky (Dictionaries)"
   ]
  },
  {
   "cell_type": "markdown",
   "metadata": {},
   "source": [
    "Slovníky jsou také jako listy, s vyjímkou, že každý element je dvojice klíče a hodnoty (key, value). Syntaxe slovníku je: `{key1 : value1, key2 : value 2, ...}`:"
   ]
  },
  {
   "cell_type": "code",
   "execution_count": 22,
   "metadata": {
    "collapsed": false
   },
   "outputs": [
    {
     "name": "stdout",
     "output_type": "stream",
     "text": [
      "<class 'dict'>\n",
      "{'bananas': 1, 'oranges': 2, 'apples': 3}\n"
     ]
    }
   ],
   "source": [
    "counts = {\"bananas\" : 1,\n",
    "          \"oranges\" : 2,\n",
    "          \"apples\" : 3,}\n",
    "\n",
    "print(type(counts))\n",
    "print(counts)"
   ]
  },
  {
   "cell_type": "markdown",
   "metadata": {},
   "source": [
    "<img src=\"dictionary.png\">"
   ]
  },
  {
   "cell_type": "code",
   "execution_count": 2,
   "metadata": {
    "collapsed": false
   },
   "outputs": [
    {
     "name": "stdout",
     "output_type": "stream",
     "text": [
      "bananas = 1\n",
      "oranges = 2\n",
      "apples = 3\n"
     ]
    }
   ],
   "source": [
    "print(\"bananas = \" + str(counts[\"bananas\"]))\n",
    "print(\"oranges = \" + str(counts[\"oranges\"]))\n",
    "print(\"apples = \" + str(counts[\"apples\"]))"
   ]
  },
  {
   "cell_type": "code",
   "execution_count": 3,
   "metadata": {
    "collapsed": false
   },
   "outputs": [
    {
     "name": "stdout",
     "output_type": "stream",
     "text": [
      "bananas = no bananas\n",
      "oranges = 100\n",
      "apples = 3\n",
      "pineapples = D\n"
     ]
    }
   ],
   "source": [
    "counts[\"bananas\"] = \"no bananas\"\n",
    "counts[\"oranges\"] = 100\n",
    "\n",
    "# add a new entry\n",
    "counts[\"pineapples\"] = \"D\"\n",
    "\n",
    "print(\"bananas = \" + str(counts[\"bananas\"]))\n",
    "print(\"oranges = \" + str(counts[\"oranges\"]))\n",
    "print(\"apples = \" + str(counts[\"apples\"]))\n",
    "print(\"pineapples = \" + str(counts[\"pineapples\"]))"
   ]
  },
  {
   "cell_type": "markdown",
   "metadata": {},
   "source": [
    "Řetězce, čísla a tuply mohou sloužit jako klíče a jakýkoliv typ může složit jako hodnota. Pokud jako klíč použijeme něco, co ve slovníku není, tak python vyhodí chybu (KeyError). Použijte klíčové slovo \"in\" k ověření, zda se klíč ve slovníku nachází."
   ]
  },
  {
   "cell_type": "code",
   "execution_count": 4,
   "metadata": {
    "collapsed": false
   },
   "outputs": [
    {
     "name": "stdout",
     "output_type": "stream",
     "text": [
      "no bananas\n"
     ]
    }
   ],
   "source": [
    "print counts['bananas']     ## Jednoduché vyhledávání pomocí klíče"
   ]
  },
  {
   "cell_type": "markdown",
   "metadata": {},
   "source": [
    "Pokud použijete klíč, který ve slovníku není zadefinován, tak python vyhodí chybu:"
   ]
  },
  {
   "cell_type": "code",
   "execution_count": 5,
   "metadata": {
    "collapsed": false
   },
   "outputs": [
    {
     "ename": "KeyError",
     "evalue": "'strawberries'",
     "output_type": "error",
     "traceback": [
      "\u001b[0;31m---------------------------------------------------------------------------\u001b[0m",
      "\u001b[0;31mKeyError\u001b[0m                                  Traceback (most recent call last)",
      "\u001b[0;32m<ipython-input-5-a80a7cf87080>\u001b[0m in \u001b[0;36m<module>\u001b[0;34m()\u001b[0m\n\u001b[0;32m----> 1\u001b[0;31m \u001b[0;32mprint\u001b[0m \u001b[0mcounts\u001b[0m\u001b[0;34m[\u001b[0m\u001b[0;34m'strawberries'\u001b[0m\u001b[0;34m]\u001b[0m\u001b[0;34m\u001b[0m\u001b[0m\n\u001b[0m",
      "\u001b[0;31mKeyError\u001b[0m: 'strawberries'"
     ]
    }
   ],
   "source": [
    "print counts['strawberries']"
   ]
  },
  {
   "cell_type": "markdown",
   "metadata": {},
   "source": [
    "Abychom se vyhli chybě, můžeme nejprve otestovat, zda se klíč ve slovníku nachází"
   ]
  },
  {
   "cell_type": "code",
   "execution_count": 6,
   "metadata": {
    "collapsed": false
   },
   "outputs": [
    {
     "name": "stdout",
     "output_type": "stream",
     "text": [
      "no bananas\n",
      "I don't know what a strawberry is\n"
     ]
    }
   ],
   "source": [
    "if 'bananas' in counts: print counts['bananas']\n",
    "if 'strawberries' in counts: print counts['strawberries'] \n",
    "else: print \"strawberries tam nejsou\""
   ]
  },
  {
   "cell_type": "markdown",
   "metadata": {},
   "source": [
    "Alternativní způsob, jak získat hodnotu pomocí klíče, je pomocí metody ``get``.  Pokud klíč ve slovníku neexistuje, pak tato metoda vrátí hodnotu None . Poznámka: prozatím můžete slovo metoda chápat jako funkce, později bude tento pojem vysvětlen podrobněji. "
   ]
  },
  {
   "cell_type": "code",
   "execution_count": 7,
   "metadata": {
    "collapsed": false
   },
   "outputs": [
    {
     "name": "stdout",
     "output_type": "stream",
     "text": [
      "no bananas\n",
      "None\n"
     ]
    }
   ],
   "source": [
    "print counts.get('bananas') \n",
    "print counts.get('strawberries') "
   ]
  },
  {
   "cell_type": "markdown",
   "metadata": {},
   "source": [
    "Metoda get má volitelný argument, pomocí kterého můžete nastavit, co má tato metoda vrátit v případě, že klíč ve slovníku nebude."
   ]
  },
  {
   "cell_type": "code",
   "execution_count": 8,
   "metadata": {
    "collapsed": false
   },
   "outputs": [
    {
     "name": "stdout",
     "output_type": "stream",
     "text": [
      "0\n"
     ]
    }
   ],
   "source": [
    "print counts.get('strawberries',0)  "
   ]
  },
  {
   "cell_type": "markdown",
   "metadata": {},
   "source": [
    "Iterace klíču ve slovníku: "
   ]
  },
  {
   "cell_type": "code",
   "execution_count": 9,
   "metadata": {
    "collapsed": false
   },
   "outputs": [
    {
     "name": "stdout",
     "output_type": "stream",
     "text": [
      "pineapples D\n",
      "bananas no bananas\n",
      "oranges 100\n",
      "apples 3\n"
     ]
    }
   ],
   "source": [
    "for key in counts: \n",
    "    print key, counts[key]"
   ]
  },
  {
   "cell_type": "code",
   "execution_count": null,
   "metadata": {
    "collapsed": true
   },
   "outputs": [],
   "source": [
    "key je název proměnné. místo key bychom mohli zvolit jakýkoliv jiný název. Třeba x."
   ]
  },
  {
   "cell_type": "code",
   "execution_count": null,
   "metadata": {
    "collapsed": true
   },
   "outputs": [],
   "source": [
    "for x in counts: \n",
    "    print x, counts[x]"
   ]
  },
  {
   "cell_type": "markdown",
   "metadata": {},
   "source": [
    "tato iterace je stejná, jako bychom iterovali přes ```counts.keys()```:"
   ]
  },
  {
   "cell_type": "code",
   "execution_count": 10,
   "metadata": {
    "collapsed": false
   },
   "outputs": [
    {
     "name": "stdout",
     "output_type": "stream",
     "text": [
      "pineapples\n",
      "bananas\n",
      "oranges\n",
      "apples\n"
     ]
    }
   ],
   "source": [
    "for key in counts.keys(): \n",
    "    print key"
   ]
  },
  {
   "cell_type": "markdown",
   "metadata": {},
   "source": [
    "Pokud chceme iterovat přes hodnoty, tak použijeme count.values():"
   ]
  },
  {
   "cell_type": "code",
   "execution_count": 11,
   "metadata": {
    "collapsed": false
   },
   "outputs": [
    {
     "name": "stdout",
     "output_type": "stream",
     "text": [
      "D\n",
      "no bananas\n",
      "100\n",
      "3\n"
     ]
    }
   ],
   "source": [
    "for value in counts.values():\n",
    "    print value"
   ]
  },
  {
   "cell_type": "markdown",
   "metadata": {},
   "source": [
    "Pokud chceme iterova přes páry klíču a hodnot, tak použijeme counts.items() . Opět můžeme místo key a value použít jakýkoliv jiný název proměnných."
   ]
  },
  {
   "cell_type": "code",
   "execution_count": 12,
   "metadata": {
    "collapsed": false
   },
   "outputs": [
    {
     "name": "stdout",
     "output_type": "stream",
     "text": [
      "pineapples = D\n",
      "bananas = no bananas\n",
      "oranges = 100\n",
      "apples = 3\n"
     ]
    }
   ],
   "source": [
    "for key, value in counts.items():\n",
    "    print(key + \" = \" + str(value))"
   ]
  },
  {
   "cell_type": "markdown",
   "metadata": {},
   "source": [
    "Klíče nejsou ve slovníku uloženy v tom pořadí, v kterém jste je vytvořili. Pokud je chcete iterovat v tomto pořádí, pak je třeba použít funkci sorted()"
   ]
  },
  {
   "cell_type": "code",
   "execution_count": 13,
   "metadata": {
    "collapsed": false
   },
   "outputs": [
    {
     "name": "stdout",
     "output_type": "stream",
     "text": [
      "apples 3\n",
      "bananas no bananas\n",
      "oranges 100\n",
      "pineapples D\n"
     ]
    }
   ],
   "source": [
    "for key in sorted(counts.keys()):\n",
    "    print key, counts[key]"
   ]
  },
  {
   "cell_type": "code",
   "execution_count": 14,
   "metadata": {
    "collapsed": false
   },
   "outputs": [
    {
     "name": "stdout",
     "output_type": "stream",
     "text": [
      "3\n",
      "100\n",
      "D\n",
      "no bananas\n"
     ]
    }
   ],
   "source": [
    "for value in sorted(counts.values()):\n",
    "    print value"
   ]
  },
  {
   "cell_type": "markdown",
   "metadata": {},
   "source": [
    "### Vysvětlete co dělá následující kód"
   ]
  },
  {
   "cell_type": "code",
   "execution_count": 15,
   "metadata": {
    "collapsed": false
   },
   "outputs": [
    {
     "name": "stdout",
     "output_type": "stream",
     "text": [
      "1 None\n",
      "0 None\n",
      "3 None\n",
      "2 None\n",
      "0\n",
      "1\n",
      "2\n",
      "3\n"
     ]
    }
   ],
   "source": [
    "d={str(x): None for x in range(4)}\n",
    "for element in d:\n",
    "    print element, d[element]\n",
    "    \n",
    "list_d=[str(x) for x in range(4)]\n",
    "for element in list_d:\n",
    "    print element"
   ]
  },
  {
   "cell_type": "markdown",
   "metadata": {},
   "source": [
    "## Cvičení\n",
    "1) Napište program v pythonu, který spojí následující slovníky v jeden. \n",
    "\n",
    " Slovníky: \n",
    "\n",
    "```dic1={1:10, 2:20} \n",
    "dic2={3:30, 4:40} \n",
    "dic3={5:50,6:60} ```\n",
    "\n",
    "Nápověda: Podívejte se na dokumentaci funkce dict.update()\n",
    "\n",
    "2) Napište program v pythonu, který ze dvou listů vytvoří jeden slovník, tak že elementy z prvního listu budou sloužit jako klíče a elementy z druhého jako hodnoty. Například:\n",
    "```keys = ['red', 'green', 'blue']  \n",
    "values = ['#FF0000','#008000', '#0000FF']  ```\n",
    "\n",
    "má vytvořit:\n",
    "```{'blue': '#0000FF', 'green': '#008000', 'red': '#FF0000'}```\n",
    "\n",
    "\n",
    "4) Zkuste pochopit strukturu následujícího slovníku a napište kód, který eliminuje duplicitní elementy:\n",
    "\n",
    "```data_studentu = {'id1':   \n",
    "   {'name': ['Pepa'],   \n",
    "    'class': ['V'],   \n",
    "    'subject_integration': ['english, math, science']  \n",
    "   },  \n",
    " 'id2':   \n",
    "  {'name': ['Emil'],   \n",
    "    'class': ['V'],   \n",
    "    'subject_integration': ['english, math, science']  \n",
    "   },  \n",
    " 'id3':   \n",
    "    {'name': ['Cyril'],   \n",
    "    'class': ['V'],   \n",
    "    'subject_integration': ['english, math, science']  \n",
    "   },  \n",
    " 'id4':   \n",
    "   {'name': ['Emil'],   \n",
    "    'class': ['V'],   \n",
    "    'subject_integration': ['english, math, science']  \n",
    "   },  \n",
    "}```\n",
    "\n"
   ]
  },
  {
   "cell_type": "code",
   "execution_count": 2,
   "metadata": {
    "collapsed": false
   },
   "outputs": [
    {
     "name": "stdout",
     "output_type": "stream",
     "text": [
      "Help on built-in function update:\n",
      "\n",
      "update(...) method of builtins.dict instance\n",
      "    D.update([E, ]**F) -> None.  Update D from dict/iterable E and F.\n",
      "    If E is present and has a .keys() method, then does:  for k in E: D[k] = E[k]\n",
      "    If E is present and lacks a .keys() method, then does:  for k, v in E: D[k] = v\n",
      "    In either case, this is followed by: for k in F:  D[k] = F[k]\n",
      "\n"
     ]
    }
   ],
   "source": [
    "d={1:2,3:20}\n",
    "help(d.update)"
   ]
  },
  {
   "cell_type": "markdown",
   "metadata": {},
   "source": [
    "## Práce se soubory"
   ]
  },
  {
   "cell_type": "code",
   "execution_count": 16,
   "metadata": {
    "collapsed": false
   },
   "outputs": [
    {
     "name": "stdout",
     "output_type": "stream",
     "text": [
      "<open file 'example.txt', mode 'r' at 0x103f60e40>\n"
     ]
    }
   ],
   "source": [
    "f = open('example.txt')\n",
    "print f"
   ]
  },
  {
   "cell_type": "code",
   "execution_count": 17,
   "metadata": {
    "collapsed": false
   },
   "outputs": [
    {
     "data": {
      "text/plain": [
       "'X\\tY\\nbananas\\t3\\napples\\t5\\norange\\tnone\\n'"
      ]
     },
     "execution_count": 17,
     "metadata": {},
     "output_type": "execute_result"
    }
   ],
   "source": [
    "f.read()"
   ]
  },
  {
   "cell_type": "markdown",
   "metadata": {},
   "source": [
    "** Nikdy nezapomeňte soubor zavřít, když s ním přestanete pracovat!**"
   ]
  },
  {
   "cell_type": "code",
   "execution_count": 18,
   "metadata": {
    "collapsed": true
   },
   "outputs": [],
   "source": [
    "f.close() "
   ]
  },
  {
   "cell_type": "code",
   "execution_count": 19,
   "metadata": {
    "collapsed": false
   },
   "outputs": [
    {
     "data": {
      "text/plain": [
       "'X\\tY\\n'"
      ]
     },
     "execution_count": 19,
     "metadata": {},
     "output_type": "execute_result"
    }
   ],
   "source": [
    "f = open('example.txt')\n",
    "\n",
    "f.readline() # Tento příkaz prečte pouze jeden řádek"
   ]
  },
  {
   "cell_type": "code",
   "execution_count": 20,
   "metadata": {
    "collapsed": false
   },
   "outputs": [
    {
     "data": {
      "text/plain": [
       "'bananas\\t3\\n'"
      ]
     },
     "execution_count": 20,
     "metadata": {},
     "output_type": "execute_result"
    }
   ],
   "source": [
    "f.readline()"
   ]
  },
  {
   "cell_type": "code",
   "execution_count": 21,
   "metadata": {
    "collapsed": true
   },
   "outputs": [],
   "source": [
    "f.close()"
   ]
  },
  {
   "cell_type": "code",
   "execution_count": 22,
   "metadata": {
    "collapsed": false
   },
   "outputs": [
    {
     "name": "stdout",
     "output_type": "stream",
     "text": [
      "X\tY\n",
      "\n",
      "bananas\t3\n",
      "\n",
      "apples\t5\n",
      "\n",
      "orange\tnone\n",
      "\n"
     ]
    }
   ],
   "source": [
    "f = open('example.txt')\n",
    "for line in f:\n",
    "    print line"
   ]
  },
  {
   "cell_type": "markdown",
   "metadata": {},
   "source": [
    "Řádek po řádku vysvětlete, co provádí následující kód"
   ]
  },
  {
   "cell_type": "code",
   "execution_count": 23,
   "metadata": {
    "collapsed": false
   },
   "outputs": [
    {
     "name": "stdout",
     "output_type": "stream",
     "text": [
      "{'orange': 'none', 'bananas': '3', 'apples': '5'}\n"
     ]
    }
   ],
   "source": [
    "fruits=dict()\n",
    "f = open('example.txt')\n",
    "f.readline()\n",
    "for line in f:\n",
    "    mykey,myvalue=line.strip().split()\n",
    "    fruits[mykey]=myvalue\n",
    "f.close()\n",
    "print fruits"
   ]
  },
  {
   "cell_type": "markdown",
   "metadata": {},
   "source": [
    "Abyste mohli do souboru zapisovat, tak je potřeba jej otevřít s argumentem 'w' (write). Pokud tento soubor neexistuje, tak bude vytvořen. **Pozor** Pokud soubor s tímto názvev již existuje, tak bude nemilosrdně přepsán. "
   ]
  },
  {
   "cell_type": "code",
   "execution_count": 56,
   "metadata": {
    "collapsed": true
   },
   "outputs": [],
   "source": [
    "fw=open('writing.txt','w')\n",
    "fw.write('Toto je věta\\n')\n",
    "fw.close()"
   ]
  },
  {
   "cell_type": "code",
   "execution_count": 25,
   "metadata": {
    "collapsed": true
   },
   "outputs": [],
   "source": [
    "fw=open('another_writing.txt','w')\n",
    "fw.write('Toto je list čísel\\n')\n",
    "for i in range(10):\n",
    "    fw.write(str(i)+'\\n')\n",
    "fw.close()"
   ]
  },
  {
   "cell_type": "markdown",
   "metadata": {},
   "source": [
    "## Cvičení\n",
    "\n",
    "\n",
    "Napište program, který vezme jako vstup název souboru a spočítá kolikrát se v něm vyskytuje každé slovo. To potom zapíšte do jiného souboru tímto způsobem:\n",
    "\n",
    "    ```slovo1: 2\n",
    "        slovo2: 5 \n",
    "    ...```\n",
    "(slovo1 by mohlo být například sloveso \"byl\" a v tomto případě by se v textu vyskytovalo 2 krát.)\n",
    "\n",
    "Tento list vytiskněte v abecedním pořadí podle slov (python nejdříve umístí slova, které začínají specialními symboly). Všechna slova zároveň převeďte na malá písmena, takže 'To' a 'to' se počítají jako stejná slova. Nejdříve tento program použijte na soubor ```small.txt``` a potom na ```alice.txt```. Oba tyto soubory se nacházejí ve stejné složce, jako tento notebook.\n",
    "\n",
    "Nápověda: Nesnažte se celý program napsat najednou. Zvolte si jakési mílníky a až jich dosáhnete, tak je odzkoušejte pomocí funkce print() a potom pokračujte dále. (pomocí print() si vytiskněte některé hodnoty programu, abyste se ujistili, že program funguje tak, jak očekáváte.)\n"
   ]
  },
  {
   "cell_type": "markdown",
   "metadata": {},
   "source": [
    "## Cvičení\n",
    "Napište program, který vytiskne klíče a hodnoty slovníku v pořadí:\n",
    "* podle klíče\n",
    "* podle hodnoty\n"
   ]
  },
  {
   "cell_type": "markdown",
   "metadata": {
    "collapsed": true
   },
   "source": [
    "## Funkce\n",
    "Funkce je blok kódu, který má eliminovat psaní opakujícího se kódu. Zároveň způsobuje větší modularitu celého programu.\n",
    "Jeden z hlavních principů v programování: **DRY** (Don't repeat yourself)\n",
    "Vstupní data do funkce se vkládají skrze argumenty v závorkách. Výstupní data se vrací pomocí klíčového slova return. Vstupní a výstupní data nejsou povinné. Některé funkce nemusí nic vrátit a některé nemusí mít žádné vstupní data.\n"
   ]
  },
  {
   "cell_type": "markdown",
   "metadata": {},
   "source": [
    "Zadefinování funkce"
   ]
  },
  {
   "cell_type": "code",
   "execution_count": null,
   "metadata": {
    "collapsed": true
   },
   "outputs": [],
   "source": [
    "def func0():   \n",
    "    print(\"test\")"
   ]
  },
  {
   "cell_type": "markdown",
   "metadata": {},
   "source": [
    "Volání funkce"
   ]
  },
  {
   "cell_type": "code",
   "execution_count": null,
   "metadata": {
    "collapsed": true
   },
   "outputs": [],
   "source": [
    "func0()"
   ]
  },
  {
   "cell_type": "code",
   "execution_count": null,
   "metadata": {
    "collapsed": true
   },
   "outputs": [],
   "source": [
    "K funkcím můžeme vytvářet dokumentaci pomocí tzv. \"docstringů\", které následují definici funkce a předchází samotný kód funkce.\n",
    "Tato dokumentace často slouží pro naše budoucí JÁ, které si už nepamatuje co daná funkce provádí. Také je samozřejmě užitečná, pokud s naším kódem pracuje i někdo další."
   ]
  },
  {
   "cell_type": "code",
   "execution_count": 1,
   "metadata": {
    "collapsed": true
   },
   "outputs": [],
   "source": [
    "def func1(s):\n",
    "    \"\"\"\n",
    "   Vytiskne řetězec \"s\" a počet znaků, které obsahuje.    \n",
    "    \"\"\"\n",
    "    \n",
    "    print(s + \" má \" + str(len(s)) + \" znaků\")"
   ]
  },
  {
   "cell_type": "code",
   "execution_count": 2,
   "metadata": {
    "collapsed": false,
    "scrolled": true
   },
   "outputs": [
    {
     "name": "stdout",
     "output_type": "stream",
     "text": [
      "Help on function func1 in module __main__:\n",
      "\n",
      "func1(s)\n",
      "    Vytiskne řetězec \"s\" a počet znaků, které obsahuje.\n",
      "\n"
     ]
    }
   ],
   "source": [
    "help(func1)"
   ]
  },
  {
   "cell_type": "code",
   "execution_count": 3,
   "metadata": {
    "collapsed": false,
    "scrolled": true
   },
   "outputs": [
    {
     "name": "stdout",
     "output_type": "stream",
     "text": [
      "test má 4 znaků\n"
     ]
    }
   ],
   "source": [
    "func1(\"test\")"
   ]
  },
  {
   "cell_type": "markdown",
   "metadata": {},
   "source": [
    "Vrácení hodnot pomocí return"
   ]
  },
  {
   "cell_type": "code",
   "execution_count": null,
   "metadata": {
    "collapsed": true
   },
   "outputs": [],
   "source": [
    "def square(x):\n",
    "    return x ** 2"
   ]
  },
  {
   "cell_type": "code",
   "execution_count": null,
   "metadata": {
    "collapsed": true
   },
   "outputs": [],
   "source": [
    "Funce mohou vrátit i více než jednu hodnotu."
   ]
  },
  {
   "cell_type": "code",
   "execution_count": null,
   "metadata": {
    "collapsed": true
   },
   "outputs": [],
   "source": [
    "def powers(x):\n",
    "    return x ** 2, x ** 3, x ** 4"
   ]
  },
  {
   "cell_type": "code",
   "execution_count": null,
   "metadata": {
    "collapsed": true
   },
   "outputs": [],
   "source": [
    "powers(3)"
   ]
  },
  {
   "cell_type": "code",
   "execution_count": null,
   "metadata": {
    "collapsed": true
   },
   "outputs": [],
   "source": [
    "x2, x3, x4 = powers(3)\n",
    "\n",
    "print(x3)"
   ]
  },
  {
   "cell_type": "markdown",
   "metadata": {},
   "source": [
    "## Defaultní argumenty a pojmenované argumenty"
   ]
  },
  {
   "cell_type": "markdown",
   "metadata": {},
   "source": [
    "V definici funkce můžeme nastavit defaultní hodnoty pro některé argumenty."
   ]
  },
  {
   "cell_type": "code",
   "execution_count": 5,
   "metadata": {
    "collapsed": true
   },
   "outputs": [],
   "source": [
    "def myfunc(x, p=2, debug=False):\n",
    "    if debug:\n",
    "        print(\"vyhodnocení funkce pro x = \" + str(x) + \" s exponentem p = \" + str(p))\n",
    "    return x**p"
   ]
  },
  {
   "cell_type": "markdown",
   "metadata": {},
   "source": [
    "Pokud nyní při zavolání funkce myfunc neposkytneme hodnotu pro argument debug, tak bude použit defaultní False"
   ]
  },
  {
   "cell_type": "code",
   "execution_count": 6,
   "metadata": {
    "collapsed": false
   },
   "outputs": [
    {
     "data": {
      "text/plain": [
       "25"
      ]
     },
     "execution_count": 6,
     "metadata": {},
     "output_type": "execute_result"
    }
   ],
   "source": [
    "myfunc(5)"
   ]
  },
  {
   "cell_type": "code",
   "execution_count": 7,
   "metadata": {
    "collapsed": false
   },
   "outputs": [
    {
     "name": "stdout",
     "output_type": "stream",
     "text": [
      "vyhodnocení funkce pro x = 5 s exponentem p = 2\n"
     ]
    },
    {
     "data": {
      "text/plain": [
       "25"
      ]
     },
     "execution_count": 7,
     "metadata": {},
     "output_type": "execute_result"
    }
   ],
   "source": [
    "myfunc(5, debug=True)"
   ]
  },
  {
   "cell_type": "markdown",
   "metadata": {},
   "source": [
    "Normálně musíme při volání funkce vkládat argumenty ve stejném pořadí jako při definici. Pokud je ale při volání pojmenujeme, tak na pořadí nezáleží."
   ]
  },
  {
   "cell_type": "code",
   "execution_count": 8,
   "metadata": {
    "collapsed": false,
    "scrolled": true
   },
   "outputs": [
    {
     "name": "stdout",
     "output_type": "stream",
     "text": [
      "vyhodnocení funkce pro x = 7 s exponentem p = 3\n"
     ]
    },
    {
     "data": {
      "text/plain": [
       "343"
      ]
     },
     "execution_count": 8,
     "metadata": {},
     "output_type": "execute_result"
    }
   ],
   "source": [
    "myfunc(p=3, debug=True, x=7)"
   ]
  },
  {
   "cell_type": "markdown",
   "metadata": {},
   "source": [
    "## Nepojmenované funkce ( lambda výrazy )"
   ]
  },
  {
   "cell_type": "markdown",
   "metadata": {},
   "source": [
    "V pythonu můžeme vytvářet nepojmenované funkce pomocí klíčového slova lambda."
   ]
  },
  {
   "cell_type": "code",
   "execution_count": 10,
   "metadata": {
    "collapsed": true
   },
   "outputs": [],
   "source": [
    "f1 = lambda x: x**2\n",
    "    \n",
    "# je stejné jako\n",
    "\n",
    "def f2(x):\n",
    "    return x**2"
   ]
  },
  {
   "cell_type": "code",
   "execution_count": 11,
   "metadata": {
    "collapsed": false
   },
   "outputs": [
    {
     "data": {
      "text/plain": [
       "(4, 4)"
      ]
     },
     "execution_count": 11,
     "metadata": {},
     "output_type": "execute_result"
    }
   ],
   "source": [
    "f1(2), f2(2)"
   ]
  },
  {
   "cell_type": "markdown",
   "metadata": {},
   "source": [
    "Tyto lambda funkce jsou užitečné v případě, kdy chceme vložit jednoduchou funkce jako argument do jiné funkce a nechceme ji zadefinovat jen pro tento účel."
   ]
  },
  {
   "cell_type": "code",
   "execution_count": 27,
   "metadata": {
    "collapsed": false
   },
   "outputs": [
    {
     "name": "stdout",
     "output_type": "stream",
     "text": [
      "9\n",
      "4\n",
      "1\n",
      "0\n",
      "1\n",
      "4\n",
      "9\n"
     ]
    }
   ],
   "source": [
    "m=map(lambda x: x**2, range(-3,4))\n",
    "for i in m:\n",
    "    print(i)"
   ]
  },
  {
   "cell_type": "markdown",
   "metadata": {},
   "source": [
    "map je základní funkce pythonu, která aplikuje funkci v prvním argumentu na všechny elementy pole v druhém argumentu."
   ]
  },
  {
   "cell_type": "code",
   "execution_count": 23,
   "metadata": {
    "collapsed": false,
    "scrolled": true
   },
   "outputs": [
    {
     "name": "stdout",
     "output_type": "stream",
     "text": [
      "bananas 1\n",
      "oranges 2\n",
      "apples 3\n"
     ]
    }
   ],
   "source": [
    "for k,v in sorted(counts.items(), key=lambda x: x[1]):\n",
    "    print(k, v)"
   ]
  },
  {
   "cell_type": "markdown",
   "metadata": {},
   "source": [
    "## Moduly"
   ]
  },
  {
   "cell_type": "markdown",
   "metadata": {},
   "source": [
    "Jeden z nejdůležitějších konceptů v programování je snaha vyhnout se opakovanému psaní stejného kódu.\n",
    " Toho je dosaženo pomocí funkcí, tříd a konceptu, kterému se říká \"scope\" (modulární programování). Pomocí těchto konceptů se program stává čitelnějším a jeho udržitelnost je značně jednodušší. V praxi to znamená, že se programech vyskytuje méně bugů (chyb) a je jednodušší je upravovat. \n",
    " \n",
    " Python podporuje modulární programování na více úrovních. Funkce reprezentují nízkou úroveň modularity, moduly tu nejvyšší úroveň. Moduly shromažďují užitečné funkce, proměnné a třídy do jednoho konceptuálního bloku. Modul je tvořen pomocí souboru s koncovkou .py a do jiného souboru může být importován pomocí příkazu import.\n",
    " \n",
    " Níže je ukázka jednoduchého modulu mymodule.py, který obsahuje proměnnou a dvě funkce."
   ]
  },
  {
   "cell_type": "code",
   "execution_count": 3,
   "metadata": {
    "collapsed": false
   },
   "outputs": [
    {
     "name": "stdout",
     "output_type": "stream",
     "text": [
      "Writing mymodule.py\n"
     ]
    }
   ],
   "source": [
    "## řádek níže slouží k uložení této buňky do souboru mymodule.py\n",
    "%%file mymodule.py  \n",
    "\"\"\"\n",
    "Ukázka jednoduchého modulu\n",
    "\"\"\"\n",
    "\n",
    "my_variable = 0\n",
    "\n",
    "def my_function():\n",
    "    \"\"\"\n",
    "    jednoduchá funkce\n",
    "    \"\"\"\n",
    "    return my_variable\n",
    "\n",
    "def my_function2(mystring):\n",
    "    \"\"\"\n",
    "    jednoduchá funkce s argumentem\n",
    "    \"\"\"\n",
    "    print(mystring)"
   ]
  },
  {
   "cell_type": "code",
   "execution_count": 4,
   "metadata": {
    "collapsed": true
   },
   "outputs": [],
   "source": [
    "import mymodule"
   ]
  },
  {
   "cell_type": "code",
   "execution_count": 5,
   "metadata": {
    "collapsed": false
   },
   "outputs": [
    {
     "name": "stdout",
     "output_type": "stream",
     "text": [
      "Help on module mymodule:\n",
      "\n",
      "NAME\n",
      "    mymodule - Ukázka jednoduchého modulu\n",
      "\n",
      "FUNCTIONS\n",
      "    my_function()\n",
      "        jednoduchá funkce\n",
      "    \n",
      "    my_function2(mystring)\n",
      "        jednoduchá funkce s argumentem\n",
      "\n",
      "DATA\n",
      "    my_variable = 0\n",
      "\n",
      "FILE\n",
      "    c:\\users\\power\\desktop\\algorexamples\\4hodina\\mymodule.py\n",
      "\n",
      "\n"
     ]
    }
   ],
   "source": [
    "help(mymodule)"
   ]
  },
  {
   "cell_type": "code",
   "execution_count": 6,
   "metadata": {
    "collapsed": false
   },
   "outputs": [
    {
     "data": {
      "text/plain": [
       "0"
      ]
     },
     "execution_count": 6,
     "metadata": {},
     "output_type": "execute_result"
    }
   ],
   "source": [
    "mymodule.my_variable"
   ]
  },
  {
   "cell_type": "code",
   "execution_count": 7,
   "metadata": {
    "collapsed": false
   },
   "outputs": [
    {
     "data": {
      "text/plain": [
       "0"
      ]
     },
     "execution_count": 7,
     "metadata": {},
     "output_type": "execute_result"
    }
   ],
   "source": [
    "mymodule.my_function() "
   ]
  },
  {
   "cell_type": "code",
   "execution_count": 8,
   "metadata": {
    "collapsed": false
   },
   "outputs": [
    {
     "name": "stdout",
     "output_type": "stream",
     "text": [
      "hi\n"
     ]
    }
   ],
   "source": [
    "mymodule.my_function2('hi') "
   ]
  },
  {
   "cell_type": "code",
   "execution_count": 11,
   "metadata": {
    "collapsed": false
   },
   "outputs": [
    {
     "data": {
      "text/plain": [
       "<module 'mymodule' from 'C:\\\\Users\\\\power\\\\Desktop\\\\algorExamples\\\\4hodina\\\\mymodule.py'>"
      ]
     },
     "execution_count": 11,
     "metadata": {},
     "output_type": "execute_result"
    }
   ],
   "source": [
    "import importlib as imp\n",
    "imp.reload(mymodule)"
   ]
  },
  {
   "cell_type": "markdown",
   "metadata": {},
   "source": [
    "## Vyjímky"
   ]
  },
  {
   "cell_type": "markdown",
   "metadata": {},
   "source": [
    "Chyby jsou v pythonu řešeny pomocí mechanizmu, kterému se říka \"Exceptions\" (vyjímky). Pokud dojde k chybě, tak tato chyba může být řešena pomocí vyjímky, která přeruší normální chod programu. "
   ]
  },
  {
   "cell_type": "markdown",
   "metadata": {},
   "source": [
    "Pro vygenerování vyjímky se používá příkaz \"raise\" spolu s argumentem, který musí být instancí třídy BaseException nebo třídy, která z této třídy dědí. "
   ]
  },
  {
   "cell_type": "code",
   "execution_count": 14,
   "metadata": {
    "collapsed": false
   },
   "outputs": [
    {
     "ename": "Exception",
     "evalue": "popis chyby",
     "output_type": "error",
     "traceback": [
      "\u001b[0;31m---------------------------------------------------------------------------\u001b[0m",
      "\u001b[0;31mException\u001b[0m                                 Traceback (most recent call last)",
      "\u001b[0;32m<ipython-input-14-bd835ec2fde8>\u001b[0m in \u001b[0;36m<module>\u001b[0;34m()\u001b[0m\n\u001b[0;32m----> 1\u001b[0;31m \u001b[1;32mraise\u001b[0m \u001b[0mException\u001b[0m\u001b[1;33m(\u001b[0m\u001b[1;34m\"popis chyby\"\u001b[0m\u001b[1;33m)\u001b[0m\u001b[1;33m\u001b[0m\u001b[0m\n\u001b[0m",
      "\u001b[0;31mException\u001b[0m: popis chyby"
     ]
    }
   ],
   "source": [
    "raise Exception(\"popis chyby\")"
   ]
  },
  {
   "cell_type": "markdown",
   "metadata": {},
   "source": [
    "Typickým příkladem pro použití vyjímek je zrušení exekuce funkce, pokud platí určitá podmínka.\n"
   ]
  },
  {
   "cell_type": "markdown",
   "metadata": {},
   "source": [
    "def my_function(arguments):\n",
    "\n",
    "    if not verify(arguments):\n",
    "        raise Exception(\"Invalid arguments\")\n",
    "\n",
    "    # rest of the code goes here"
   ]
  },
  {
   "cell_type": "markdown",
   "metadata": {},
   "source": [
    "Abychom mohli zachytit chybu a zamezit spadnutí programu, tak používáme příkazy \"try\" a \"except\""
   ]
  },
  {
   "cell_type": "code",
   "execution_count": null,
   "metadata": {
    "collapsed": true
   },
   "outputs": [],
   "source": [
    "try:\n",
    "    # zde příjde kód, který potenciálně může vyhodit vyjímku.\n",
    "except:\n",
    "    # zde příjde kód, který danou chybu vyřeší.\n",
    "    # tento kód se nespustí, pokud kód v bloku try nevyhodí chybu."
   ]
  },
  {
   "cell_type": "code",
   "execution_count": null,
   "metadata": {
    "collapsed": true
   },
   "outputs": [],
   "source": [
    "try:\n",
    "    print(\"test\")\n",
    "    # proměnná test není zadefinována. Vyhodí chubu.\n",
    "    print(test)\n",
    "except:\n",
    "    print(\"Zachytil jsem chybu\")"
   ]
  },
  {
   "cell_type": "markdown",
   "metadata": {},
   "source": [
    "Informace o chybě je uložena v instanci vyjímky, která je k dispozici v bloku \"except\""
   ]
  },
  {
   "cell_type": "code",
   "execution_count": 21,
   "metadata": {
    "collapsed": false
   },
   "outputs": [
    {
     "name": "stdout",
     "output_type": "stream",
     "text": [
      "test\n",
      "Zachytil jsem chybu:name 'test' is not defined\n"
     ]
    }
   ],
   "source": [
    "try:\n",
    "    print(\"test\")\n",
    "    # proměnná test není zadefinována. Vyhodí chubu.\n",
    "    print(test)\n",
    "except Exception as e:\n",
    "    print(\"Zachytil jsem chybu:\" + str(e))"
   ]
  },
  {
   "cell_type": "markdown",
   "metadata": {},
   "source": [
    "## Třídy"
   ]
  },
  {
   "cell_type": "markdown",
   "metadata": {},
   "source": [
    "Třídy jsou hlavním konceptem objektově orientovaného programování, což je určitý styl psaní kódu. Skoro veškeré moderní jazyky umožňují objektově orientované programování.\n",
    "Třída je struktura, která reprezentuje určitý objekt/koncept a operace, které mohou být s tímto objektem prováďeny.\n",
    "\n",
    "V pythonu mohou třídy obsahovat atributy (proměnné) a metody (funkce).\n",
    "Třída je zadefinována podobně jako funkce s pomocí klíčového slova class a obyčejně obsahuje definice metod této třídy.\n",
    "\n",
    "* Každá metoda by měla mít jako první argument klíčové slovo 'self'.\n",
    "* Některé metody mají speciální význam. Tyto začínají a končí dvěmi podtržítky.\n",
    "    * `__init__`: tato metoda se zavolá v okamžiku vytvoření instance\n",
    "    * `__str__` : tato metoda se zavolá pokud danou instanci chceme vytisknou pomocí funkce print"
   ]
  },
  {
   "cell_type": "code",
   "execution_count": 25,
   "metadata": {
    "collapsed": true
   },
   "outputs": [],
   "source": [
    "class Point:\n",
    "    \"\"\"\n",
    "    Jednoduchá třída reprezentující bodu v kartézském souřadnicovém systému.\n",
    "    \"\"\"\n",
    "    \n",
    "    def __init__(self, x, y):\n",
    "        \"\"\"\n",
    "        Vytvoření bodu se souřadnicemi x, y.\n",
    "        \"\"\"\n",
    "        self.x = x\n",
    "        self.y = y\n",
    "        \n",
    "    def translate(self, dx, dy):\n",
    "        \"\"\"\n",
    "        Posunutí bodu\n",
    "        \"\"\"\n",
    "        self.x += dx\n",
    "        self.y += dy\n",
    "        \n",
    "    def __str__(self):\n",
    "        return(\"Point at [%f, %f]\" % (self.x, self.y))"
   ]
  },
  {
   "cell_type": "code",
   "execution_count": null,
   "metadata": {
    "collapsed": true
   },
   "outputs": [],
   "source": [
    "Vytvoření instance:"
   ]
  },
  {
   "cell_type": "code",
   "execution_count": null,
   "metadata": {
    "collapsed": true
   },
   "outputs": [],
   "source": [
    "p1 = Point(0, 0) # toto zavolá metodu __init__\n",
    "\n",
    "print(p1)         # toto zavolá metodu __str__"
   ]
  },
  {
   "cell_type": "code",
   "execution_count": null,
   "metadata": {
    "collapsed": true
   },
   "outputs": [],
   "source": [
    "vytvoření další instance a použití metody. Nyní budou existovat dvě odlišné instance."
   ]
  },
  {
   "cell_type": "code",
   "execution_count": null,
   "metadata": {
    "collapsed": true
   },
   "outputs": [],
   "source": [
    "p2 = Point(1, 1)\n",
    "\n",
    "p1.translate(0.25, 1.5)\n",
    "\n",
    "print(p1)\n",
    "print(p2)"
   ]
  },
  {
   "cell_type": "code",
   "execution_count": null,
   "metadata": {
    "collapsed": true
   },
   "outputs": [],
   "source": [
    "Zavolání metody ovlivní pouze instanci, u které tuto metodu voláme. Ostatní instance zůstanou nedotčeny.\n",
    "Toto je pricip objektově orientovaného designu: funkce a proměnné jsou seskupeny do separátních a nezávislých entit."
   ]
  }
 ],
 "metadata": {
  "kernelspec": {
   "display_name": "Python 3",
   "language": "python",
   "name": "python3"
  },
  "language_info": {
   "codemirror_mode": {
    "name": "ipython",
    "version": 3
   },
   "file_extension": ".py",
   "mimetype": "text/x-python",
   "name": "python",
   "nbconvert_exporter": "python",
   "pygments_lexer": "ipython3",
   "version": "3.6.0"
  }
 },
 "nbformat": 4,
 "nbformat_minor": 0
}

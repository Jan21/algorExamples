{
 "cells": [
  {
   "cell_type": "markdown",
   "metadata": {},
   "source": [
    "# Na dnešní hodině\n",
    "budeme:\n",
    "* pracovat s datovými strukturami, kterým se říká slovníky (Dictionaries) \n",
    "* procvičovat práci s listy, tuply, řetězci a slovníky"
   ]
  },
  {
   "cell_type": "markdown",
   "metadata": {},
   "source": [
    "### Slovníky (Dictionaries)"
   ]
  },
  {
   "cell_type": "markdown",
   "metadata": {},
   "source": [
    "Slovníky jsou také jako listy, s vyjímkou, že každý element je dvojice klíče a hodnoty (key, value). Syntaxe slovníku je: `{key1 : value1, key2 : value 2, ...}`:"
   ]
  },
  {
   "cell_type": "code",
   "execution_count": 1,
   "metadata": {
    "collapsed": false
   },
   "outputs": [
    {
     "name": "stdout",
     "output_type": "stream",
     "text": [
      "<type 'dict'>\n",
      "{'bananas': 1, 'oranges': 2, 'apples': 3}\n"
     ]
    }
   ],
   "source": [
    "counts = {\"bananas\" : 1,\n",
    "          \"oranges\" : 2,\n",
    "          \"apples\" : 3,}\n",
    "\n",
    "print(type(counts))\n",
    "print(counts)"
   ]
  },
  {
   "cell_type": "markdown",
   "metadata": {},
   "source": [
    "<img src=\"dictionary.png\">"
   ]
  },
  {
   "cell_type": "code",
   "execution_count": 2,
   "metadata": {
    "collapsed": false
   },
   "outputs": [
    {
     "name": "stdout",
     "output_type": "stream",
     "text": [
      "bananas = 1\n",
      "oranges = 2\n",
      "apples = 3\n"
     ]
    }
   ],
   "source": [
    "print(\"bananas = \" + str(counts[\"bananas\"]))\n",
    "print(\"oranges = \" + str(counts[\"oranges\"]))\n",
    "print(\"apples = \" + str(counts[\"apples\"]))"
   ]
  },
  {
   "cell_type": "code",
   "execution_count": 3,
   "metadata": {
    "collapsed": false
   },
   "outputs": [
    {
     "name": "stdout",
     "output_type": "stream",
     "text": [
      "bananas = no bananas\n",
      "oranges = 100\n",
      "apples = 3\n",
      "pineapples = D\n"
     ]
    }
   ],
   "source": [
    "counts[\"bananas\"] = \"no bananas\"\n",
    "counts[\"oranges\"] = 100\n",
    "\n",
    "# add a new entry\n",
    "counts[\"pineapples\"] = \"D\"\n",
    "\n",
    "print(\"bananas = \" + str(counts[\"bananas\"]))\n",
    "print(\"oranges = \" + str(counts[\"oranges\"]))\n",
    "print(\"apples = \" + str(counts[\"apples\"]))\n",
    "print(\"pineapples = \" + str(counts[\"pineapples\"]))"
   ]
  },
  {
   "cell_type": "markdown",
   "metadata": {},
   "source": [
    "Řetězce, čísla a tuply mohou sloužit jako klíče a jakýkoliv typ může složit jako hodnota. Pokud jako klíč použijeme něco, co ve slovníku není, tak python vyhodí chybu (KeyError). Použijte klíčové slovo \"in\" k ověření, zda se klíč ve slovníku nachází."
   ]
  },
  {
   "cell_type": "code",
   "execution_count": 4,
   "metadata": {
    "collapsed": false
   },
   "outputs": [
    {
     "name": "stdout",
     "output_type": "stream",
     "text": [
      "no bananas\n"
     ]
    }
   ],
   "source": [
    "print counts['bananas']     ## Jednoduché vyhledávání pomocí klíče"
   ]
  },
  {
   "cell_type": "markdown",
   "metadata": {},
   "source": [
    "Pokud použijete klíč, který ve slovníku není zadefinován, tak python vyhodí chybu:"
   ]
  },
  {
   "cell_type": "code",
   "execution_count": 5,
   "metadata": {
    "collapsed": false
   },
   "outputs": [
    {
     "ename": "KeyError",
     "evalue": "'strawberries'",
     "output_type": "error",
     "traceback": [
      "\u001b[0;31m---------------------------------------------------------------------------\u001b[0m",
      "\u001b[0;31mKeyError\u001b[0m                                  Traceback (most recent call last)",
      "\u001b[0;32m<ipython-input-5-a80a7cf87080>\u001b[0m in \u001b[0;36m<module>\u001b[0;34m()\u001b[0m\n\u001b[0;32m----> 1\u001b[0;31m \u001b[0;32mprint\u001b[0m \u001b[0mcounts\u001b[0m\u001b[0;34m[\u001b[0m\u001b[0;34m'strawberries'\u001b[0m\u001b[0;34m]\u001b[0m\u001b[0;34m\u001b[0m\u001b[0m\n\u001b[0m",
      "\u001b[0;31mKeyError\u001b[0m: 'strawberries'"
     ]
    }
   ],
   "source": [
    "print counts['strawberries']"
   ]
  },
  {
   "cell_type": "markdown",
   "metadata": {},
   "source": [
    "Abychom se vyhli chybě, můžeme nejprve otestovat, zda se klíč ve slovníku nachází"
   ]
  },
  {
   "cell_type": "code",
   "execution_count": 6,
   "metadata": {
    "collapsed": false
   },
   "outputs": [
    {
     "name": "stdout",
     "output_type": "stream",
     "text": [
      "no bananas\n",
      "I don't know what a strawberry is\n"
     ]
    }
   ],
   "source": [
    "if 'bananas' in counts: print counts['bananas']\n",
    "if 'strawberries' in counts: print counts['strawberries'] \n",
    "else: print \"strawberries tam nejsou\""
   ]
  },
  {
   "cell_type": "markdown",
   "metadata": {},
   "source": [
    "Alternativní způsob, jak získat hodnotu pomocí klíče, je pomocí metody ``get``.  Pokud klíč ve slovníku neexistuje, pak tato metoda vrátí hodnotu None . Poznámka: prozatím můžete slovo metoda chápat jako funkce, později bude tento pojem vysvětlen podrobněji. "
   ]
  },
  {
   "cell_type": "code",
   "execution_count": 7,
   "metadata": {
    "collapsed": false
   },
   "outputs": [
    {
     "name": "stdout",
     "output_type": "stream",
     "text": [
      "no bananas\n",
      "None\n"
     ]
    }
   ],
   "source": [
    "print counts.get('bananas') \n",
    "print counts.get('strawberries') "
   ]
  },
  {
   "cell_type": "markdown",
   "metadata": {},
   "source": [
    "Metoda get má volitelný argument, pomocí kterého můžete nastavit, co má tato metoda vrátit v případě, že klíč ve slovníku nebude."
   ]
  },
  {
   "cell_type": "code",
   "execution_count": 8,
   "metadata": {
    "collapsed": false
   },
   "outputs": [
    {
     "name": "stdout",
     "output_type": "stream",
     "text": [
      "0\n"
     ]
    }
   ],
   "source": [
    "print counts.get('strawberries',0)  "
   ]
  },
  {
   "cell_type": "markdown",
   "metadata": {},
   "source": [
    "Iterace klíču ve slovníku: "
   ]
  },
  {
   "cell_type": "code",
   "execution_count": 9,
   "metadata": {
    "collapsed": false
   },
   "outputs": [
    {
     "name": "stdout",
     "output_type": "stream",
     "text": [
      "pineapples D\n",
      "bananas no bananas\n",
      "oranges 100\n",
      "apples 3\n"
     ]
    }
   ],
   "source": [
    "for key in counts: \n",
    "    print key, counts[key]"
   ]
  },
  {
   "cell_type": "code",
   "execution_count": null,
   "metadata": {
    "collapsed": true
   },
   "outputs": [],
   "source": [
    "key je název proměnné. místo key bychom mohli zvolit jakýkoliv jiný název. Třeba x."
   ]
  },
  {
   "cell_type": "code",
   "execution_count": null,
   "metadata": {
    "collapsed": true
   },
   "outputs": [],
   "source": [
    "for x in counts: \n",
    "    print x, counts[x]"
   ]
  },
  {
   "cell_type": "markdown",
   "metadata": {},
   "source": [
    "tato iterace je stejná, jako bychom iterovali přes ```counts.keys()```:"
   ]
  },
  {
   "cell_type": "code",
   "execution_count": 10,
   "metadata": {
    "collapsed": false
   },
   "outputs": [
    {
     "name": "stdout",
     "output_type": "stream",
     "text": [
      "pineapples\n",
      "bananas\n",
      "oranges\n",
      "apples\n"
     ]
    }
   ],
   "source": [
    "for key in counts.keys(): \n",
    "    print key"
   ]
  },
  {
   "cell_type": "markdown",
   "metadata": {},
   "source": [
    "Pokud chceme iterovat přes hodnoty, tak použijeme count.values():"
   ]
  },
  {
   "cell_type": "code",
   "execution_count": 11,
   "metadata": {
    "collapsed": false
   },
   "outputs": [
    {
     "name": "stdout",
     "output_type": "stream",
     "text": [
      "D\n",
      "no bananas\n",
      "100\n",
      "3\n"
     ]
    }
   ],
   "source": [
    "for value in counts.values():\n",
    "    print value"
   ]
  },
  {
   "cell_type": "markdown",
   "metadata": {},
   "source": [
    "Pokud chceme iterova přes páry klíču a hodnot, tak použijeme counts.items() . Opět můžeme místo key a value použít jakýkoliv jiný název proměnných."
   ]
  },
  {
   "cell_type": "code",
   "execution_count": 12,
   "metadata": {
    "collapsed": false
   },
   "outputs": [
    {
     "name": "stdout",
     "output_type": "stream",
     "text": [
      "pineapples = D\n",
      "bananas = no bananas\n",
      "oranges = 100\n",
      "apples = 3\n"
     ]
    }
   ],
   "source": [
    "for key, value in counts.items():\n",
    "    print(key + \" = \" + str(value))"
   ]
  },
  {
   "cell_type": "markdown",
   "metadata": {},
   "source": [
    "Klíče nejsou ve slovníku uloženy v tom pořadí, v kterém jste je vytvořili. Pokud je chcete iterovat v tomto pořádí, pak je třeba použít funkci sorted()"
   ]
  },
  {
   "cell_type": "code",
   "execution_count": 13,
   "metadata": {
    "collapsed": false
   },
   "outputs": [
    {
     "name": "stdout",
     "output_type": "stream",
     "text": [
      "apples 3\n",
      "bananas no bananas\n",
      "oranges 100\n",
      "pineapples D\n"
     ]
    }
   ],
   "source": [
    "for key in sorted(counts.keys()):\n",
    "    print key, counts[key]"
   ]
  },
  {
   "cell_type": "code",
   "execution_count": 14,
   "metadata": {
    "collapsed": false
   },
   "outputs": [
    {
     "name": "stdout",
     "output_type": "stream",
     "text": [
      "3\n",
      "100\n",
      "D\n",
      "no bananas\n"
     ]
    }
   ],
   "source": [
    "for value in sorted(counts.values()):\n",
    "    print value"
   ]
  },
  {
   "cell_type": "markdown",
   "metadata": {},
   "source": [
    "### Vysvětlete co dělá následující kód"
   ]
  },
  {
   "cell_type": "code",
   "execution_count": 15,
   "metadata": {
    "collapsed": false
   },
   "outputs": [
    {
     "name": "stdout",
     "output_type": "stream",
     "text": [
      "1 None\n",
      "0 None\n",
      "3 None\n",
      "2 None\n",
      "0\n",
      "1\n",
      "2\n",
      "3\n"
     ]
    }
   ],
   "source": [
    "d={str(x): None for x in range(4)}\n",
    "for element in d:\n",
    "    print element, d[element]\n",
    "    \n",
    "list_d=[str(x) for x in range(4)]\n",
    "for element in list_d:\n",
    "    print element"
   ]
  },
  {
   "cell_type": "markdown",
   "metadata": {},
   "source": [
    "## Cvičení\n",
    "1) Napište program v pythonu, který spojí následující slovníky v jeden. \n",
    "\n",
    " Slovníky: \n",
    "\n",
    "```dic1={1:10, 2:20} \n",
    "dic2={3:30, 4:40} \n",
    "dic3={5:50,6:60} ```\n",
    "\n",
    "Nápověda: Podívejte se na dokumentaci funkce dict.update()\n",
    "\n",
    "2) Napište program v pythonu, který ze dvou listů vytvoří jeden slovník, tak že elementy z prvního listu budou sloužit jako klíče a elementy z druhého jako hodnoty. Například:\n",
    "```keys = ['red', 'green', 'blue']  \n",
    "values = ['#FF0000','#008000', '#0000FF']  ```\n",
    "\n",
    "má vytvořit:\n",
    "```{'blue': '#0000FF', 'green': '#008000', 'red': '#FF0000'}```\n",
    "\n",
    "\n",
    "4) Zkuste pochopit strukturu následujícího slovníku a napište kód, který eliminuje duplicitní elementy:\n",
    "\n",
    "```data_studentu = {'id1':   \n",
    "   {'name': ['Pepa'],   \n",
    "    'class': ['V'],   \n",
    "    'subject_integration': ['english, math, science']  \n",
    "   },  \n",
    " 'id2':   \n",
    "  {'name': ['Emil'],   \n",
    "    'class': ['V'],   \n",
    "    'subject_integration': ['english, math, science']  \n",
    "   },  \n",
    " 'id3':   \n",
    "    {'name': ['Cyril'],   \n",
    "    'class': ['V'],   \n",
    "    'subject_integration': ['english, math, science']  \n",
    "   },  \n",
    " 'id4':   \n",
    "   {'name': ['Emil'],   \n",
    "    'class': ['V'],   \n",
    "    'subject_integration': ['english, math, science']  \n",
    "   },  \n",
    "}```\n",
    "\n"
   ]
  },
  {
   "cell_type": "code",
   "execution_count": 2,
   "metadata": {
    "collapsed": false
   },
   "outputs": [
    {
     "name": "stdout",
     "output_type": "stream",
     "text": [
      "Help on built-in function update:\n",
      "\n",
      "update(...) method of builtins.dict instance\n",
      "    D.update([E, ]**F) -> None.  Update D from dict/iterable E and F.\n",
      "    If E is present and has a .keys() method, then does:  for k in E: D[k] = E[k]\n",
      "    If E is present and lacks a .keys() method, then does:  for k, v in E: D[k] = v\n",
      "    In either case, this is followed by: for k in F:  D[k] = F[k]\n",
      "\n"
     ]
    }
   ],
   "source": [
    "d={1:2,3:20}\n",
    "help(d.update)"
   ]
  },
  {
   "cell_type": "markdown",
   "metadata": {},
   "source": [
    "## Práce se soubory"
   ]
  },
  {
   "cell_type": "code",
   "execution_count": 16,
   "metadata": {
    "collapsed": false
   },
   "outputs": [
    {
     "name": "stdout",
     "output_type": "stream",
     "text": [
      "<open file 'example.txt', mode 'r' at 0x103f60e40>\n"
     ]
    }
   ],
   "source": [
    "f = open('example.txt')\n",
    "print f"
   ]
  },
  {
   "cell_type": "code",
   "execution_count": 17,
   "metadata": {
    "collapsed": false
   },
   "outputs": [
    {
     "data": {
      "text/plain": [
       "'X\\tY\\nbananas\\t3\\napples\\t5\\norange\\tnone\\n'"
      ]
     },
     "execution_count": 17,
     "metadata": {},
     "output_type": "execute_result"
    }
   ],
   "source": [
    "f.read()"
   ]
  },
  {
   "cell_type": "markdown",
   "metadata": {},
   "source": [
    "** Nikdy nezapomeňte soubor zavřít, když s ním přestanete pracovat!**"
   ]
  },
  {
   "cell_type": "code",
   "execution_count": 18,
   "metadata": {
    "collapsed": true
   },
   "outputs": [],
   "source": [
    "f.close() "
   ]
  },
  {
   "cell_type": "code",
   "execution_count": 19,
   "metadata": {
    "collapsed": false
   },
   "outputs": [
    {
     "data": {
      "text/plain": [
       "'X\\tY\\n'"
      ]
     },
     "execution_count": 19,
     "metadata": {},
     "output_type": "execute_result"
    }
   ],
   "source": [
    "f = open('example.txt')\n",
    "\n",
    "f.readline() # Tento příkaz prečte pouze jeden řádek"
   ]
  },
  {
   "cell_type": "code",
   "execution_count": 20,
   "metadata": {
    "collapsed": false
   },
   "outputs": [
    {
     "data": {
      "text/plain": [
       "'bananas\\t3\\n'"
      ]
     },
     "execution_count": 20,
     "metadata": {},
     "output_type": "execute_result"
    }
   ],
   "source": [
    "f.readline()"
   ]
  },
  {
   "cell_type": "code",
   "execution_count": 21,
   "metadata": {
    "collapsed": true
   },
   "outputs": [],
   "source": [
    "f.close()"
   ]
  },
  {
   "cell_type": "code",
   "execution_count": 22,
   "metadata": {
    "collapsed": false
   },
   "outputs": [
    {
     "name": "stdout",
     "output_type": "stream",
     "text": [
      "X\tY\n",
      "\n",
      "bananas\t3\n",
      "\n",
      "apples\t5\n",
      "\n",
      "orange\tnone\n",
      "\n"
     ]
    }
   ],
   "source": [
    "f = open('example.txt')\n",
    "for line in f:\n",
    "    print line"
   ]
  },
  {
   "cell_type": "markdown",
   "metadata": {},
   "source": [
    "Řádek po řádku vysvětlete, co provádí následující kód"
   ]
  },
  {
   "cell_type": "code",
   "execution_count": 23,
   "metadata": {
    "collapsed": false
   },
   "outputs": [
    {
     "name": "stdout",
     "output_type": "stream",
     "text": [
      "{'orange': 'none', 'bananas': '3', 'apples': '5'}\n"
     ]
    }
   ],
   "source": [
    "fruits=dict()\n",
    "f = open('example.txt')\n",
    "f.readline()\n",
    "for line in f:\n",
    "    mykey,myvalue=line.strip().split()\n",
    "    fruits[mykey]=myvalue\n",
    "f.close()\n",
    "print fruits"
   ]
  },
  {
   "cell_type": "markdown",
   "metadata": {},
   "source": [
    "Abyste mohli do souboru zapisovat, tak je potřeba jej otevřít s argumentem 'w' (write). Pokud tento soubor neexistuje, tak bude vytvořen. **Pozor** Pokud soubor s tímto názvev již existuje, tak bude nemilosrdně přepsán. "
   ]
  },
  {
   "cell_type": "code",
   "execution_count": 56,
   "metadata": {
    "collapsed": true
   },
   "outputs": [],
   "source": [
    "fw=open('writing.txt','w')\n",
    "fw.write('Toto je věta\\n')\n",
    "fw.close()"
   ]
  },
  {
   "cell_type": "code",
   "execution_count": 25,
   "metadata": {
    "collapsed": true
   },
   "outputs": [],
   "source": [
    "fw=open('another_writing.txt','w')\n",
    "fw.write('Toto je list čísel\\n')\n",
    "for i in range(10):\n",
    "    fw.write(str(i)+'\\n')\n",
    "fw.close()"
   ]
  },
  {
   "cell_type": "markdown",
   "metadata": {},
   "source": [
    "## Cvičení\n",
    "\n",
    "\n",
    "Napište program, který vezme jako vstup název souboru a spočítá kolikrát se v něm vyskytuje každé slovo. To potom zapíšte do jiného souboru tímto způsobem:\n",
    "\n",
    "    ```slovo1: 2\n",
    "        slovo2: 5 \n",
    "    ...```\n",
    "(slovo1 by mohlo být například sloveso \"byl\" a v tomto případě by se v textu vyskytovalo 2 krát.)\n",
    "\n",
    "Tento list vytiskněte v abecedním pořadí podle slov (python nejdříve umístí slova, které začínají specialními symboly). Všechna slova zároveň převeďte na malá písmena, takže 'To' a 'to' se počítají jako stejná slova. Nejdříve tento program použijte na soubor ```small.txt``` a potom na ```alice.txt```. Oba tyto soubory se nacházejí ve stejné složce, jako tento notebook.\n",
    "\n",
    "Nápověda: Nesnažte se celý program napsat najednou. Zvolte si jakési mílníky a až jich dosáhnete, tak je odzkoušejte pomocí funkce print() a potom pokračujte dále. (pomocí print() si vytiskněte některé hodnoty programu, abyste se ujistili, že program funguje tak, jak očekáváte.)\n"
   ]
  },
  {
   "cell_type": "markdown",
   "metadata": {},
   "source": [
    "## Cvičení\n",
    "Napište program, který vytiskne klíče a hodnoty slovníku v pořadí:\n",
    "* podle klíče\n",
    "* podle hodnoty\n"
   ]
  },
  {
   "cell_type": "code",
   "execution_count": null,
   "metadata": {
    "collapsed": true
   },
   "outputs": [],
   "source": []
  }
 ],
 "metadata": {
  "kernelspec": {
   "display_name": "Python 3",
   "language": "python",
   "name": "python3"
  },
  "language_info": {
   "codemirror_mode": {
    "name": "ipython",
    "version": 3
   },
   "file_extension": ".py",
   "mimetype": "text/x-python",
   "name": "python",
   "nbconvert_exporter": "python",
   "pygments_lexer": "ipython3",
   "version": "3.6.0"
  }
 },
 "nbformat": 4,
 "nbformat_minor": 0
}

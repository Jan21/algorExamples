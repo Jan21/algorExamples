{
 "cells": [
  {
   "cell_type": "markdown",
   "metadata": {},
   "source": [
    "<style>\n",
    "div.cell, div.text_cell_render{\n",
    "  max-width:760px;\n",
    "  margin-left:auto;\n",
    "  margin-right:auto;\n",
    "}\n",
    "\n",
    ".rendered_html\n",
    "{\n",
    "  font-size: 130%;\n",
    "  }\n",
    "\n",
    ".rendered_html li\n",
    "{\n",
    "  line-height: 1.;\n",
    "  }\n",
    "\n",
    ".rendered_html h1, h2 {\n",
    "  font-familly:\"Charis SIL\", serif;\n",
    "}\n",
    "\n",
    "img { \n",
    "    max-width: 200% !important;\n",
    "    height: auto !important;\n",
    "}\n",
    "\n",
    ".input_prompt, .CodeMirror-lines, .output_area\n",
    "{\n",
    "  font-family: Consolas, monospace;\n",
    "  font-size: 120%;\n",
    "}\n",
    "</style>"
   ]
  },
  {
   "cell_type": "markdown",
   "metadata": {},
   "source": [
    "### Dnešní plán:\n",
    "\n",
    "- Podíváme se na standardní knihovnu pythonu [Python standard library](http://docs.python.org/3/library/):\n",
    "    - random\n",
    "    - datetime\n",
    "- Krátký úvod do vytváření grafů s knihovnou [matplotlib](http://matplotlib.org)\n"
   ]
  },
  {
   "cell_type": "markdown",
   "metadata": {},
   "source": [
    "### Standardní knihovna"
   ]
  },
  {
   "cell_type": "markdown",
   "metadata": {},
   "source": [
    "#### Náhodnost\n",
    "\n",
    "Python obsahuje výbornou knihovnu pro práci s náhodností. Umožňuje nám vytvářet stochastické simulace pomocí pseudonáhodných generátorů čísel.\n",
    "\n",
    "Následující kód tiskne náhodné desetinné čísla v rozmezí 0 až 1 :"
   ]
  },
  {
   "cell_type": "code",
   "execution_count": 2,
   "metadata": {
    "collapsed": false
   },
   "outputs": [
    {
     "name": "stdout",
     "output_type": "stream",
     "text": [
      "0.10039706521802094\n",
      "0.6610144473856652\n",
      "0.42391036608612254\n",
      "0.5334983702254764\n"
     ]
    }
   ],
   "source": [
    "import random\n",
    "\n",
    "for _ in range(4): # podtržítko slouží jako dočasná proměnná (dummy variable)\n",
    "    print(random.random())"
   ]
  },
  {
   "cell_type": "markdown",
   "metadata": {},
   "source": [
    "Řekněme, že chcete náhodně vybírat elementy z listu. To lze provézt následujícím způsobem:"
   ]
  },
  {
   "cell_type": "code",
   "execution_count": 3,
   "metadata": {
    "collapsed": false
   },
   "outputs": [
    {
     "name": "stdout",
     "output_type": "stream",
     "text": [
      "spades\n",
      "diamonds\n",
      "spades\n",
      "clubs\n"
     ]
    }
   ],
   "source": [
    "suit = [\"hearts\", \"diamonds\", \"clubs\",\"spades\"]\n",
    "\n",
    "for _ in range(4): \n",
    "    r = random.random()*len(suit) # r bude číslo v intervalu [0,4)\n",
    "    print(suit[ int(r) ] )\n"
   ]
  },
  {
   "cell_type": "markdown",
   "metadata": {},
   "source": [
    "Jednodušší způsob, jak docílit stejné věci:"
   ]
  },
  {
   "cell_type": "code",
   "execution_count": 4,
   "metadata": {
    "collapsed": false,
    "scrolled": true
   },
   "outputs": [
    {
     "name": "stdout",
     "output_type": "stream",
     "text": [
      "diamonds\n",
      "spades\n",
      "spades\n",
      "clubs\n"
     ]
    }
   ],
   "source": [
    "for _ in range(4):\n",
    "    print(random.choice(suit)) # Modul random má funkci choice"
   ]
  },
  {
   "cell_type": "code",
   "execution_count": 5,
   "metadata": {
    "collapsed": false
   },
   "outputs": [],
   "source": [
    "random.choice?"
   ]
  },
  {
   "cell_type": "markdown",
   "metadata": {},
   "source": [
    "vytvoření listu s náhodně vybranými elementy z jiného listu:"
   ]
  },
  {
   "cell_type": "code",
   "execution_count": 5,
   "metadata": {
    "collapsed": false
   },
   "outputs": [
    {
     "name": "stdout",
     "output_type": "stream",
     "text": [
      "['clubs', 'spades', 'diamonds', 'hearts']\n"
     ]
    }
   ],
   "source": [
    "draws = [ random.choice(suit) for _ in range(4) ]\n",
    "print(draws)"
   ]
  },
  {
   "cell_type": "markdown",
   "metadata": {},
   "source": [
    "Další užitečné funkce z modulu ```random``` jsou  `sample` a`shuffle`:\n",
    "\n",
    "Když používáme funkci `random.choice`, tak vybíráme pokaždé znovu ze stejného listu. To znamená, že může dojít k tomu, že se daný element vybere dvakrát. Pokud chceme vybírat tak, že nelze vybrat stejný element dvakrtát, tak použíjeme funkci `random.sample`:"
   ]
  },
  {
   "cell_type": "code",
   "execution_count": 6,
   "metadata": {
    "collapsed": false
   },
   "outputs": [
    {
     "name": "stdout",
     "output_type": "stream",
     "text": [
      "[109, 450, 721, 296, 969]\n"
     ]
    }
   ],
   "source": [
    "numbers = range(1000)\n",
    "print(random.sample( numbers, 5)) # vybere 5 čísel z listu numbers"
   ]
  },
  {
   "cell_type": "markdown",
   "metadata": {},
   "source": [
    "Někdy je potřeba náhodně zpřěházet elementy v listu. K tomuto slouží funkce **shuffle**:"
   ]
  },
  {
   "cell_type": "code",
   "execution_count": 7,
   "metadata": {
    "collapsed": false
   },
   "outputs": [
    {
     "name": "stdout",
     "output_type": "stream",
     "text": [
      "['kterak', 'v', 'tom', 'světě', 'a', 'věcech', 'jeho', 'všechněch', 'nic', 'není', 'než', 'matení', 'a', 'motání,', 'kolotání', 'a', 'lopotování,', 'mámení', 'a', 'šalba,', 'bída', 'a', 'tesknost,', 'a', 'naposledy', 'omrzení', 'všeho', 'a', 'zoufání;', 'ale', 'kdož', 'doma', 'v', 'srdci', 'svém', 'sedě,', 's', 'jediným', 'Pánem', 'Bohem', 'se', 'uzavírá,', 'ten', 'sám', 'k', 'pravému', 'a', 'plnému', 'mysli', 'upokojení', 'a', 'radosti', 'že', 'přichází.']\n"
     ]
    }
   ],
   "source": [
    "speech = \"\"\"kterak v tom světě a věcech jeho všechněch\n",
    "nic není než matení a motání,\n",
    "kolotání a lopotování,\n",
    "mámení a šalba, bída a tesknost,\n",
    "a naposledy omrzení všeho a zoufání;\n",
    "ale kdož doma v srdci svém sedě,\n",
    "s jediným Pánem Bohem se uzavírá,\n",
    "ten sám k pravému a plnému mysli upokojení\n",
    "a radosti že přichází.\"\"\"\n",
    "\n",
    "list_words = speech.split() # rozdělí řetězec pomocí mezer\n",
    "\n",
    "print(list_words)\n"
   ]
  },
  {
   "cell_type": "code",
   "execution_count": 8,
   "metadata": {
    "collapsed": false
   },
   "outputs": [
    {
     "name": "stdout",
     "output_type": "stream",
     "text": [
      "['uzavírá,', 'není', 'plnému', 'a', 'k', 'a', 'a', 'srdci', 'a', 'ten', 'se', 'svém', 'upokojení', 'a', 'a', 'všechněch', 'zoufání;', 'mysli', 'že', 'v', 'v', 'Pánem', 'nic', 'přichází.', 'kolotání', 'a', 'jediným', 'lopotování,', 'motání,', 'tesknost,', 'kterak', 'naposledy', 'radosti', 'pravému', 'všeho', 'jeho', 's', 'než', 'doma', 'bída', 'mámení', 'sám', 'světě', 'tom', 'matení', 'věcech', 'sedě,', 'a', 'a', 'šalba,', 'omrzení', 'Bohem', 'ale', 'kdož']\n"
     ]
    }
   ],
   "source": [
    "random.shuffle(list_words) # zpřehází elementy listu\n",
    "print(list_words)"
   ]
  },
  {
   "cell_type": "markdown",
   "metadata": {},
   "source": [
    "***\n",
    "\n",
    "### Práce s daty a časem\n",
    "\n",
    "Při tvorbě programu je často potřeba pracovat s časem. Za tímto účelem python poskytuje modul `datetime`.\n",
    "Tento modul obsahuje funkce `date`, `time`, a `datetime`, které slouží k ukládání data, času, nebo obou zároveň."
   ]
  },
  {
   "cell_type": "code",
   "execution_count": 4,
   "metadata": {
    "collapsed": false
   },
   "outputs": [],
   "source": [
    "import datetime\n",
    "\n",
    "D1 = datetime.date(1986, 4, 21)\n",
    "T1 = datetime.time(12,0,0) # 12 hodin 0 minut 0 sekund\n",
    "DT = datetime.datetime(1986, 4, 21, 12, 15, 0)\n",
    "\n",
    "# pokud u funkce datetime vynecháme čas, tak se defaultně nastaví na půlnoc\n",
    "D = datetime.datetime(1986,4,22)"
   ]
  },
  {
   "cell_type": "markdown",
   "metadata": {},
   "source": [
    "Jakmile máme k dispozici objekt datetime, můžeme s ním provádět následující:"
   ]
  },
  {
   "cell_type": "code",
   "execution_count": 14,
   "metadata": {
    "collapsed": false
   },
   "outputs": [
    {
     "name": "stdout",
     "output_type": "stream",
     "text": [
      "Byl rok 1986, 22 den v měsíci.\n",
      "Byl to 2. den v týdnu\n"
     ]
    }
   ],
   "source": [
    "print(\"Byl rok %i, %i den v měsíci.\" % (D.year, D.day))\n",
    "\n",
    "print(\"Byl to %i. den v týdnu\" % (D.weekday()+1)) # pondělí=0, úterý=1, atd.\n"
   ]
  },
  {
   "cell_type": "markdown",
   "metadata": {},
   "source": [
    "Důležité je, že datetime umožňuje matematické operace s časem:"
   ]
  },
  {
   "cell_type": "code",
   "execution_count": 15,
   "metadata": {
    "collapsed": false
   },
   "outputs": [
    {
     "name": "stdout",
     "output_type": "stream",
     "text": [
      "11295 days, 17:50:07.384589\n"
     ]
    }
   ],
   "source": [
    "Dnow = datetime.datetime.now()\n",
    "\n",
    "print(Dnow - D)"
   ]
  },
  {
   "cell_type": "markdown",
   "metadata": {},
   "source": [
    "rozdíl dvou objektů typu datetime vytvoří objekt typu `timedelta`:"
   ]
  },
  {
   "cell_type": "code",
   "execution_count": 17,
   "metadata": {
    "collapsed": false
   },
   "outputs": [
    {
     "name": "stdout",
     "output_type": "stream",
     "text": [
      "<class 'datetime.timedelta'>\n",
      "Mezi dneškem a datem D je 11295 dnů.\n"
     ]
    }
   ],
   "source": [
    "dt = Dnow - D\n",
    "print(type(dt))\n",
    "print(\"Mezi dneškem a datem D je %i dnů.\" % dt.days)"
   ]
  },
  {
   "cell_type": "markdown",
   "metadata": {},
   "source": [
    "Objekt `timedelta` umožňuje vytvářet časové intervaly:"
   ]
  },
  {
   "cell_type": "code",
   "execution_count": 19,
   "metadata": {
    "collapsed": false
   },
   "outputs": [
    {
     "name": "stdout",
     "output_type": "stream",
     "text": [
      "Za 100.5 dní bude 2017-07-04 06:31:46.505531.\n"
     ]
    }
   ],
   "source": [
    "interval = datetime.timedelta(days=100,hours=12) # 100.5 dní\n",
    "\n",
    "soon = datetime.datetime.now() + interval \n",
    "\n",
    "interval_days = interval.total_seconds()/3600.0/24 #počet dní\n",
    "\n",
    "print(\"Za %0.1f dní bude %s.\" % (interval_days, soon))\n"
   ]
  },
  {
   "cell_type": "markdown",
   "metadata": {},
   "source": [
    "Často potřebujeme data tisknout nebo načítat v různých formátech. Například zde jsou dvě data v dvou různých formátech."
   ]
  },
  {
   "cell_type": "code",
   "execution_count": 21,
   "metadata": {
    "collapsed": false
   },
   "outputs": [],
   "source": [
    "ts1 = \"2012-04-26\"\n",
    "ts2 = \"January 5, 1978\""
   ]
  },
  {
   "cell_type": "markdown",
   "metadata": {},
   "source": [
    "Pokud chceme z výše uvedených řetězců vytvořit objekt datetime s kterým lze pracovat, tak to provedeme pomocí funkce strptime (je to zkratka pro \"**str**ing **p**arse\" **time**\"). \n"
   ]
  },
  {
   "cell_type": "code",
   "execution_count": 18,
   "metadata": {
    "collapsed": false
   },
   "outputs": [
    {
     "name": "stdout",
     "output_type": "stream",
     "text": [
      "2012-04-26 00:00:00\n",
      "2012-04-19 00:00:00\n"
     ]
    }
   ],
   "source": [
    "d1 = datetime.datetime.strptime( ts1, \"%Y-%m-%d\" ) # \"%Y-%m-%d\" je formát year month day\n",
    "print(d1)\n",
    "print(d1 + datetime.timedelta(days=-7))"
   ]
  },
  {
   "cell_type": "markdown",
   "metadata": {},
   "source": [
    "(`%Y`) je značka pro čtyřmístné číslo pro rok, (`%m`) je dvoumístné číslo pro měsíc, (`%d`) číslo pro den.\n",
    "\n",
    "ts2 obsahuje řetězec s datem v jiném formátu, proto musíme použít jiné značky (`%B` je značka pro jméno měsíce)."
   ]
  },
  {
   "cell_type": "code",
   "execution_count": 22,
   "metadata": {
    "collapsed": false
   },
   "outputs": [
    {
     "name": "stdout",
     "output_type": "stream",
     "text": [
      "1978-01-05 00:00:00\n",
      "1978-01-12 00:00:00\n"
     ]
    }
   ],
   "source": [
    "d2 = datetime.datetime.strptime( ts2, \"%B %d, %Y\" )\n",
    "print(d2)\n",
    "print(d2 - datetime.timedelta(days=-7))"
   ]
  },
  {
   "cell_type": "markdown",
   "metadata": {},
   "source": [
    "Existuje mnoho formátů, v kterých lze zapsat datum. Pro konkrétní případ je nejlepší použít dokumentaci: http://docs.python.org/2/library/datetime.html#strftime-strptime-behavior\n",
    "\n",
    "Symetricky k funkci `strptime` existuje funkce `strftime` (string format time), která dělá pravý opak. Z objektu datetime vytvoří řetězec s časovými údaji."
   ]
  },
  {
   "cell_type": "code",
   "execution_count": 23,
   "metadata": {
    "collapsed": false
   },
   "outputs": [
    {
     "name": "stdout",
     "output_type": "stream",
     "text": [
      "Jan 19, '89 ---> 1989-01-19\n"
     ]
    }
   ],
   "source": [
    "s_before = \"Jan 19, '89\"\n",
    "d = datetime.datetime.strptime(\"Jan 19, '89\", \"%b %d, '%y\")\n",
    "s_after  = d.strftime(\"%Y-%m-%d\")\n",
    "print(s_before, \"--->\", s_after)"
   ]
  },
  {
   "cell_type": "markdown",
   "metadata": {},
   "source": [
    "## Cvičení\n",
    "* Napište program v pythonu, který od dnešního data odečte 5 dní.\n",
    "* Napište program v pythonu, který k dnešnímu datu přičte 5 sekund.\n",
    "* Napište program v pythonu, který vytiskne list datumů, které se nachází mezi dvěmi daty, které zadá uživatel."
   ]
  },
  {
   "cell_type": "markdown",
   "metadata": {},
   "source": [
    "##### Čas od počátku epochy.\n"
   ]
  },
  {
   "cell_type": "code",
   "execution_count": 1,
   "metadata": {
    "collapsed": false
   },
   "outputs": [
    {
     "name": "stdout",
     "output_type": "stream",
     "text": [
      "1490522690.773432\n"
     ]
    }
   ],
   "source": [
    "import time # jiný modul pro práci s časem!\n",
    "\n",
    "print(time.time())"
   ]
  },
  {
   "cell_type": "markdown",
   "metadata": {},
   "source": [
    "Tato funkce poskytuje jiný způsob jak zjistit momentální čas, který je uložen jako počet sekund od počátku epochy."
   ]
  },
  {
   "cell_type": "code",
   "execution_count": 2,
   "metadata": {
    "collapsed": false
   },
   "outputs": [
    {
     "name": "stdout",
     "output_type": "stream",
     "text": [
      "47.26416941308577\n"
     ]
    }
   ],
   "source": [
    "t = time.time()\n",
    "y = t / 60 / 60 / 24 / 365 # když pomineme přechodné roky!\n",
    "print(y)"
   ]
  },
  {
   "cell_type": "markdown",
   "metadata": {},
   "source": [
    "Od počátku epochy uplynulo necelých 50 let?"
   ]
  },
  {
   "cell_type": "code",
   "execution_count": 5,
   "metadata": {
    "collapsed": false
   },
   "outputs": [
    {
     "name": "stdout",
     "output_type": "stream",
     "text": [
      "1970-01-01 01:59:59.999999\n"
     ]
    }
   ],
   "source": [
    "days_delta = time.time() / 60 / 60 / 24\n",
    "print(datetime.datetime.now() - datetime.timedelta(days=days_delta))"
   ]
  },
  {
   "cell_type": "markdown",
   "metadata": {},
   "source": [
    "Počátek epochy je určen na rok vzniku operačního systému UNIX [UNIX epoch](http://en.wikipedia.org/wiki/Unix_time), Jan 1, 1970.\n",
    "\n",
    "Unix byl vyvinut Denisem Ritchiem a Keneme Thompsonem:\n",
    "\n",
    "&nbsp;&nbsp;&nbsp;&nbsp;&nbsp;<img src=\"https://upload.wikimedia.org/wikipedia/commons/8/8f/Ken_Thompson_(sitting)_and_Dennis_Ritchie_at_PDP-11_(2876612463).jpg\" alt=\"Dennis Ritchie and Ken Thompson\" style=\"width: 500px;\">\n"
   ]
  },
  {
   "cell_type": "markdown",
   "metadata": {},
   "source": [
    "# Vytváření grafů pomocí knihovny Matplotlib\n",
    "\n",
    "* [Matplotlib](http://matplotlib.org) je velmi užitečná knihovna pro výtváření věděckých ilustrací a grafů. Mezi její užitečné vlastnosti patří:\n",
    "\n",
    "* Je jednoduché s ní začít pracovat\n",
    "* Podporuje značkovací jazyk $\\LaTeX$ \n",
    "* Umožňuje kontrolovat každy prvek výsledného obrázku, včetně velikosti a rozlišení. \n",
    "* Umožňuje vytvářet obrázky v mnoha formátech jako např.: PNG, PDF, SVG, EPS, a PGF.\n",
    "\n",
    "Jedna z nejdůležitějších vlastností knihovny matplotlib je to, že všechny prvky obrázku lze kontrolovat *programaticky*. To je důležité pro reprodukovatelnost, nebo když chceme vygenerovat stejné obrázky, ale s jinými daty. Toto činí matplotlib velmi užitečným pro vědecké publikace.\n",
    "\n",
    "Zde lze shlédnout, co vše lze pomocí této knihovny vytvořit: [galerie grafů](http://matplotlib.org/gallery.html)  "
   ]
  },
  {
   "cell_type": "markdown",
   "metadata": {},
   "source": [
    "## API jako v MATLABU\n",
    "\n",
    "Matplotlib postkytuje více způsobů jak zadávat příkazy. Jeden z nejjednodušších je stejný jako v programu MATLAB.\n",
    "Pokud ještě nemáte nainstalovanou knihovnu matplotlib, naistalujte ji v příkazovém řádku pomocí příkazu conda install matplotlib.\n",
    "Jestli je nebo není nainstalovaná poznáte podle toho, jestli vám následující buňka vyhodí chybu.\n"
   ]
  },
  {
   "cell_type": "code",
   "execution_count": 10,
   "metadata": {
    "collapsed": false
   },
   "outputs": [],
   "source": [
    "import matplotlib\n",
    "import matplotlib.pyplot as plt # z modulu matplotlib naimportujeme třídu pyplot a budeme ji používat pod zkratkou plt\n",
    "# následující řádek nám umožní zobrazovat grafy přímo v tomto notebooku.\n",
    "%matplotlib inline   "
   ]
  },
  {
   "cell_type": "code",
   "execution_count": 11,
   "metadata": {
    "collapsed": false
   },
   "outputs": [],
   "source": [
    "x = range(0, 10)\n",
    "y = [i ** 2 for i in x]"
   ]
  },
  {
   "cell_type": "code",
   "execution_count": 13,
   "metadata": {
    "collapsed": false
   },
   "outputs": [
    {
     "data": {
      "text/plain": [
       "<matplotlib.text.Text at 0x819dfd0>"
      ]
     },
     "execution_count": 13,
     "metadata": {},
     "output_type": "execute_result"
    },
    {
     "data": {
      "image/png": "[encoded data removed]",
      "text/plain": [
       "<matplotlib.figure.Figure at 0x80ad908>"
      ]
     },
     "metadata": {},
     "output_type": "display_data"
    }
   ],
   "source": [
    "# Pokud používáte MATLAB, tak si můžete uvědomit, že následující příkazy jsou úplně stejné jako v MATLABU, akorát s předponou plt.\n",
    "plt.figure()\n",
    "plt.plot(x, y, 'r')\n",
    "plt.xlabel('x')\n",
    "plt.ylabel('y')\n",
    "plt.title('název')"
   ]
  },
  {
   "cell_type": "markdown",
   "metadata": {},
   "source": [
    "Většina příkazů pro vytváření grafů v matlabu má alternativu v knihovně matplotlib. Například podgrafy a barevné schémata se vytvářejí následovně:"
   ]
  },
  {
   "cell_type": "code",
   "execution_count": 18,
   "metadata": {
    "collapsed": false
   },
   "outputs": [
    {
     "data": {
      "text/plain": [
       "[<matplotlib.lines.Line2D at 0x878a780>]"
      ]
     },
     "execution_count": 18,
     "metadata": {},
     "output_type": "execute_result"
    },
    {
     "data": {
      "image/png": "[encoded data removed]",
      "text/plain": [
       "<matplotlib.figure.Figure at 0x8692080>"
      ]
     },
     "metadata": {},
     "output_type": "display_data"
    }
   ],
   "source": [
    "plt.subplot(1,2,1)\n",
    "plt.plot(x, y, 'r--') #red a čárka\n",
    "plt.subplot(1,2,2)\n",
    "plt.plot(y, x, 'g*-') # green a hvězdička"
   ]
  },
  {
   "cell_type": "markdown",
   "metadata": {},
   "source": [
    "Výhoda tohoto stylu zadávání příkazů je to, že je lehké s ním začít. Nicméně se doporučuje jej nepoužívat pro komplexnější grafy. Namísto toho se doporučuje zadávat příkazy pomocí objektově orientované API, které je mnohem mocnější. "
   ]
  },
  {
   "cell_type": "code",
   "execution_count": null,
   "metadata": {
    "collapsed": true
   },
   "outputs": [],
   "source": []
  }
 ],
 "metadata": {
  "kernelspec": {
   "display_name": "Python 2",
   "language": "python",
   "name": "python2"
  },
  "language_info": {
   "codemirror_mode": {
    "name": "ipython",
    "version": 2
   },
   "file_extension": ".py",
   "mimetype": "text/x-python",
   "name": "python",
   "nbconvert_exporter": "python",
   "pygments_lexer": "ipython2",
   "version": "2.7.11"
  }
 },
 "nbformat": 4,
 "nbformat_minor": 0
}
